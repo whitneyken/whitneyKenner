{
 "cells": [
  {
   "cell_type": "markdown",
   "metadata": {},
   "source": [
    "# Notebooks and Python Basics\n",
    "\n",
    "Welcome to your first Jupyter notebook! This will be our main working environment for this class.\n",
    "These notes, and many others are adapted from the COMP 5360 Data Science course.\n",
    "\n",
    "# Jupyter Notebook Basics\n",
    "\n",
    "First, let's get familiar with Jupyter Notebooks. \n",
    "\n",
    "Notebooks are made up of \"cells\" that can contain text or code. Notebooks also show you output of the code right below a code cell. These words are written in a text cell using a simple formatting dialect called [markdown](http://jupyter-notebook.readthedocs.io/en/latest/examples/Notebook/Working%20With%20Markdown%20Cells.html). \n",
    "\n",
    "Double click on this cell text or press enter while the cell is selected to see how it is formatted and change it. We can make words *italic* or **bold** or add [links](http://datasciencecourse.net) or include pictures:\n",
    "\n",
    "![Data science cat](datasciencecat.jpg)\n",
    "\n",
    "The content of the notebook, as you edit in your browser, is written to the `.ipynb` file we provided. \n",
    "\n",
    "If you want to read up on Notebooks in details check out the [excellent documentation](http://jupyter-notebook.readthedocs.io/en/latest/notebook.html).\n",
    "\n",
    "The most interesting aspect of notebooks, however, is that we can write code in the cells cells. You can use [many different programming languages](https://github.com/jupyter/jupyter/wiki/Jupyter-kernels) in Jupyter notebooks, but we'll stick to Python. So, let's try it out:"
   ]
  },
  {
   "cell_type": "code",
   "execution_count": 26,
   "metadata": {
    "scrolled": true
   },
   "outputs": [
    {
     "name": "stdout",
     "output_type": "stream",
     "text": [
      "Hello World with edits!\n",
      "a string\n"
     ]
    }
   ],
   "source": [
    "print (\"Hello World with edits!\")\n",
    "a = \"a string\"\n",
    "# the return value of the last line of a cell is the output\n",
    "print(a);"
   ]
  },
  {
   "cell_type": "code",
   "execution_count": 27,
   "metadata": {},
   "outputs": [],
   "source": [
    "a = 5"
   ]
  },
  {
   "cell_type": "markdown",
   "metadata": {},
   "source": [
    "Again, we've greeted the world out there using the print function. \n",
    "\n",
    "We also assigned a variable and returned it, which makes it the output of this cell. Notice that the output here is directly written into the notebook. \n",
    "\n",
    "You can change something in a cell and re-run it using the \"run cell\" button in the toolbar. \n",
    "\n",
    "Another cool thing about cells is that they preserve the state of what happened before. Let's initialize a couple of variables in the next cell: "
   ]
  },
  {
   "cell_type": "code",
   "execution_count": 28,
   "metadata": {},
   "outputs": [],
   "source": [
    "age = 2\n",
    "gender = \"female\"\n",
    "name = \"Datascience Cat\"\n",
    "smart = True"
   ]
  },
  {
   "cell_type": "code",
   "execution_count": 29,
   "metadata": {},
   "outputs": [],
   "source": [
    "smart = \"yes\""
   ]
  },
  {
   "cell_type": "markdown",
   "metadata": {},
   "source": [
    "These variables are now available to all cell below or above **if you executed the cell**. In practice, you should never rely on a variable from a lower cell in an earlier cell. \n",
    "\n",
    "If you make a change to a cell, you need to execute it again. You can also batch-executed multiple cells using the \"Cell\" menue in the toolbar. \n",
    "\n",
    "Let's do something with the variables we just defined:"
   ]
  },
  {
   "cell_type": "code",
   "execution_count": 30,
   "metadata": {},
   "outputs": [
    {
     "name": "stdout",
     "output_type": "stream",
     "text": [
      "Datascience Cat, age: 2, female, is smart: yes\n"
     ]
    }
   ],
   "source": [
    "print (name + \", age: \" + str(age) + \", \" + \n",
    "       gender + \", is smart: \" + str(smart))"
   ]
  },
  {
   "cell_type": "markdown",
   "metadata": {},
   "source": [
    "In the previous cell, we've [concatenated a couple of strings](https://docs.python.org/3.5/tutorial/introduction.html#strings) to produce one longer string using the `+` operator. Also, we had to call the `str()` function to get [string representations of these variables](https://docs.python.org/3.5/library/stdtypes.html#str)."
   ]
  },
  {
   "cell_type": "code",
   "execution_count": 31,
   "metadata": {
    "scrolled": true
   },
   "outputs": [
    {
     "name": "stdout",
     "output_type": "stream",
     "text": [
      "Datascience Cat, age: 2, female, is smart: yes\n"
     ]
    }
   ],
   "source": [
    "print (name, \", age: \", str(age), \", \", gender, \", is smart: \" + str(smart), sep=\"\")"
   ]
  },
  {
   "cell_type": "code",
   "execution_count": 32,
   "metadata": {},
   "outputs": [
    {
     "data": {
      "text/plain": [
       "'female'"
      ]
     },
     "metadata": {},
     "output_type": "display_data"
    }
   ],
   "source": [
    "display(gender)"
   ]
  },
  {
   "cell_type": "code",
   "execution_count": 33,
   "metadata": {},
   "outputs": [
    {
     "data": {
      "text/plain": [
       "'female'"
      ]
     },
     "execution_count": 33,
     "metadata": {},
     "output_type": "execute_result"
    }
   ],
   "source": [
    "gender"
   ]
  },
  {
   "cell_type": "markdown",
   "metadata": {},
   "source": [
    "## Modes\n",
    "\n",
    "Notebooks have two modes, a **command mode** and **edit mode**. You can see which mode you're in by the color of the cell: green means edit mode, blue means command mode. Many operations depend on your mode. You can switch into edit mode with \"Enter\", and get out of it with \"Escape\". \n",
    "\n",
    "## Shortucts\n",
    "\n",
    "While you can always use the tool-bar above, you'll be much more efficient if you use a couple of shortcuts. The most important ones are:\n",
    "\n",
    "**`Ctrl+Enter`** runs the current cell.  \n",
    "**`Shift+Enter`** runs the current cell and jumps to the next cell.   \n",
    "**`Alt+Enter`** runs the cell and adds a new one below it.\n",
    "\n",
    "In command mode:\n",
    "**`h`** shows a help menu with all these commands.  \n",
    "**`a`** adds a cell before the current cell.  \n",
    "**`b`** adds a cell after the current cell.  \n",
    "**`dd`** deletes a cell.  \n",
    "**`m`** as in **m**markdown, switches a cell to markdown mode.  \n",
    "**`y`** as in p**y**thon switches a cell to code.  \n",
    "\n",
    "**Take a couple minutes to flip through the help->keyboard shortcuts menu (or press \"h\" in command mode).  It's well worth your time**\n",
    "\n",
    "## Kernels\n",
    "\n",
    "When you [run code](http://jupyter-notebook.readthedocs.io/en/latest/examples/Notebook/Running%20Code.html), the code is actually executed in a **kernel**. You can do bad thinks to a kernel: you can make it stuck in an endless loop, crash it, corrupt it, etc. And you probably will do all of these things :). So sometimes you might have to interrupt your kernel or restart it. Use the \"Kernel\" menu to restart the kernel, re-run your notebook, etc.  We'll be using Python mostly for this class, but you can actually install Kernels for a bunch of different languages [see here](https://github.com/jupyter/jupyter/wiki/Jupyter-kernels).\n",
    "\n",
    "Also, before submitting a homework or a project, make sure to `Restart and Run All`. This will create a clean run of your project, without any side effects that you might encounter during development. We want you to submit the homeworks **with output**, and by doing that you will make sure that we actually can also execute your code properly.\n",
    "\n",
    "## Storing Output\n",
    "\n",
    "Notebooks contain both, the input to a computation and the outputs. If you run a notebook, all the outputs generated by the code cells are also stored in the notebook. That way, you can look at notebooks also in non-interactive environments, like on Github.\n",
    "\n",
    "The Notebook itself is stored in a rather ugly format containing the text, code, and the output. This can sometimes be challenging when working with version control."
   ]
  },
  {
   "cell_type": "markdown",
   "metadata": {
    "collapsed": true
   },
   "source": [
    "### Exercise: Creating Cells, Executing Code\n",
    "\n",
    "1. Create a new code cell below where you define variables containing your name, your age in years, and your major.\n",
    "2. Create another cell that uses these variables and prints a concatenated string stating your name, major, and your age in years, months, and days (assuming today is your birthday ;)). The output should look like that:\n",
    "\n",
    "```\n",
    "Name: Science Cat, Major: Computer Science, Age: 94 years, or 1128 months, or 34310 days. \n",
    "```"
   ]
  },
  {
   "cell_type": "code",
   "execution_count": 34,
   "metadata": {},
   "outputs": [
    {
     "data": {
      "text/plain": [
       "{'CodeCell': {'cm_config': {'autoCloseBrackets': False}}}"
      ]
     },
     "execution_count": 34,
     "metadata": {},
     "output_type": "execute_result"
    }
   ],
   "source": [
    "#To turn off auto closing quotes/parens if you're using the browser-editor, run this cell\n",
    "from notebook.services.config import ConfigManager\n",
    "c = ConfigManager()\n",
    "c.update('notebook', {\"CodeCell\": {\"cm_config\": {\"autoCloseBrackets\": False}}})\n"
   ]
  },
  {
   "cell_type": "markdown",
   "metadata": {},
   "source": [
    "# Python Basics\n",
    "\n",
    "## Functions\n",
    "\n",
    "In math, functions transfrom an input to an output as defined by the property of the function. \n",
    "\n",
    "You probably remember functions defined like this\n",
    "\n",
    "$f(x) = x^2 + 3$\n",
    "\n",
    "In programming, functions can do exactly this, but are also used to execute \"subroutines\", i.e., to execute pieces of code in various order and under various conditions. Functions in programming are very important for structuring and modularizing code. In computer science, functions are also called \"procedures\" and \"methods\" (there are subtle distinctions, but nothing we need to worry about at this time). The following Python function, for example, provides the output of the above defined function for every valid input: \n"
   ]
  },
  {
   "cell_type": "code",
   "execution_count": 35,
   "metadata": {},
   "outputs": [],
   "source": [
    "def f(x):\n",
    "    result = x ** 2 + 3 \n",
    "    return result"
   ]
  },
  {
   "cell_type": "code",
   "execution_count": 36,
   "metadata": {},
   "outputs": [
    {
     "name": "stdout",
     "output_type": "stream",
     "text": [
      "hello\n",
      "None\n"
     ]
    }
   ],
   "source": [
    "def dumb(x):\n",
    "    if x > 0: \n",
    "        return \"hello\"\n",
    "    else:\n",
    "        pass\n",
    "print(dumb(5))\n",
    "print(dumb(-5))"
   ]
  },
  {
   "cell_type": "code",
   "execution_count": 37,
   "metadata": {},
   "outputs": [],
   "source": [
    "def lessDumb(x):\n",
    "    if x < 0:\n",
    "        pass\n",
    "    else:\n",
    "        print(\"this is what I care about\")"
   ]
  },
  {
   "cell_type": "markdown",
   "metadata": {},
   "source": [
    "We can now run this function with multiple input values: "
   ]
  },
  {
   "cell_type": "code",
   "execution_count": 38,
   "metadata": {},
   "outputs": [
    {
     "name": "stdout",
     "output_type": "stream",
     "text": [
      "7\n",
      "12\n"
     ]
    },
    {
     "data": {
      "text/plain": [
       "28"
      ]
     },
     "execution_count": 38,
     "metadata": {},
     "output_type": "execute_result"
    }
   ],
   "source": [
    "print(f(2))\n",
    "print(f(3))\n",
    "f(5)"
   ]
  },
  {
   "cell_type": "markdown",
   "metadata": {},
   "source": [
    "Let's take a look at this function. The first line\n",
    "```python\n",
    "def f(x):\n",
    "```\n",
    "defines the function of name `f` using the `def` keyword. The name we use (`f` here) is largely arbitrary, but following good software engineering practices it should be something meaningful. So instead of `f`, **`square_plus_three` would be a better function name in this case**.  \n",
    "\n",
    "After the function name follows a list of parameters, in parantheses. In this case we define that the function takes only one parameter, `x`, but we could also define multiple parameters like this:\n",
    "```python \n",
    "def f(x, y, z):\n",
    "```\n",
    "\n",
    "The parameters are then available as local variables within the function.\n",
    "\n",
    "The second line does the actual computation and assigns it to a **local variable** called `result`. \n",
    "\n",
    "The third line uses the `return` keyword to return the result variable. Functions have a return value, that we can assign to a variable. For example, here we could write: \n",
    "\n",
    "```python\n",
    "my_result = f(10)\n",
    "``` \n",
    "\n",
    "Which would assign the return value of the function to the variable `my_result`.\n",
    "\n",
    "Note that the lines of code that belong to a function are **indented by four spaces** (you can hit tab to intend, but it will be converted to four spaces). Python defines the scope of a function using indentation. Many other programming languages use curly brackets {} to do this. A function is ended by a new line.\n",
    "\n",
    "For example, the same function wouldn't work like this:\n"
   ]
  },
  {
   "cell_type": "code",
   "execution_count": 39,
   "metadata": {},
   "outputs": [
    {
     "ename": "SyntaxError",
     "evalue": "'return' outside function (<ipython-input-39-e3a6854301c6>, line 4)",
     "output_type": "error",
     "traceback": [
      "\u001b[0;36m  File \u001b[0;32m\"<ipython-input-39-e3a6854301c6>\"\u001b[0;36m, line \u001b[0;32m4\u001b[0m\n\u001b[0;31m    return result\u001b[0m\n\u001b[0m    ^\u001b[0m\n\u001b[0;31mSyntaxError\u001b[0m\u001b[0;31m:\u001b[0m 'return' outside function\n"
     ]
    }
   ],
   "source": [
    "def f(x):\n",
    "    result = x ** 2 + 3\n",
    "# Throws a SyntaxError becauser return isn't defined outside the function\n",
    "return result"
   ]
  },
  {
   "cell_type": "markdown",
   "metadata": {},
   "source": [
    "Equally, we can't indent by too much:"
   ]
  },
  {
   "cell_type": "code",
   "execution_count": null,
   "metadata": {},
   "outputs": [],
   "source": [
    "def f(x):\n",
    "    result = x ** 2 + 3\n",
    "    # Throws an IndentationError\n",
    "        return result"
   ]
  },
  {
   "cell_type": "markdown",
   "metadata": {},
   "source": [
    "## Scope\n",
    "\n",
    "Another critical concept when working with functions is to understand the scope of a variable. Scope defines under which circumstances a variable is accessible. For example, in the following code snippet we cannot access the variable defined inside a function:"
   ]
  },
  {
   "cell_type": "code",
   "execution_count": null,
   "metadata": {},
   "outputs": [],
   "source": [
    "def scope_test():\n",
    "    function_scope = \"only readable in here\"\n",
    "    # Within the function, we can use the variable we have defined\n",
    "    print(\"Within function: \" + function_scope)"
   ]
  },
  {
   "cell_type": "code",
   "execution_count": null,
   "metadata": {},
   "outputs": [],
   "source": [
    "# calling the function, which will print     \n",
    "scope_test()"
   ]
  },
  {
   "cell_type": "code",
   "execution_count": null,
   "metadata": {},
   "outputs": [],
   "source": [
    "# If we try to use the function_scope variable outside of the function, we will find that it is not defined. \n",
    "# This will throw a NameError, because Python doesn't know about that variable here\n",
    "print(\"Outside function: \" + function_scope)"
   ]
  },
  {
   "cell_type": "code",
   "execution_count": 41,
   "metadata": {},
   "outputs": [
    {
     "name": "stdout",
     "output_type": "stream",
     "text": [
      "10\n"
     ]
    }
   ],
   "source": [
    "x = 7\n",
    "if x > 6:\n",
    "    yello = 10\n",
    "print(yello)"
   ]
  },
  {
   "cell_type": "markdown",
   "metadata": {},
   "source": [
    "You might wonder \"Why is that? Wouldn't it make sense to have access to variables wherever I need access?\". The reason for scoping is that it's simply much easier to **build reliable software when we modularize code**. When we use a function, we shouldn't have to worry about its internals. \n",
    "\n",
    "Another practical reason is that this way we can **re-use variable names** that were used in other places. This is really important when we work with other peoples' code (e.g., libraries). If that weren't possible, we might get nasty side-effects just because the library uses a variable with the same name somewhere. \n",
    "\n",
    "You can, however, use variables defined in the larger scope in the sub-scope:"
   ]
  },
  {
   "cell_type": "code",
   "execution_count": null,
   "metadata": {},
   "outputs": [],
   "source": [
    "name = \"Science Cat\"\n",
    "\n",
    "def print_name_with_dr():\n",
    "    print(\"Dr.\", name)\n",
    "    \n",
    "print_name_with_dr()"
   ]
  },
  {
   "cell_type": "markdown",
   "metadata": {},
   "source": [
    "This is generally not considered good practice - functions should rely on their input parameters. Otherwise it can easily lead to side effects. This would be the better approach: "
   ]
  },
  {
   "cell_type": "code",
   "execution_count": null,
   "metadata": {},
   "outputs": [],
   "source": [
    "# notice that we're re-using the parameter name\n",
    "def print_name_with_dr(name):\n",
    "    print(\"Dr.\", name)\n",
    "    \n",
    "print_name_with_dr(name)"
   ]
  },
  {
   "cell_type": "markdown",
   "metadata": {},
   "source": [
    "Finally, there is a way to define a variable within a function for use outside its scope by using the global keyword. There are reasons to do this, however, it is generally discouraged."
   ]
  },
  {
   "cell_type": "code",
   "execution_count": null,
   "metadata": {},
   "outputs": [],
   "source": [
    "def scope_test():\n",
    "    # Think long and hard before you do this - generally you shoudln't\n",
    "    global global_scope\n",
    "    global_scope = \"defined in the function, global scope\"\n",
    "    # Within the function, we can use the variable we have defined\n",
    "    print(\"Within function: \" + global_scope)\n",
    "\n",
    "scope_test()\n",
    "# Since this is defined as global we can also print the variable here\n",
    "print(\"Outside function: \" + global_scope)"
   ]
  },
  {
   "cell_type": "markdown",
   "metadata": {},
   "source": [
    "## Data Types and Operators"
   ]
  },
  {
   "cell_type": "markdown",
   "metadata": {},
   "source": [
    "We've already covered the basic data types and operators. Now we'll recap and go into some more details.\n",
    "\n",
    "Also, make sure to check out the complete documentation of standard types and operations."
   ]
  },
  {
   "cell_type": "markdown",
   "metadata": {},
   "source": [
    "### Boolean"
   ]
  },
  {
   "cell_type": "markdown",
   "metadata": {},
   "source": [
    "Boolean values represent truth values True and False. Booleans can be used as any other variable:"
   ]
  },
  {
   "cell_type": "code",
   "execution_count": null,
   "metadata": {},
   "outputs": [],
   "source": [
    "my_true_var = True\n",
    "print (my_true_var)\n",
    "my_false_var = False\n",
    "print (my_false_var)"
   ]
  },
  {
   "cell_type": "markdown",
   "metadata": {},
   "source": [
    "True and False are reserved keywords in their capitalized form.\n",
    "\n",
    "There are three operations defined on booleans: and, or, and not.\n",
    "\n",
    "Operation\tResult\n",
    "x or y\tif x is false, then y, else x\n",
    "x and y\tif x is false, then x, else y\n",
    "not x\tif x is false, then True, else False"
   ]
  },
  {
   "cell_type": "code",
   "execution_count": 43,
   "metadata": {},
   "outputs": [
    {
     "data": {
      "text/plain": [
       "True"
      ]
     },
     "execution_count": 43,
     "metadata": {},
     "output_type": "execute_result"
    }
   ],
   "source": [
    "True or False"
   ]
  },
  {
   "cell_type": "code",
   "execution_count": null,
   "metadata": {},
   "outputs": [],
   "source": [
    "True and False"
   ]
  },
  {
   "cell_type": "code",
   "execution_count": null,
   "metadata": {},
   "outputs": [],
   "source": [
    "not True"
   ]
  },
  {
   "cell_type": "code",
   "execution_count": null,
   "metadata": {},
   "outputs": [],
   "source": [
    "not False"
   ]
  },
  {
   "cell_type": "markdown",
   "metadata": {},
   "source": [
    "### Comparisons"
   ]
  },
  {
   "cell_type": "markdown",
   "metadata": {},
   "source": [
    "Comparisons are very important in programming: they let us decide on conditional flows, which we will discuss later. To compare two entities, Python provides eight comparison operators:\n",
    "\n",
    "Operation\tMeaning\n",
    "<\tstrictly less than\n",
    "\n",
    "<=\tless than or equal\n",
    "\n",
    "\\>\tstrictly greater than\n",
    "\n",
    "\\>=\tgreater than or equal\n",
    "\n",
    "==\tequal\n",
    "\n",
    "!=\tnot equal\n",
    "\n",
    "is\tobject identity\n",
    "\n",
    "is not\tnegated object identity\n",
    "\n",
    "These operators take two operands and return a boolean. We'll glance over the last two for now, but here are some examples of the others:"
   ]
  },
  {
   "cell_type": "code",
   "execution_count": null,
   "metadata": {},
   "outputs": [],
   "source": [
    "1 < 2 "
   ]
  },
  {
   "cell_type": "code",
   "execution_count": null,
   "metadata": {},
   "outputs": [],
   "source": [
    "1 <= 1"
   ]
  },
  {
   "cell_type": "code",
   "execution_count": null,
   "metadata": {},
   "outputs": [],
   "source": [
    "14 == 14"
   ]
  },
  {
   "cell_type": "code",
   "execution_count": null,
   "metadata": {},
   "outputs": [],
   "source": [
    "14 != 14 "
   ]
  },
  {
   "cell_type": "code",
   "execution_count": null,
   "metadata": {},
   "outputs": [],
   "source": [
    "\"my text\" == \"my text\""
   ]
  },
  {
   "cell_type": "code",
   "execution_count": null,
   "metadata": {},
   "outputs": [],
   "source": [
    "\"my text\" == \"my other text\""
   ]
  },
  {
   "cell_type": "code",
   "execution_count": null,
   "metadata": {},
   "outputs": [],
   "source": [
    "\"a\" > \"b\""
   ]
  },
  {
   "cell_type": "code",
   "execution_count": null,
   "metadata": {},
   "outputs": [],
   "source": [
    "\"a\" < \"b\""
   ]
  },
  {
   "cell_type": "code",
   "execution_count": null,
   "metadata": {},
   "outputs": [],
   "source": [
    "\"aa\" < \"aba\""
   ]
  },
  {
   "cell_type": "code",
   "execution_count": null,
   "metadata": {},
   "outputs": [],
   "source": [
    "\"aaa\" < \"aa\""
   ]
  },
  {
   "cell_type": "markdown",
   "metadata": {},
   "source": [
    "We see that the operations work on numbers just as we would expect.\n",
    "\n",
    "Strings are also compared as we'd expect"
   ]
  },
  {
   "cell_type": "markdown",
   "metadata": {},
   "source": [
    "## Numerical Data Types"
   ]
  },
  {
   "cell_type": "markdown",
   "metadata": {},
   "source": [
    "Python supports three built in data types, int, float, and complex. Since Python is dynamically typed, we don't have to define the data types explicitly!\n",
    "\n",
    "The int data type is used to to represent integers ℤZ. Python is special in the way it handles integers as it allows arbitrarily large integers, while most other programming languages reserve a certain chunk of memory for integers, which can lead to a number \"overflowing\". This, for example, would not work properly in C or Java:"
   ]
  },
  {
   "cell_type": "code",
   "execution_count": 44,
   "metadata": {},
   "outputs": [
    {
     "data": {
      "text/plain": [
       "1606938044258990275541962092341162602522202993782792835301376"
      ]
     },
     "execution_count": 44,
     "metadata": {},
     "output_type": "execute_result"
    }
   ],
   "source": [
    "2 ** 200"
   ]
  },
  {
   "cell_type": "markdown",
   "metadata": {},
   "source": [
    "However, we can still experience overflows in Python if we work with pandas, a library we will extensively use.\n",
    "\n",
    "Integers can be positive, zero, or negative, as you would expect.\n",
    "\n",
    "The float datatype is used to represent real numbers ℝR. Floats, however, can not be precisely represented by a computer. Take the example of 1/31/3. Representing 1/31/3 accurately would require the computer to store an infinitely large number of 0.33333333333333333333....0.33333333333333333333.... (if a computer used a decimal number system).\n",
    "\n",
    "Since computers use binary numbers, also seemingly simple numbers such as 0.1 cannot be accurately represented. Check out this example:"
   ]
  },
  {
   "cell_type": "code",
   "execution_count": 45,
   "metadata": {},
   "outputs": [
    {
     "data": {
      "text/plain": [
       "False"
      ]
     },
     "execution_count": 45,
     "metadata": {},
     "output_type": "execute_result"
    }
   ],
   "source": [
    ".1 + .1 + .1 == .3"
   ]
  },
  {
   "cell_type": "markdown",
   "metadata": {},
   "source": [
    "What computers do is that they store approximations using a limited chunck of memory to store the number. At the same time, Python rounds the output of numbers:"
   ]
  },
  {
   "cell_type": "code",
   "execution_count": null,
   "metadata": {},
   "outputs": [],
   "source": [
    "1 / 10"
   ]
  },
  {
   "cell_type": "markdown",
   "metadata": {},
   "source": [
    "This number is in fact not 0.1 but is stored in the computer as:\n",
    "\n",
    "0.1000000000000000055511151231257827021181583404541015625\n",
    "\n",
    "This representation, however, is rarely useful, hence the number is rounded.\n",
    "\n",
    "The lesson that you should remember is that you CANNOT compare two float numbers with the == operator."
   ]
  },
  {
   "cell_type": "code",
   "execution_count": null,
   "metadata": {},
   "outputs": [],
   "source": [
    "a = .1 + .1 + .1 \n",
    "b = .3\n",
    "a == b"
   ]
  },
  {
   "cell_type": "markdown",
   "metadata": {},
   "source": [
    "Instead, you can do something like this:\n",
    "\n",
    "\n",
    "#Compare for equality up to a constant value\n",
    "a < b + 0.00001 and a > b - 0.00001\n",
    "This, of course, only compares up to the 5th digit behind the comma.\n",
    "\n",
    "A better way to do this is the isclose function from the math package.\n",
    "\n",
    "\n",
    "# this is how we import a package"
   ]
  },
  {
   "cell_type": "code",
   "execution_count": 47,
   "metadata": {},
   "outputs": [],
   "source": [
    "import math #recommended\n",
    "from math import sqrt"
   ]
  },
  {
   "cell_type": "markdown",
   "metadata": {},
   "source": [
    "here we call the isclose function that comes with the math package. "
   ]
  },
  {
   "cell_type": "code",
   "execution_count": 48,
   "metadata": {},
   "outputs": [
    {
     "name": "stdout",
     "output_type": "stream",
     "text": [
      "True\n",
      "False\n"
     ]
    }
   ],
   "source": [
    "a = .1 + .1 + .1 \n",
    "b = .3\n",
    "print(math.isclose(a, b, rel_tol=0.000001))\n",
    "print( a== b)"
   ]
  },
  {
   "cell_type": "code",
   "execution_count": 49,
   "metadata": {},
   "outputs": [
    {
     "data": {
      "text/plain": [
       "1.4142135623730951"
      ]
     },
     "execution_count": 49,
     "metadata": {},
     "output_type": "execute_result"
    }
   ],
   "source": [
    "sqrt(2)"
   ]
  },
  {
   "cell_type": "markdown",
   "metadata": {},
   "source": [
    "Here we've also used our first package, the package math!\n",
    "\n",
    "Packages extend the basic functionality of python. We'll work a lot with packages in the future, details will follow.\n",
    "\n",
    "Numerical Operators\n",
    "Here is a selection of operators that work on numerical data types.\n",
    "\n",
    "| Operation | Result\n",
    "| - | - |\n",
    "|`x + y`\t|sum of x and y\t \t \n",
    "|`x - y`\t|difference of x and y\t \t \n",
    "|`x * y`\t|product of x and y\t \t \n",
    "|`x / y`\t|quotient of x and y\t \t \n",
    "|`x % y`\t| remainder of x / y\n",
    "|`-x`\t| x negated\t \t \n",
    "|`abs(x)` |\tabsolute value or magnitude of x\t \n",
    "|`int(x)` |\tx converted to integer\t\n",
    "|`float(x)` |\tx converted to floating point\t\n",
    "|`pow(x, y)` |\tx to the power y\t\n",
    "| `x ** y` | x to the power y"
   ]
  },
  {
   "cell_type": "code",
   "execution_count": 52,
   "metadata": {},
   "outputs": [
    {
     "data": {
      "text/plain": [
       "3"
      ]
     },
     "execution_count": 52,
     "metadata": {},
     "output_type": "execute_result"
    }
   ],
   "source": [
    "float(\"3.1415\")\n",
    "int(float(\"3.1415\"))"
   ]
  },
  {
   "cell_type": "markdown",
   "metadata": {},
   "source": [
    "## 3. Conditions: if-elif-else statements\n",
    "\n",
    "We've learned how to make comparisons between items and do boolean operations. The result of these operations was usually a boolean value. \n",
    "\n",
    "We can now make use of these boolean values to **steer the program flow using conditions**. \n",
    "\n",
    "We can do that using if statements. If conditions evaluate an arbitrary expression for its boolean value and execute one branch of code if they are true, and another branch if they are false:"
   ]
  },
  {
   "cell_type": "code",
   "execution_count": null,
   "metadata": {},
   "outputs": [],
   "source": [
    "def isOdd(x):\n",
    "    # the statement within the brackets is evaluated for truth\n",
    "    if x % 2 == 1:\n",
    "        # body, executed if true\n",
    "        print(str(x) + \" is in fact an odd number\")\n",
    "    else:\n",
    "        # executed if false\n",
    "        print(str(x) + \" is an even number\")\n",
    "\n",
    "isOdd(144)\n",
    "isOdd(13)"
   ]
  },
  {
   "cell_type": "markdown",
   "metadata": {},
   "source": [
    "Notice that the **code blocks that are intended form the \"body\"** of the if statement, just as it did for functions.\n",
    "\n",
    "In addition to the explicit boolean values that we can use to test for truth, most **programming languages define a range of things to be true or false**. \n",
    "\n",
    "By definition, 0 of any numeric type, empty sequences or lists, `none` values, etc., are considered false. Everything else is considered true."
   ]
  },
  {
   "cell_type": "code",
   "execution_count": null,
   "metadata": {},
   "outputs": [],
   "source": [
    "if (0):\n",
    "    print(\"This should never happen\")\n",
    "else:\n",
    "    print(\"0 is false\")\n",
    "\n",
    "undefined_var = None\n",
    "if (undefined_var):\n",
    "    print(\"This should never happen\")\n",
    "else:\n",
    "    print(\"An undefined variable is false\")\n",
    "    \n",
    "if ([]):\n",
    "    print(\"This should never happen\")\n",
    "else:\n",
    "    print(\"An empty list is false\")"
   ]
  },
  {
   "cell_type": "markdown",
   "metadata": {},
   "source": [
    "You can also **chain conditions using the `elif` statement**, which is short for else if:"
   ]
  },
  {
   "cell_type": "code",
   "execution_count": null,
   "metadata": {},
   "outputs": [],
   "source": [
    "def smallest_factors(x):\n",
    "    # notice the use of the negation and the use of 0 as false\n",
    "    if(not x % 2):\n",
    "        print(\"2 is a factor of \" + str(x))  \n",
    "    elif(not x % 3):     # only evaluated when if was false\n",
    "        print(\"3 is a factor of \" + str(x))\n",
    "    else: # only evaluated when both if and elif were false\n",
    "        print(\"Neither 2 nor 3 are factors of \" + str(x))\n",
    "\n",
    "smallest_factors(4)\n",
    "smallest_factors(9)\n",
    "smallest_factors(12)"
   ]
  },
  {
   "cell_type": "markdown",
   "metadata": {},
   "source": [
    "Notice that the elif (or the else) branch is not evaluated when the if branch matches. A function that prints whether both, 2 and 3 is a factor could be written like this: "
   ]
  },
  {
   "cell_type": "code",
   "execution_count": null,
   "metadata": {},
   "outputs": [],
   "source": [
    "def factors(x):\n",
    "    # notice the use of the negation and the use of 0 as false\n",
    "    if(not x % 2):\n",
    "        print(\"2 is a factor of \" + str(x))  \n",
    "    if(not x % 3):     \n",
    "        print(\"3 is a factor of \" + str(x))\n",
    "    if (x % 2) and (x % 3):\n",
    "        print(\"Neither 2 nor 3 are factors of \" + str(x))\n",
    "\n",
    "factors(4)\n",
    "factors(9)\n",
    "factors(12)\n",
    "factors(13)"
   ]
  },
  {
   "cell_type": "markdown",
   "metadata": {
    "nbpresent": {
     "id": "30fae315-d72a-442a-a7b5-b0a37b744dca"
    }
   },
   "source": [
    "## 4. Lists"
   ]
  },
  {
   "cell_type": "markdown",
   "metadata": {},
   "source": [
    "Up to know we've worked only with basic data types such as booleans, numbers and strings. Now we'll take a look at a compound data type: lists.\n",
    "\n",
    "**A list is a collection of items.** Another word commonly used for a list in other programming languages is an array (though there are differences between lists and arrays in many languages). \n",
    "\n",
    "**Lists are created with square brackets `[]` and can be accessed via an index:**"
   ]
  },
  {
   "cell_type": "code",
   "execution_count": 53,
   "metadata": {
    "nbpresent": {
     "id": "2cccc38c-08c9-47ec-8476-8198b5aef967"
    }
   },
   "outputs": [
    {
     "name": "stdout",
     "output_type": "stream",
     "text": [
      "['Paul', 'John', 'George', 'Ringo']\n",
      "Paul\n",
      "George\n",
      "Ringo\n",
      "George\n"
     ]
    }
   ],
   "source": [
    "beatles = [\"Paul\", \"John\", \"George\", \"Ringo\"]\n",
    "# printing the whole array\n",
    "print(beatles)\n",
    "# printing the first element of that array, at index 0\n",
    "print(beatles[0])\n",
    "# third element, at index 2\n",
    "print(beatles[2])\n",
    "# access the last element\n",
    "print(beatles[-1])\n",
    "# access the one-but-last element\n",
    "print(beatles[-2])"
   ]
  },
  {
   "cell_type": "code",
   "execution_count": 58,
   "metadata": {},
   "outputs": [
    {
     "data": {
      "text/plain": [
       "['John', 'Paul', 'George', 'Ringo']"
      ]
     },
     "execution_count": 58,
     "metadata": {},
     "output_type": "execute_result"
    }
   ],
   "source": [
    "beatles[:2] = [\"John\", \"Paul\"] # modify original\n",
    "beatles\n",
    "#actual copy\n",
    "other = beatles[2:]\n",
    "other[0] = \"keith moon\"\n",
    "beatles"
   ]
  },
  {
   "cell_type": "markdown",
   "metadata": {
    "nbpresent": {
     "id": "b9d8ffd3-fec8-4b7c-8301-13b27ffad614"
    }
   },
   "source": [
    "If we try to address an index outside of the range of an array, we get an error: "
   ]
  },
  {
   "cell_type": "code",
   "execution_count": 54,
   "metadata": {
    "nbpresent": {
     "id": "13e66cfb-b9c1-49f9-a409-4405415cfeea"
    }
   },
   "outputs": [
    {
     "ename": "IndexError",
     "evalue": "list index out of range",
     "output_type": "error",
     "traceback": [
      "\u001b[0;31m---------------------------------------------------------------------------\u001b[0m",
      "\u001b[0;31mIndexError\u001b[0m                                Traceback (most recent call last)",
      "\u001b[0;32m<ipython-input-54-ea23b43f225d>\u001b[0m in \u001b[0;36m<module>\u001b[0;34m\u001b[0m\n\u001b[0;32m----> 1\u001b[0;31m \u001b[0mbeatles\u001b[0m\u001b[0;34m[\u001b[0m\u001b[0;36m4\u001b[0m\u001b[0;34m]\u001b[0m\u001b[0;34m\u001b[0m\u001b[0;34m\u001b[0m\u001b[0m\n\u001b[0m",
      "\u001b[0;31mIndexError\u001b[0m: list index out of range"
     ]
    }
   ],
   "source": [
    "beatles[4]"
   ]
  },
  {
   "cell_type": "markdown",
   "metadata": {},
   "source": [
    "Sometimes, it makes sense to pre-initialize an array of a certain size:"
   ]
  },
  {
   "cell_type": "code",
   "execution_count": 55,
   "metadata": {},
   "outputs": [
    {
     "data": {
      "text/plain": [
       "[0, 0, 0, 0, 0, 0, 0, 0, 0, 0]"
      ]
     },
     "execution_count": 55,
     "metadata": {},
     "output_type": "execute_result"
    }
   ],
   "source": [
    "[0] * 10"
   ]
  },
  {
   "cell_type": "markdown",
   "metadata": {},
   "source": [
    "There is also a handy shortcut for quickly initializing lists. This uses the [range()](https://docs.python.org/3/library/functions.html#func-range) function, which we'll explore in more detail later."
   ]
  },
  {
   "cell_type": "markdown",
   "metadata": {
    "nbpresent": {
     "id": "b095b5f4-64f4-4c92-b5ad-3430139e5829"
    }
   },
   "source": [
    "We can also create **slices of an array with the slice operator `:`**\n",
    "\n",
    "```python\n",
    "a[start:end] # items start through end-1\n",
    "a[start:]    # items start through the rest of the array\n",
    "a[:end]      # items from the beginning through end-1\n",
    "a[:]         # a copy of the whole array\n",
    "```"
   ]
  },
  {
   "cell_type": "markdown",
   "metadata": {},
   "source": [
    "There is also the step value, which can be used with any of the above:\n",
    "\n",
    "```python\n",
    "a[start:end:step] # start through not past end, by step\n",
    "```"
   ]
  },
  {
   "cell_type": "markdown",
   "metadata": {},
   "source": [
    "See [this post](http://stackoverflow.com/questions/509211/explain-pythons-slice-notation) for a good explanation on slicing."
   ]
  },
  {
   "cell_type": "code",
   "execution_count": null,
   "metadata": {
    "nbpresent": {
     "id": "6f27c412-dc29-4506-afa2-81e52922d8f2"
    }
   },
   "outputs": [],
   "source": [
    "# Get the slice from 0 (included) to 2 (excluded)\n",
    "beatles[:2] # this can also be written as [0:2]"
   ]
  },
  {
   "cell_type": "code",
   "execution_count": null,
   "metadata": {},
   "outputs": [],
   "source": [
    "# Sclice from index 2 (3rd element) to end\n",
    "beatles[2:]"
   ]
  },
  {
   "cell_type": "code",
   "execution_count": null,
   "metadata": {},
   "outputs": [],
   "source": [
    "# A copy of the array \n",
    "beatles[:]"
   ]
  },
  {
   "cell_type": "markdown",
   "metadata": {
    "nbpresent": {
     "id": "c7b1e99e-3ba0-4aa2-8d39-eea68db2780f"
    }
   },
   "source": [
    "The slice operations return a new array, the original array is untouched: "
   ]
  },
  {
   "cell_type": "code",
   "execution_count": null,
   "metadata": {
    "nbpresent": {
     "id": "a5368caf-1a8b-4f2e-9dd6-d9e57dc85b41"
    },
    "scrolled": true
   },
   "outputs": [],
   "source": [
    "beatles"
   ]
  },
  {
   "cell_type": "code",
   "execution_count": null,
   "metadata": {},
   "outputs": [],
   "source": [
    "beatles[-1] #last item in list"
   ]
  },
  {
   "cell_type": "code",
   "execution_count": null,
   "metadata": {},
   "outputs": [],
   "source": [
    "len(beatles)"
   ]
  },
  {
   "cell_type": "markdown",
   "metadata": {
    "nbpresent": {
     "id": "133128f1-6346-44cb-a6bf-8651c4d39601"
    }
   },
   "source": [
    "Slicing outside of a defined range returns an empty list:"
   ]
  },
  {
   "cell_type": "code",
   "execution_count": 60,
   "metadata": {
    "nbpresent": {
     "id": "e47eaccf-7e3a-4c48-a5c8-ead49f46d141"
    }
   },
   "outputs": [
    {
     "data": {
      "text/plain": [
       "['Ringo']"
      ]
     },
     "execution_count": 60,
     "metadata": {},
     "output_type": "execute_result"
    }
   ],
   "source": [
    "beatles[3:9]"
   ]
  },
  {
   "cell_type": "markdown",
   "metadata": {
    "nbpresent": {
     "id": "903dfcba-5ca9-43df-81a4-703bbdaec1e6"
    }
   },
   "source": [
    "Strings can be treated similar to arrays with respect to indexing and slicing:"
   ]
  },
  {
   "cell_type": "code",
   "execution_count": 61,
   "metadata": {
    "nbpresent": {
     "id": "3797edd3-b4a8-430e-be10-ebc8712b5ef3"
    }
   },
   "outputs": [
    {
     "data": {
      "text/plain": [
       "'Paul'"
      ]
     },
     "execution_count": 61,
     "metadata": {},
     "output_type": "execute_result"
    }
   ],
   "source": [
    "paul = \"Paul McCartney\"\n",
    "paul[0:4]"
   ]
  },
  {
   "cell_type": "code",
   "execution_count": 64,
   "metadata": {},
   "outputs": [
    {
     "data": {
      "text/plain": [
       "'paul McCartney'"
      ]
     },
     "execution_count": 64,
     "metadata": {},
     "output_type": "execute_result"
    }
   ],
   "source": [
    "paul = 'p' + paul[1:]\n",
    "paul"
   ]
  },
  {
   "cell_type": "markdown",
   "metadata": {
    "nbpresent": {
     "id": "7de0a434-d83b-4557-aa74-d81ee4b7ecbb"
    }
   },
   "source": [
    "Lists (in contrast to strings) are mutable. \n",
    "\n",
    "That means **we can change the elements that are contained in a list**: "
   ]
  },
  {
   "cell_type": "code",
   "execution_count": null,
   "metadata": {
    "nbpresent": {
     "id": "7d7aab61-0e11-4084-a70a-537a017c15fa"
    }
   },
   "outputs": [],
   "source": [
    "beatles[1] = \"JohnYoko\"\n",
    "beatles"
   ]
  },
  {
   "cell_type": "markdown",
   "metadata": {},
   "source": [
    "This does not work with strings, strings are immutable: "
   ]
  },
  {
   "cell_type": "code",
   "execution_count": null,
   "metadata": {
    "nbpresent": {
     "id": "396b6da4-3fd3-4ef4-b70a-cd22b025e53a"
    }
   },
   "outputs": [],
   "source": [
    "# This will return an error\n",
    "paul[1] = \"o\""
   ]
  },
  {
   "cell_type": "markdown",
   "metadata": {
    "nbpresent": {
     "id": "31e45925-5bf1-42de-87ea-280dbb365665"
    }
   },
   "source": [
    "Arrays can also be **extended with the `append()` function**:"
   ]
  },
  {
   "cell_type": "code",
   "execution_count": null,
   "metadata": {
    "nbpresent": {
     "id": "e2a6752b-e74d-48b4-b682-4ea811cef8a4"
    }
   },
   "outputs": [],
   "source": [
    "beatles.append(\"George Martin\")\n",
    "beatles"
   ]
  },
  {
   "cell_type": "markdown",
   "metadata": {
    "nbpresent": {
     "id": "cb8a4e24-90ef-4b0f-86de-b81bb5309d52"
    }
   },
   "source": [
    "Lists can be **concatenated**: "
   ]
  },
  {
   "cell_type": "code",
   "execution_count": 65,
   "metadata": {
    "nbpresent": {
     "id": "a4109ac9-938f-4db7-b7bb-bb899ad672ed"
    }
   },
   "outputs": [
    {
     "data": {
      "text/plain": [
       "['John', 'Paul', 'George', 'Ringo', 'Jimmy', 'Robert', 'John', 'John']"
      ]
     },
     "execution_count": 65,
     "metadata": {},
     "output_type": "execute_result"
    }
   ],
   "source": [
    "zeppelin = [\"Jimmy\", \"Robert\", \"John\", \"John\"]\n",
    "beatles += zeppelin\n",
    "beatles"
   ]
  },
  {
   "cell_type": "markdown",
   "metadata": {
    "nbpresent": {
     "id": "3927d6f8-3df3-4773-b08d-2b77acfffcd8"
    }
   },
   "source": [
    "We can **check the length** of a list using the built-in [`len()`](https://docs.python.org/3.3/library/functions.html#len) function:"
   ]
  },
  {
   "cell_type": "code",
   "execution_count": null,
   "metadata": {
    "nbpresent": {
     "id": "bc27d3eb-1a47-465d-b1f4-930a833608de"
    }
   },
   "outputs": [],
   "source": [
    "len(zeppelin)"
   ]
  },
  {
   "cell_type": "code",
   "execution_count": null,
   "metadata": {},
   "outputs": [],
   "source": [
    "print(zeppelin + [\"bonzo jr.\"])\n",
    "print(zeppelin)"
   ]
  },
  {
   "cell_type": "markdown",
   "metadata": {
    "nbpresent": {
     "id": "128555b4-e524-4d04-a9a8-2ceee3daffaf"
    }
   },
   "source": [
    "Lists can also be **nested**: "
   ]
  },
  {
   "cell_type": "code",
   "execution_count": null,
   "metadata": {
    "nbpresent": {
     "id": "ab1b9e85-6252-4ee4-aa90-10cb955ab083"
    }
   },
   "outputs": [],
   "source": [
    "# let's reset the beatles first\n",
    "beatles = [\"Paul\", \"John\", \"George\", \"Ringo\"]\n",
    "bands = [beatles, zeppelin]\n",
    "bands"
   ]
  },
  {
   "cell_type": "markdown",
   "metadata": {
    "nbpresent": {
     "id": "7e3dacfb-6d03-4285-b0f8-55851881244c"
    }
   },
   "source": [
    "In fact, lists can be of hybrid data types, which, however, is something that you typically don't want to and shouldn't do:"
   ]
  },
  {
   "cell_type": "code",
   "execution_count": null,
   "metadata": {
    "nbpresent": {
     "id": "a37659c5-0da2-4ef0-ba7d-a044ab813be6"
    }
   },
   "outputs": [],
   "source": [
    "bad_bands = bands + [1, 0.3, 17, \"This is bad\"]\n",
    "# this list contains lists, integers, floats and strings\n",
    "bad_bands"
   ]
  },
  {
   "cell_type": "markdown",
   "metadata": {},
   "source": [
    "## 5. Loops"
   ]
  },
  {
   "cell_type": "markdown",
   "metadata": {},
   "source": [
    "So far we have learned about two ways to contorl the flow of a program: functions and if-statements. Now we'll look at another important control structure: loops. A loop has a condition, and as long as that condition is true, it will continue to re-execute its body. \n",
    "\n",
    "There are two types of loops. For loops and while loops."
   ]
  },
  {
   "cell_type": "markdown",
   "metadata": {
    "nbpresent": {
     "id": "0c500e4e-a855-4aa2-9cca-95a56f781908"
    }
   },
   "source": [
    "### While loops"
   ]
  },
  {
   "cell_type": "markdown",
   "metadata": {},
   "source": [
    "While loops use the `while` keyword, a condition, and the loop body:"
   ]
  },
  {
   "cell_type": "code",
   "execution_count": null,
   "metadata": {
    "nbpresent": {
     "id": "b33fcef8-e667-4577-8c01-61a2b4f6ace3"
    }
   },
   "outputs": [],
   "source": [
    "a = 1\n",
    "\n",
    "# print numbers 0-100\n",
    "while (a <= 100):\n",
    "    print(a, end=\", \") \n",
    "    # end is a parameter of print that defines how the string to be printed ends. \n",
    "    # By default, a newline \\n is appended, which we overwrite here\n",
    "    a += 1"
   ]
  },
  {
   "cell_type": "markdown",
   "metadata": {
    "nbpresent": {
     "id": "bba871db-05b8-4220-ae06-b398011ae901"
    }
   },
   "source": [
    "What happens here? The `while` keyword indicates that this is a loop, which is followed by the **terminating condition of `b <= 100`**. As long as that condition is true, the loops body will be called again and again and again ...\n",
    "\n",
    "Once the terminating condition evaluates to false, the code in the loop body will be skipped and the flow of execution continues below the loop. \n",
    "\n",
    "You might rightly guess that it's easy to write loops that don't terminate. Here is one example:\n",
    "```python \n",
    "while True:\n",
    "    print \"Stuck\"\n",
    "```"
   ]
  },
  {
   "cell_type": "markdown",
   "metadata": {},
   "source": [
    "This program is stuck in the loop forever (or until you interrupt it by interrupting your kernel, your computer goes off, etc.) It is hence important to take care that loops actually reach a terminating condition, and it's not always as obvious as in the previous example that this is not the case. \n",
    "\n",
    "But we could also **use the `break` statement to terminate a loop**:"
   ]
  },
  {
   "cell_type": "code",
   "execution_count": null,
   "metadata": {
    "nbpresent": {
     "id": "a9a27eaf-b9eb-40e6-ae90-8b5691544af7"
    }
   },
   "outputs": [],
   "source": [
    "a = 1\n",
    "while (True):\n",
    "    print(a, end=\", \") \n",
    "    a += 1\n",
    "    if (a > 100):\n",
    "        break"
   ]
  },
  {
   "cell_type": "markdown",
   "metadata": {
    "nbpresent": {
     "id": "16ffca6e-b3b7-437b-a5b4-c6ec25bdc470"
    }
   },
   "source": [
    "Here, we've moved the check of the condition into an if statement, and break if the if statement is executed. \n",
    "\n",
    "Similar to the `break` statement, there is also a `continue` statement, that ends evaluation of the loop body and goes back to the start of the loop in the next cycle:"
   ]
  },
  {
   "cell_type": "code",
   "execution_count": null,
   "metadata": {
    "nbpresent": {
     "id": "e14f20b8-02a7-4a86-b78d-55f2cb27a5e8"
    }
   },
   "outputs": [],
   "source": [
    "a = 0\n",
    "while (a < 100):\n",
    "    a +=1;\n",
    "    # thorw brackets around all numbers divisible by 3\n",
    "    if (not a % 3):\n",
    "        print(\"[\" + str(a) + \"]\", end=\", \")\n",
    "        continue # the next line isn't executed because the flow goes back to the beginning of the loop\n",
    "    print(a, end=\", \")\n",
    "   \n",
    "   "
   ]
  },
  {
   "cell_type": "markdown",
   "metadata": {
    "nbpresent": {
     "id": "f5f9657e-8005-4ab0-ab73-56a84ec52eec"
    }
   },
   "source": [
    "### For loops"
   ]
  },
  {
   "cell_type": "markdown",
   "metadata": {},
   "source": [
    "In contrast to most other programming language, Python uses for loops mainly to iterate over items of a sequence. \n",
    "\n",
    "It uses the following syntax:\n",
    "```python\n",
    "for variable in sequence:\n",
    "    #body\n",
    "```"
   ]
  },
  {
   "cell_type": "markdown",
   "metadata": {},
   "source": [
    "The variable is then a accessible within the body of the loop.\n",
    "\n",
    "Here is an example:"
   ]
  },
  {
   "cell_type": "code",
   "execution_count": 67,
   "metadata": {},
   "outputs": [
    {
     "name": "stdout",
     "output_type": "stream",
     "text": [
      "Jimmy\n",
      "Robert\n",
      "John\n",
      "John\n"
     ]
    }
   ],
   "source": [
    "for member in zeppelin:\n",
    "    print(member)"
   ]
  },
  {
   "cell_type": "code",
   "execution_count": 68,
   "metadata": {
    "nbpresent": {
     "id": "753d2989-7259-4a0d-82cf-648387a730e6"
    },
    "scrolled": true
   },
   "outputs": [
    {
     "name": "stdout",
     "output_type": "stream",
     "text": [
      "0 Jimmy\n",
      "1 Robert\n",
      "2 John\n",
      "3 John\n"
     ]
    }
   ],
   "source": [
    "for i, member in enumerate(zeppelin): \n",
    "    print(i, member)"
   ]
  },
  {
   "cell_type": "code",
   "execution_count": 69,
   "metadata": {},
   "outputs": [
    {
     "name": "stdout",
     "output_type": "stream",
     "text": [
      "0 Jimmy\n",
      "1 Robert\n",
      "2 John\n",
      "3 John\n"
     ]
    }
   ],
   "source": [
    "for i in range(len(zeppelin)):\n",
    "    print(i, zeppelin[i])"
   ]
  },
  {
   "cell_type": "markdown",
   "metadata": {
    "nbpresent": {
     "id": "c8c2677e-9e47-4d91-ac4c-257e0c92db61"
    }
   },
   "source": [
    "Of course, that works with arbitrary **slices of lists**: "
   ]
  },
  {
   "cell_type": "code",
   "execution_count": 70,
   "metadata": {
    "nbpresent": {
     "id": "d1cfb14d-a716-40a0-8e7c-5c1e0e0c74d4"
    }
   },
   "outputs": [
    {
     "name": "stdout",
     "output_type": "stream",
     "text": [
      "Jimmy\n",
      "Robert\n"
     ]
    }
   ],
   "source": [
    "for member in zeppelin[:2]:\n",
    "    print(member)"
   ]
  },
  {
   "cell_type": "markdown",
   "metadata": {
    "nbpresent": {
     "id": "f2499699-e8b0-420a-8cae-ed778d78b69c"
    }
   },
   "source": [
    "We can iterate over **nested lists** with nested for loops: "
   ]
  },
  {
   "cell_type": "code",
   "execution_count": null,
   "metadata": {
    "nbpresent": {
     "id": "df3c5569-6a10-47f4-a781-e0fd3f43f62f"
    }
   },
   "outputs": [],
   "source": [
    "for band in bands:\n",
    "    print(\"Band Members: \")\n",
    "    print(\"-------------\")\n",
    "    for member in band:\n",
    "        print(member)\n",
    "    print()"
   ]
  },
  {
   "cell_type": "markdown",
   "metadata": {
    "nbpresent": {
     "id": "a7feecca-549b-42ad-bd24-6a90674cbbc5"
    }
   },
   "source": [
    "When you want to iterate over a sequence of numbers, use the [`range()`](https://docs.python.org/3/library/stdtypes.html#range) function. Range generates a sequence of numbers:"
   ]
  },
  {
   "cell_type": "code",
   "execution_count": null,
   "metadata": {
    "nbpresent": {
     "id": "439f5d88-4105-42f5-bb30-ad3c0b11f86a"
    }
   },
   "outputs": [],
   "source": [
    "# we create a new list with the output of the range function\n",
    "list(range(5))"
   ]
  },
  {
   "cell_type": "code",
   "execution_count": null,
   "metadata": {
    "nbpresent": {
     "id": "81fa2227-850e-4d4e-858a-6287c197144a"
    }
   },
   "outputs": [],
   "source": [
    "# start at 0, stop at index 10, two steps\n",
    "list(range(0, 10, 2))"
   ]
  },
  {
   "cell_type": "markdown",
   "metadata": {
    "nbpresent": {
     "id": "51c665ed-ba7b-4eef-8dcd-7bde9e5222e6"
    }
   },
   "source": [
    "Using this range function, we can now iterate of a sequence of numbers:"
   ]
  },
  {
   "cell_type": "code",
   "execution_count": null,
   "metadata": {
    "nbpresent": {
     "id": "91ec5e27-b2c5-4cf4-959b-5162a3a2e0e9"
    }
   },
   "outputs": [],
   "source": [
    "for i in range(10): \n",
    "    print (i)"
   ]
  },
  {
   "cell_type": "markdown",
   "metadata": {},
   "source": [
    "The range function also takes other parameters, specifically a \"start\", \"stop\" and a \"step-size\" parameter."
   ]
  },
  {
   "cell_type": "code",
   "execution_count": null,
   "metadata": {
    "nbpresent": {
     "id": "940616b0-2499-49de-bc31-b2b490cf177d"
    }
   },
   "outputs": [],
   "source": [
    "for i in range (0, -20, -3):\n",
    "    print(i)"
   ]
  },
  {
   "cell_type": "markdown",
   "metadata": {},
   "source": [
    "## 6. Recursion\n",
    "\n",
    "Another way to control program flow is recursion. The basic idea of recursion is that a function is allowed to call itself. Here is an example for printing the numbers 0-10: "
   ]
  },
  {
   "cell_type": "code",
   "execution_count": null,
   "metadata": {},
   "outputs": [],
   "source": [
    "def printNumber(current, limit):\n",
    "    print(current)\n",
    "    if current < limit:\n",
    "        printNumber(current + 1, limit)"
   ]
  },
  {
   "cell_type": "code",
   "execution_count": null,
   "metadata": {
    "scrolled": true
   },
   "outputs": [],
   "source": [
    "printNumber(0, 10)"
   ]
  },
  {
   "cell_type": "markdown",
   "metadata": {},
   "source": [
    "Note that we have implemented looping / iteration behavior without actually using a loop! However, recursion can be used for more than just loops; it is very well suited, for example, to operate on trees and graphs."
   ]
  },
  {
   "cell_type": "markdown",
   "metadata": {},
   "source": [
    "We can also use return values in recursive functions. In the following, the recursive call is in the return statement. Here, the evaluation stack goes all the way to 10, after which the return doesn't contain another recursive call, terminating the recursion. Then all the functions return in the order in which they were called and build the string:"
   ]
  },
  {
   "cell_type": "code",
   "execution_count": null,
   "metadata": {},
   "outputs": [],
   "source": [
    "def getNumberString(current, limit):\n",
    "    if current <= limit: \n",
    "        return str(current) + \",\" + getNumberString(current+1, limit)\n",
    "    \n",
    "    return \"\""
   ]
  },
  {
   "cell_type": "code",
   "execution_count": null,
   "metadata": {},
   "outputs": [],
   "source": [
    "getNumberString(0, 10)"
   ]
  },
  {
   "cell_type": "markdown",
   "metadata": {},
   "source": [
    "## 7. Revisiting Lists: List Comprehension"
   ]
  },
  {
   "cell_type": "markdown",
   "metadata": {},
   "source": [
    "Now that we know about loops, we can also take a look at [list comprehension](https://docs.python.org/3.5/tutorial/datastructures.html#list-comprehensions). List comprehension can be used to initialize and transform arrays. \n",
    "\n"
   ]
  },
  {
   "cell_type": "code",
   "execution_count": 71,
   "metadata": {},
   "outputs": [
    {
     "data": {
      "text/plain": [
       "[0, 1, 4, 9, 16, 25, 36, 49, 64, 81]"
      ]
     },
     "execution_count": 71,
     "metadata": {},
     "output_type": "execute_result"
    }
   ],
   "source": [
    "mylist = []\n",
    "for i in range(10):\n",
    "    mylist.append(i*i)\n",
    "mylist\n"
   ]
  },
  {
   "cell_type": "code",
   "execution_count": 72,
   "metadata": {},
   "outputs": [
    {
     "data": {
      "text/plain": [
       "[0, 0, 0, 0, 0, 0, 0, 0, 0, 0]"
      ]
     },
     "execution_count": 72,
     "metadata": {},
     "output_type": "execute_result"
    }
   ],
   "source": [
    "# _ is customary for a variable name if you don't need it\n",
    "[0 for _ in range(10)] #give me an array of 10 zeros"
   ]
  },
  {
   "cell_type": "code",
   "execution_count": null,
   "metadata": {},
   "outputs": [],
   "source": [
    "[\"John\" for _ in range(10)]"
   ]
  },
  {
   "cell_type": "code",
   "execution_count": 76,
   "metadata": {
    "scrolled": true
   },
   "outputs": [
    {
     "data": {
      "text/plain": [
       "[100, 81, 64, 49, 36, 25, 16, 9, 4, 1]"
      ]
     },
     "execution_count": 76,
     "metadata": {},
     "output_type": "execute_result"
    }
   ],
   "source": [
    "# we can also make  use of values we iterate over\n",
    "[x**2 for x in range(10,0,-1)]"
   ]
  },
  {
   "cell_type": "markdown",
   "metadata": {},
   "source": [
    "We can, for example use functions in place of a variable. Here we initialize an array of random numbers in the unit interval:"
   ]
  },
  {
   "cell_type": "code",
   "execution_count": 82,
   "metadata": {},
   "outputs": [
    {
     "data": {
      "text/plain": [
       "[0.7370873413866232,\n",
       " 0.08638387932883074,\n",
       " 0.7774915876611193,\n",
       " 0.06024530385004778,\n",
       " 0.22597870261525732,\n",
       " 0.30854818285927355,\n",
       " 0.7059989844777921,\n",
       " 0.31013024814150814,\n",
       " 0.684396226511829,\n",
       " 0.599570563814345]"
      ]
     },
     "execution_count": 82,
     "metadata": {},
     "output_type": "execute_result"
    }
   ],
   "source": [
    "import random\n",
    "rands = [random.random() for _ in range(10)]\n",
    "rands"
   ]
  },
  {
   "cell_type": "markdown",
   "metadata": {},
   "source": [
    "You can also use list comprehension to create a list based on another list:"
   ]
  },
  {
   "cell_type": "code",
   "execution_count": 77,
   "metadata": {},
   "outputs": [
    {
     "data": {
      "text/plain": [
       "[9.126785172106182,\n",
       " 6.714338513590361,\n",
       " 9.854552896355003,\n",
       " 6.320238010146431,\n",
       " 7.983255923919783,\n",
       " 9.9166900543791,\n",
       " 2.6392557878769187,\n",
       " 3.983359398774018,\n",
       " 9.832803297250107,\n",
       " 2.614520524340157]"
      ]
     },
     "execution_count": 77,
     "metadata": {},
     "output_type": "execute_result"
    }
   ],
   "source": [
    "[x*10 for x in rands]"
   ]
  },
  {
   "cell_type": "code",
   "execution_count": 80,
   "metadata": {},
   "outputs": [
    {
     "data": {
      "text/plain": [
       "[0.1412221531186264, 0.14371442141478585, 0.14112937802483339]"
      ]
     },
     "execution_count": 80,
     "metadata": {},
     "output_type": "execute_result"
    }
   ],
   "source": [
    "[x for x in rands if str(x)[2] == '1']"
   ]
  },
  {
   "cell_type": "code",
   "execution_count": 85,
   "metadata": {},
   "outputs": [
    {
     "name": "stdout",
     "output_type": "stream",
     "text": [
      "['JIMMY', 'JOHN', 'JOHN']\n",
      "7\n"
     ]
    }
   ],
   "source": [
    "zepCaps = [x.upper() for x in zeppelin if x[0] == 'J']\n",
    "print(zepCaps)\n",
    "print(x)"
   ]
  },
  {
   "cell_type": "code",
   "execution_count": null,
   "metadata": {},
   "outputs": [],
   "source": []
  }
 ],
 "metadata": {
  "anaconda-cloud": {},
  "kernelspec": {
   "display_name": "Python 3 (ipykernel)",
   "language": "python",
   "name": "python3"
  },
  "language_info": {
   "codemirror_mode": {
    "name": "ipython",
    "version": 3
   },
   "file_extension": ".py",
   "mimetype": "text/x-python",
   "name": "python",
   "nbconvert_exporter": "python",
   "pygments_lexer": "ipython3",
   "version": "3.11.3"
  }
 },
 "nbformat": 4,
 "nbformat_minor": 1
}
