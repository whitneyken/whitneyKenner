{
 "cells": [
  {
   "attachments": {},
   "cell_type": "markdown",
   "metadata": {},
   "source": [
    "Whitney Kenner\n",
    "u0777962\n",
    "HW5\n",
    "7/2/23\n"
   ]
  },
  {
   "cell_type": "code",
   "execution_count": 2,
   "metadata": {},
   "outputs": [],
   "source": [
    "# Imports and setup. \n",
    "\n",
    "import pandas as pd\n",
    "import numpy as np\n",
    "\n",
    "from sklearn import tree, svm, metrics\n",
    "from sklearn.neighbors import KNeighborsClassifier\n",
    "from sklearn.model_selection import train_test_split, cross_val_predict, cross_val_score, KFold\n",
    "from sklearn.datasets import load_digits\n",
    "from sklearn.preprocessing import scale\n",
    "\n",
    "import matplotlib.pyplot as plt\n",
    "%matplotlib inline\n",
    "plt.rcParams['figure.figsize'] = (10, 6)\n",
    "plt.style.use('ggplot')"
   ]
  },
  {
   "cell_type": "code",
   "execution_count": 3,
   "metadata": {},
   "outputs": [
    {
     "name": "stdout",
     "output_type": "stream",
     "text": [
      "n_digits: 10, n_samples 1797, n_features 64\n"
     ]
    }
   ],
   "source": [
    "# Code to scale images...\n",
    "\n",
    "digits = load_digits()\n",
    "X = scale( digits.data )\n",
    "y = digits.target\n",
    "\n",
    "n_samples, n_features = X.shape\n",
    "n_digits = len( np.unique(digits.target) )\n",
    "\n",
    "print( \"n_digits: %d, n_samples %d, n_features %d\" % (n_digits, n_samples, n_features) )"
   ]
  },
  {
   "cell_type": "code",
   "execution_count": 4,
   "metadata": {},
   "outputs": [
    {
     "name": "stdout",
     "output_type": "stream",
     "text": [
      "===\n",
      "The raw data\n",
      "[[ 0.  0.  5. 13.  9.  1.  0.  0.]\n",
      " [ 0.  0. 13. 15. 10. 15.  5.  0.]\n",
      " [ 0.  3. 15.  2.  0. 11.  8.  0.]\n",
      " [ 0.  4. 12.  0.  0.  8.  8.  0.]\n",
      " [ 0.  5.  8.  0.  0.  9.  8.  0.]\n",
      " [ 0.  4. 11.  0.  1. 12.  7.  0.]\n",
      " [ 0.  2. 14.  5. 10. 12.  0.  0.]\n",
      " [ 0.  0.  6. 13. 10.  0.  0.  0.]]\n",
      "===\n",
      "The scaled data\n",
      "[ 0.         -0.33501649 -0.04308102  0.27407152 -0.66447751 -0.84412939\n",
      " -0.40972392 -0.12502292 -0.05907756 -0.62400926  0.4829745   0.75962245\n",
      " -0.05842586  1.12772113  0.87958306 -0.13043338 -0.04462507  0.11144272\n",
      "  0.89588044 -0.86066632 -1.14964846  0.51547187  1.90596347 -0.11422184\n",
      " -0.03337973  0.48648928  0.46988512 -1.49990136 -1.61406277  0.07639777\n",
      "  1.54181413 -0.04723238  0.          0.76465553  0.05263019 -1.44763006\n",
      " -1.73666443  0.04361588  1.43955804  0.         -0.06134367  0.8105536\n",
      "  0.63011714 -1.12245711 -1.06623158  0.66096475  0.81845076 -0.08874162\n",
      " -0.03543326  0.74211893  1.15065212 -0.86867056  0.11012973  0.53761116\n",
      " -0.75743581 -0.20978513 -0.02359646 -0.29908135  0.08671869  0.20829258\n",
      " -0.36677122 -1.14664746 -0.5056698  -0.19600752]\n",
      "===\n",
      "The digit\n",
      "0\n"
     ]
    }
   ],
   "source": [
    "# This is what one digit (the \"zero\") looks like:\n",
    "\n",
    "print( \"===\\nThe raw data\" )\n",
    "print( digits.images[0] )\n",
    "\n",
    "print( \"===\\nThe scaled data\" )\n",
    "print( X[0] )\n",
    "\n",
    "print( \"===\\nThe digit\" )\n",
    "print( digits.target[0] )"
   ]
  },
  {
   "cell_type": "code",
   "execution_count": 5,
   "metadata": {},
   "outputs": [
    {
     "data": {
      "image/png": "[encoded data removed]",
      "text/plain": [
       "<Figure size 1000x1000 with 25 Axes>"
      ]
     },
     "metadata": {},
     "output_type": "display_data"
    }
   ],
   "source": [
    "# Display the first 25 images...\n",
    "\n",
    "plt.figure( figsize=(10, 10) )\n",
    " \n",
    "for ii in np.arange( 25 ):\n",
    "    plt.subplot( 5, 5, ii+1 )\n",
    "    plt.imshow( np.reshape( X[ii,:], (8,8) ), cmap='Greys', interpolation='nearest' )\n",
    "    plt.axis( 'off' )\n",
    "\n",
    "plt.show()"
   ]
  },
  {
   "attachments": {},
   "cell_type": "markdown",
   "metadata": {},
   "source": [
    "Task 1.1: Classification with Support Vector Machines (SVM)"
   ]
  },
  {
   "cell_type": "code",
   "execution_count": 6,
   "metadata": {},
   "outputs": [
    {
     "data": {
      "text/plain": [
       "[array([[ 0.        , -0.33501649, -1.09493684, ..., -0.80760583,\n",
       "         -0.5056698 , -0.19600752],\n",
       "        [ 0.        , -0.33501649,  0.37766131, ...,  0.03999823,\n",
       "          0.22793243, -0.19600752],\n",
       "        [ 0.        , -0.33501649, -0.88456568, ..., -1.14664746,\n",
       "         -0.5056698 , -0.19600752],\n",
       "        ...,\n",
       "        [ 0.        , -0.33501649,  0.37766131, ...,  1.05712311,\n",
       "         -0.01660165, -0.19600752],\n",
       "        [ 0.        , -0.33501649, -1.09493684, ...,  1.56568555,\n",
       "         -0.26113572, -0.19600752],\n",
       "        [ 0.        , -0.33501649,  0.58803248, ..., -1.14664746,\n",
       "         -0.5056698 , -0.19600752]]),\n",
       " array([[ 0.        , -0.33501649,  0.16729015, ..., -0.63808502,\n",
       "         -0.5056698 , -0.19600752],\n",
       "        [ 0.        ,  8.48585718,  1.6398883 , ..., -1.14664746,\n",
       "         -0.5056698 , -0.19600752],\n",
       "        [ 0.        , -0.33501649, -0.25345218, ..., -0.12952258,\n",
       "         -0.5056698 , -0.19600752],\n",
       "        ...,\n",
       "        [ 0.        , -0.33501649, -0.88456568, ..., -0.12952258,\n",
       "         -0.5056698 , -0.19600752],\n",
       "        [ 0.        ,  0.76759272,  0.16729015, ...,  0.20951905,\n",
       "         -0.5056698 , -0.19600752],\n",
       "        [ 0.        ,  1.87020193,  1.21914597, ..., -1.14664746,\n",
       "         -0.5056698 , -0.19600752]]),\n",
       " array([4, 2, 4, 6, 0, 7, 3, 1, 3, 3, 4, 9, 4, 9, 7, 1, 0, 0, 6, 7, 4, 9,\n",
       "        7, 6, 7, 5, 8, 8, 7, 0, 0, 8, 4, 0, 7, 2, 8, 3, 5, 0, 6, 9, 2, 2,\n",
       "        2, 9, 5, 7, 7, 6, 9, 8, 8, 3, 5, 7, 7, 2, 8, 0, 8, 7, 0, 9, 7, 6,\n",
       "        7, 4, 3, 0, 5, 0, 0, 6, 5, 8, 0, 8, 4, 1, 2, 4, 7, 5, 0, 7, 0, 4,\n",
       "        0, 0, 9, 7, 7, 4, 6, 6, 5, 8, 0, 1, 5, 7, 9, 0, 7, 7, 0, 3, 8, 7,\n",
       "        2, 0, 4, 4, 0, 1, 0, 2, 5, 5, 8, 7, 5, 3, 6, 7, 3, 4, 8, 0, 6, 8,\n",
       "        8, 7, 2, 0, 9, 3, 7, 8, 6, 3, 7, 9, 8, 0, 3, 7, 6, 8, 0, 0, 8, 5,\n",
       "        5, 1, 8, 2, 7, 3, 1, 5, 1, 8, 1, 6, 3, 9, 4, 4, 7, 5, 6, 2, 5, 0,\n",
       "        7, 5, 6, 0, 9, 2, 3, 9, 0, 7, 8, 1, 0, 1, 4, 1, 2, 8, 0, 8, 0, 9,\n",
       "        0, 1, 5, 5, 3, 6, 2, 4, 0, 1, 0, 0, 3, 3, 2, 5, 3, 8, 1, 3, 7, 0,\n",
       "        1, 2, 2, 9, 3, 5, 3, 8, 1, 5, 8, 1, 6, 9, 3, 6, 6, 9, 0, 6, 2, 7,\n",
       "        0, 9, 6, 8, 5, 3, 0, 2, 5, 5, 6, 6, 0, 8, 3, 9, 2, 1, 1, 2, 2, 9,\n",
       "        2, 1, 7, 5, 2, 5, 0, 2, 8, 5, 1, 7, 6, 8, 3, 7, 1, 2, 9, 1, 6, 5,\n",
       "        6, 7, 5, 2, 6, 1, 9, 9, 1, 9, 8, 4, 6, 3, 8, 6, 1, 3, 4, 4, 6, 1,\n",
       "        5, 3, 4, 0, 6, 1, 0, 3, 8, 2, 3, 8, 3, 2, 2, 1, 3, 4, 7, 1, 4, 6,\n",
       "        4, 5, 2, 2, 1, 0, 2, 6, 9, 0, 4, 3, 3, 8, 8, 8, 3, 4, 8, 4, 6, 5,\n",
       "        2, 9, 8, 4, 9, 1, 5]),\n",
       " array([1, 5, 0, ..., 6, 3, 2])]"
      ]
     },
     "execution_count": 6,
     "metadata": {},
     "output_type": "execute_result"
    }
   ],
   "source": [
    "train_test_split( X, y, random_state=1, test_size=0.8 )"
   ]
  },
  {
   "cell_type": "code",
   "execution_count": 8,
   "metadata": {},
   "outputs": [
    {
     "name": "stdout",
     "output_type": "stream",
     "text": [
      "SVC(C=5)\n"
     ]
    }
   ],
   "source": [
    "#Use SVM with an rbf kernel and the cost parameter C=5 to build a classifier using the training dataset.\n",
    "model = svm.SVC(kernel='rbf',gamma='auto', C=5)\n",
    "model.fit(X,y)\n",
    "\n",
    "print(model)"
   ]
  }
 ],
 "metadata": {
  "kernelspec": {
   "display_name": "Python 3",
   "language": "python",
   "name": "python3"
  },
  "language_info": {
   "codemirror_mode": {
    "name": "ipython",
    "version": 3
   },
   "file_extension": ".py",
   "mimetype": "text/x-python",
   "name": "python",
   "nbconvert_exporter": "python",
   "pygments_lexer": "ipython3",
   "version": "3.11.3"
  },
  "orig_nbformat": 4
 },
 "nbformat": 4,
 "nbformat_minor": 2
}
