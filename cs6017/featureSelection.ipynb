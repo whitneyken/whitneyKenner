{
 "cells": [
  {
   "cell_type": "markdown",
   "metadata": {},
   "source": [
    "# Feature Selection\n",
    "\n",
    "We'll use the $Chi^2$ test to perform feature selection on the Titanic dataset.  There's a few ways to use it in Scikit Learn so we'll look at soem different options available to us."
   ]
  },
  {
   "cell_type": "code",
   "execution_count": null,
   "metadata": {},
   "outputs": [],
   "source": [
    "import numpy as np\n",
    "from sklearn import metrics\n",
    "from sklearn.model_selection import train_test_split\n",
    "from sklearn import tree\n",
    "from sklearn.feature_selection import SelectKBest, SelectPercentile\n",
    "from sklearn.feature_selection import chi2\n",
    "import pandas as pd\n",
    "\n",
    "import matplotlib.pyplot as plt\n",
    "from matplotlib.colors import ListedColormap\n",
    "%matplotlib inline\n",
    "plt.rcParams['figure.figsize'] = (10, 6)\n",
    "plt.style.use('ggplot')"
   ]
  },
  {
   "cell_type": "code",
   "execution_count": null,
   "metadata": {},
   "outputs": [],
   "source": [
    "from scipy import stats\n",
    "\n",
    "plt.figure( figsize=( 7, 3 ) )\n",
    "\n",
    "xs = np.linspace( 0, 10, 100 )\n",
    "ys = stats.chi2.pdf( xs, 1 )\n",
    "plt.plot( xs, ys )\n",
    "plt.ylim( [-.1,1] )\n",
    "\n",
    "x = 7\n",
    "plt.plot( x, 0.0, \"ro\" )\n",
    "xs = np.linspace( x, 10, 100 )\n",
    "ys = stats.chi2.pdf( xs, 1 )\n",
    "plt.fill_between( xs, ys, color=\"green\" )\n",
    "print( \"Percent for %f is %.3f%%\" % ( x, ((1-stats.chi2.cdf(x,1))*100) ) )"
   ]
  },
  {
   "cell_type": "code",
   "execution_count": null,
   "metadata": {},
   "outputs": [],
   "source": [
    "titanic = pd.read_csv( \"../Week5/decisionTrees/titanic.csv\" )\n",
    "\n",
    "## Fix the data...\n",
    "\n",
    "# Fill in missing values...\n",
    "titanic[ \"Age\" ] = titanic[\"Age\"].fillna( titanic[\"Age\"].mean() )\n",
    "\n",
    "def sex_to_numeric(x):\n",
    "    if x=='male':\n",
    "        return 0\n",
    "    if x=='female':\n",
    "        return 1\n",
    "    else:\n",
    "        return x\n",
    "\n",
    "titanic[\"Sex\"] = titanic[\"Sex\"].apply(sex_to_numeric)\n",
    "\n",
    "# this will break if run more than once\n",
    "def embarked_to_numeric(x):\n",
    "    if x==\"S\":\n",
    "        return 0\n",
    "    if x==\"C\":\n",
    "        return 1\n",
    "    if x==\"Q\":\n",
    "        return 2\n",
    "    else: \n",
    "        return 3\n",
    "    \n",
    "titanic[\"Embarked\"] = titanic[\"Embarked\"].apply(embarked_to_numeric)\n",
    "\n",
    "features = [\"Survived\", \"Pclass\", \"Sex\", \"Age\", \"SibSp\", \"Parch\", \"Fare\", \"Embarked\"]\n",
    "titanic = titanic[features]\n",
    "\n",
    "titanic.head( 10 )\n",
    "# titanic.describe()\n",
    "for fare in [0, 10, 50, 100, 500] :\n",
    "    total = titanic[ titanic.Fare >= fare ].Survived.count()\n",
    "    surv  = titanic[ titanic.Fare >= fare ].Survived.sum()\n",
    "    print( \"Total paying move than %3d: %3d.  Survived: %3d.  Percent: %5.1f%%\" % ( fare, \n",
    "                       total, surv, surv/total*100 ) )\n",
    "\n",
    "print( \"Percent female survivors: %.1f%%\" % (titanic[ titanic.Sex == 1 ].Survived.sum() / 314 * 100) )"
   ]
  },
  {
   "cell_type": "code",
   "execution_count": null,
   "metadata": {},
   "outputs": [],
   "source": [
    "def splitData( features ):\n",
    "    labels = titanic[\"Survived\"].values\n",
    "    predictors =  titanic[features].values\n",
    "\n",
    "    # Split into training and test sets\n",
    "    XTrain, XTest, yTrain, yTest = train_test_split( predictors, labels, \n",
    "                                                     random_state=1, test_size=0.5 )\n",
    "    return XTrain, XTest, yTrain, yTest"
   ]
  },
  {
   "cell_type": "code",
   "execution_count": null,
   "metadata": {},
   "outputs": [],
   "source": [
    "predictor_features = titanic.columns[1:] # Everything but whether the person survived...\n",
    "\n",
    "XTrain, XTest, yTrain, yTest = splitData( predictor_features )\n",
    "\n",
    "selector = SelectPercentile( chi2 )\n",
    "\n",
    "X_new = selector.fit_transform( XTrain, yTrain )\n",
    "\n",
    "print( \"Predictor Features:\" , predictor_features.values )\n",
    "\n",
    "print( \"P-Values:\" )\n",
    "for l_p in zip( predictor_features, selector.pvalues_, selector.scores_ ):  # What does \"zip\" do?\n",
    "    lab = l_p[0]\n",
    "    pv  = l_p[1] * 100.0\n",
    "    sc  = l_p[2]\n",
    "    print( \"   %8s: %.3f%%  (Score: %7.2f)\" % (lab, pv, sc) )\n",
    "\n",
    "# stats.chi2.sf( 1.0, 1 ) # 1 - CDF()"
   ]
  },
  {
   "cell_type": "code",
   "execution_count": null,
   "metadata": {},
   "outputs": [],
   "source": [
    "selector = SelectKBest( chi2, k=3 ) # What are the best K (3 in this case) features to use?\n",
    "X_new = selector.fit_transform(XTrain, yTrain)\n",
    "\n",
    "print( predictor_features.values )\n",
    "print( selector.get_support() )\n",
    "print( \"Best features to use:\", predictor_features[ selector.get_support() ].values )"
   ]
  },
  {
   "cell_type": "code",
   "execution_count": null,
   "metadata": {},
   "outputs": [],
   "source": [
    "titanic[\"Embarked\"].value_counts()"
   ]
  },
  {
   "cell_type": "code",
   "execution_count": null,
   "metadata": {},
   "outputs": [],
   "source": [
    "print( \"Survived based on embarkation location:\" )\n",
    "titanic[ titanic[\"Survived\"] == 1 ].Embarked.value_counts()"
   ]
  },
  {
   "cell_type": "code",
   "execution_count": null,
   "metadata": {},
   "outputs": [],
   "source": [
    "print( \"Died based on embarkation location:\" )\n",
    "titanic[ titanic[\"Survived\" ] == 0].Embarked.value_counts()"
   ]
  }
 ],
 "metadata": {
  "interpreter": {
   "hash": "b0fa6594d8f4cbf19f97940f81e996739fb7646882a419484c72d19e05852a7e"
  },
  "kernelspec": {
   "display_name": "Python 3.9.12 64-bit",
   "language": "python",
   "name": "python3"
  },
  "language_info": {
   "codemirror_mode": {
    "name": "ipython",
    "version": 3
   },
   "file_extension": ".py",
   "mimetype": "text/x-python",
   "name": "python",
   "nbconvert_exporter": "python",
   "pygments_lexer": "ipython3",
   "version": "3.9.13"
  },
  "vscode": {
   "interpreter": {
    "hash": "8fcd46d531329f49b73a0948faa8aed429eb8dafd35203d9948e8358a307ba0e"
   }
  }
 },
 "nbformat": 4,
 "nbformat_minor": 4
}
