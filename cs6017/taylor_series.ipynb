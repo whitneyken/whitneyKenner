{
 "cells": [
  {
   "attachments": {},
   "cell_type": "markdown",
   "metadata": {},
   "source": [
    "## Understand a line: m and b"
   ]
  },
  {
   "cell_type": "code",
   "execution_count": null,
   "metadata": {},
   "outputs": [],
   "source": [
    "%matplotlib inline\n",
    "import numpy as np\n",
    "from matplotlib.pyplot import plot\n",
    "from matplotlib import pyplot as plt\n",
    "\n",
    "plt.style.use( 'ggplot' )\n",
    "\n",
    "xs = np.arange( -20, 20, 1 )\n",
    "\n",
    "# m == slope\n",
    "slope = 3\n",
    "\n",
    "# b == y-intercept\n",
    "b = 3\n",
    "\n",
    "ys = ( slope * xs ) + b\n",
    "\n",
    "# Draw the x and y axes on the plot:\n",
    "plt.xlim( [-5, 5] )\n",
    "plt.ylim( [-5, 5] )\n",
    "plt.axvline( x=0, c=\"black\" )\n",
    "plt.axhline( y=0, c=\"black\" )\n",
    "\n",
    "# Draw computed line (in green)\n",
    "_ = plot( xs, ys, \"g\" )"
   ]
  },
  {
   "attachments": {},
   "cell_type": "markdown",
   "metadata": {},
   "source": [
    "## Taylor Series Examples\n",
    "### Fitting a sine wave"
   ]
  },
  {
   "cell_type": "code",
   "execution_count": null,
   "metadata": {},
   "outputs": [],
   "source": [
    "import numpy as np\n",
    "from matplotlib.pyplot import plot\n",
    "from matplotlib        import pyplot as plt\n",
    "\n",
    "PI = np.pi\n",
    "\n",
    "plt.figure( figsize=(7,7) )\n",
    "\n",
    "# Actual sine wave:\n",
    "xs = np.arange( 0, PI, .1 )\n",
    "ys = np.sin( xs )\n",
    "\n",
    "plot( xs, ys, 'b', linewidth=5 )\n",
    "\n",
    "# 1st approx\n",
    "ys = 4*xs/PI**2 * (PI-xs)\n",
    "plot( xs, ys, 'r' )\n",
    "\n",
    "# 2nd approx - uses PI^2, PI^5, x^2, x\n",
    "# but for simplicitiy and to see that these turn into actual Betas...\n",
    "ys = -0.417598*(xs**2) + 1.312236*xs - 0.050465\n",
    "plot( xs, ys, 'og')\n",
    "\n",
    "# Bhaskara I\n",
    "ys = ( 16*xs * (np.pi - xs) ) / ( 5*np.pi**2 - 4*xs * ( np.pi - xs ) )\n",
    "plot( xs, ys, 'w')"
   ]
  },
  {
   "cell_type": "code",
   "execution_count": null,
   "metadata": {},
   "outputs": [],
   "source": [
    "from math import factorial\n",
    "\n",
    "# Actual sine wave:\n",
    "xs = np.arange( -1.5*PI, PI*1.5, .1 )\n",
    "ys = np.sin( xs )\n",
    "\n",
    "plt.plot( xs, ys, 'b', linewidth=5 )\n",
    "\n",
    "ys = xs - xs**3/factorial(3) + xs**5/factorial(5) - xs**7/factorial(7)\n",
    "plt.plot( xs, ys, 'r' )"
   ]
  },
  {
   "cell_type": "code",
   "execution_count": null,
   "metadata": {},
   "outputs": [],
   "source": [
    "# Actual sine wave:\n",
    "bounds = 3\n",
    "xs = np.arange( -bounds*PI, bounds*PI, .1 )\n",
    "ys = np.sin( xs )\n",
    "\n",
    "plt.plot( xs, ys, 'b', linewidth=5 )\n",
    "\n",
    "ys = xs - xs**3/factorial(3) + xs**5/factorial(5) - xs**7/factorial(7) + xs**9/factorial(9) - xs**11/factorial(11)\n",
    "plt.plot( xs, ys, 'g', linewidth=3 )\n",
    "\n",
    "ys = xs.copy()\n",
    "\n",
    "sign = -1\n",
    "for exp in range( 3, 26, 2 ):\n",
    "    ys = np.add( ys, sign * xs**exp / factorial(exp) )\n",
    "    sign *= -1\n",
    "\n",
    "\n",
    "plt.ylim( [-3, 3 ] )\n",
    "plt.plot( xs, ys, 'r' )\n"
   ]
  },
  {
   "attachments": {},
   "cell_type": "markdown",
   "metadata": {},
   "source": [
    "### Example of doing animations...\n",
    "The following works under VS Code on Windows and Mac (after installing appropriate extensions), but is just an example of animation... it has not been updated to show anything specific to this notebook yet. "
   ]
  },
  {
   "cell_type": "code",
   "execution_count": null,
   "metadata": {},
   "outputs": [],
   "source": [
    "%matplotlib widget\n",
    "\n",
    "import numpy as np\n",
    "from matplotlib import pyplot as plt\n",
    "from matplotlib.animation import FuncAnimation\n",
    "\n",
    "fig, ax = plt.subplots()\n",
    "line, = ax.plot( [] )\n",
    "\n",
    "ax.set_xlim( 0, 100 )\n",
    "ax.set_ylim( -3, 3 )\n",
    "\n",
    "def animate( frame_num ) :\n",
    "    print(\"animate:\", frame_num)\n",
    "    xs = np.arange( frame_num, 100 + frame_num, .1 )\n",
    "    ys = np.sin( xs )\n",
    "    line.set_data( (xs, ys) )\n",
    "    return line\n",
    "\n",
    "anim = FuncAnimation( fig, animate, frames=100, interval=20, repeat=False )\n",
    "plt.show()"
   ]
  }
 ],
 "metadata": {
  "interpreter": {
   "hash": "b0fa6594d8f4cbf19f97940f81e996739fb7646882a419484c72d19e05852a7e"
  },
  "kernelspec": {
   "display_name": "Python 3.9.13 64-bit",
   "language": "python",
   "name": "python3"
  },
  "language_info": {
   "codemirror_mode": {
    "name": "ipython",
    "version": 3
   },
   "file_extension": ".py",
   "mimetype": "text/x-python",
   "name": "python",
   "nbconvert_exporter": "python",
   "pygments_lexer": "ipython3",
   "version": "3.9.13"
  },
  "orig_nbformat": 4
 },
 "nbformat": 4,
 "nbformat_minor": 2
}
