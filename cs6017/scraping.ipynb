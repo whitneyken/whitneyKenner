{
 "cells": [
  {
   "cell_type": "markdown",
   "metadata": {},
   "source": [
    "# Introduction to Data Science – Lecture 12 – Web Scraping\n",
    "*COMP 5360 / MATH 4100, University of Utah, http://datasciencecourse.net/* \n",
    "\n",
    "In this lecture we will explore how we can extract data from a web-page using automatic scraping and crawling with [Beautiful Soup](https://www.crummy.com/software/BeautifulSoup/bs4/doc/).\n",
    "\n",
    "First, we'll talk a bit about HTML though. "
   ]
  },
  {
   "cell_type": "markdown",
   "metadata": {},
   "source": [
    "## HTML and the DOM\n",
    "\n",
    "We will scrape web-pages that are (partially) written in HTML and represented in the DOM. DOM stands for  Document Object Model, while HTML stands for “HyperText Markup Language”. 25 years ago, that used to be a meaningful description of what HTML actually did: it has links (hypertext), and it is a markup language. The latest version of HTML, however, the HTML5 standard, does much, much more: graphics, audio, video, etc. So it is easier to think of HTML as “whatever it is that web browsers know how to interpret”, and just not think about the actual term."
   ]
  },
  {
   "cell_type": "markdown",
   "metadata": {},
   "source": [
    "### Elements\n",
    "\n",
    "The important thing about HTML is that the markup is represented by elements. An HTML element is a portion of the content that is surrounded by a pair of tags of the same name. Like this:\n",
    "\n",
    "```html\n",
    "<strong>This is an HTML element.</strong>\n",
    "```\n",
    "\n",
    "In this element, strong is the name of the tag; the open tag is `<strong>`, and the matching closing tag is `</strong>`. The way you should interpret this is that the text “This is an HTML element” should be “strong”, i.e., typically this will be bold text.\n",
    "\n",
    "HTML elements can and commonly do nest:\n",
    "\n",
    "```html\n",
    "<strong>This is strong, and <u>this is underlined and strong.</u></strong>\n",
    "```\n",
    "\n",
    "In addition to the names, opening tags can contain extra information about the element. These are called attributes:\n",
    "\n",
    "```html\n",
    "<a href='http://www.google.com'>A link to Google's main page</a>\n",
    "```\n",
    "\n",
    "In this case, we’re using the `a` element which stood for “anchor”, but now is almost universally used as a “link”. The attribute `href` means “HTML reference”, which actually makes sense for a change. The meaning given to each attribute changes from element to element.\n",
    "\n",
    "Important attributes for our purposes are `id` and `class`. The id attribute gives the attribute a unique identifier, which can then be used to access the element programmatically. Think of it as making the element accessible via a global variable.  \n",
    "\n",
    "The class is conceptually similar but is intendent to be applied to a whole “class” of elements. \n",
    "\n",
    "HTML pages require some boilerplate. Here is a minimal page: \n",
    "\n",
    "```html\n",
    "<!DOCTYPE html>\n",
    "<html lang=\"en\">\n",
    "<head>\n",
    "    <meta charset=\"UTF-8\">\n",
    "    <title></title>\n",
    "</head>\n",
    "<body>\n",
    "Hello World! What's up?\n",
    "</body>\n",
    "</html>\n",
    "``` \n",
    "\n",
    "The `<head>` contains meta-information such as the titel of the site, the `<body>` contains the actual data. "
   ]
  },
  {
   "cell_type": "markdown",
   "metadata": {},
   "source": [
    "### Hierarchy\n",
    "\n",
    "Data in HTML is often structured hirearchically: \n",
    "\n",
    "```html\n",
    "<body>\n",
    "  <article>\n",
    "    <span class=\"date\">Published: 2016-08-25</span>\n",
    "    <span class=\"author\">Led Zeppelin</span>\n",
    "    <h1>Ramble On</h1>\n",
    "    <div class=\"content\">\n",
    "    Leaves are falling all around, It's time I was on my way. \n",
    "    Thanks to you, I'm much obliged for such a pleasant stay. \n",
    "    But now it's time for me to go. The autumn moon lights my way. \n",
    "    For now I smell the rain, and with it pain, and it's headed my way. \n",
    "    <div>\n",
    "  </article>\n",
    "  <article>\n",
    "    <span class=\"date\">Published: 2016-08-23</span>\n",
    "    <span class=\"author\">Radiohead</span>\n",
    "    <h1>Burn the Witch</h1>\n",
    "    <div class=\"content\">\n",
    "    Stay in the shadows\n",
    "    Cheer at the gallows\n",
    "    This is a round up\n",
    "    This is a low flying panic attack\n",
    "    Sing a song on the jukebox that goes\n",
    "    Burn the witch\n",
    "    Burn the witch\n",
    "    We know where you live\n",
    "    <div>\n",
    "  </article>\n",
    "</body>\n",
    "```\n",
    "\n",
    "Here, the title of the song is nested three levels deep: `body > article > h1`."
   ]
  },
  {
   "cell_type": "markdown",
   "metadata": {},
   "source": [
    "### Tables\n",
    "\n",
    "Data is also often stored in HTML tables. `<tr>` indicates a row (table row), `<th>` and `<td>` are used to demark cells, either header cells (`<th>`) or regular cells (`<td>`). \n",
    "\n",
    "```html\n",
    "<table>\n",
    "    <tr>\n",
    "        <th></th>\n",
    "        <th>The Beatles</th>\n",
    "        <th>Led Zeppelin</th>\n",
    "    </tr>\n",
    "    <tr>\n",
    "        <td># Band Members</td>\n",
    "        <td>4</td>\n",
    "        <td>4</td>\n",
    "    </tr>\n",
    "</table>\n",
    "```"
   ]
  },
  {
   "cell_type": "markdown",
   "metadata": {},
   "source": [
    "### The DOM\n",
    "\n",
    "As we have seen above, a markup document looks a lot like a tree: it has a root, the HTML element, and elements can have children that are containing elements themselves.\n",
    "\n",
    "While HTML is a textual representation of a markup document, the DOM is a programming interface for it. Also the DOM represents the state of a page as it's rendered, that (nowadays) doesn't mean that there is an underlying HTML document that corresponds to that exactly. Rather, the DOM is dynamically generated with, e.g., JavaScript. \n",
    "\n",
    "In this class we will use “DOM” to mean the tree created by the web browsers to represent the document.\n",
    "\n",
    "#### Inspecting the DOM in a browser\n",
    "\n",
    "Perhaps the most important habit when scraping is to investigate the source of a page using the Developer Tools. In this case, we’ll look at the Element tree, by clicking on the menu bar: View → Developer → Developer Tools.\n",
    "\n",
    "Alternatively, you can right click on any part of the webpage, and choose “Inspect Element”. Notice that there can be a big difference between what is in the DOM and what is in the source.\n",
    "\n",
    "Take a look at the DOM of [this html page](lyrics.html). Next, we'll scrape the data from this page! "
   ]
  },
  {
   "cell_type": "markdown",
   "metadata": {},
   "source": [
    "# Scraping with BeautifulSoup\n",
    "\n",
    "[BeautifulSoup](https://www.crummy.com/software/BeautifulSoup/) is a Python library design for computationally extracting data from html documents. It supports navigating in the DOM and retreiving exactly the data elements you need.\n",
    "\n",
    "Let's start with a simple example using the [lyrics.html](lyrics.html) file."
   ]
  },
  {
   "cell_type": "code",
   "execution_count": 1,
   "metadata": {},
   "outputs": [
    {
     "data": {
      "text/plain": [
       "<!DOCTYPE html>\n",
       "\n",
       "<html lang=\"en\">\n",
       "<head>\n",
       "<meta charset=\"utf-8\"/>\n",
       "<title>Lyrics</title>\n",
       "</head>\n",
       "<body>\n",
       "<article id=\"zep\">\n",
       "<span class=\"date\">Published: 2016-08-25</span>\n",
       "<span class=\"author\">Led Zeppelin</span>\n",
       "<h1>Ramble On</h1>\n",
       "<div class=\"content\">\n",
       "    Leaves are falling all around, It's time I was on my way.\n",
       "    Thanks to you, I'm much obliged for such a pleasant stay.\n",
       "    But now it's time for me to go. The autumn moon lights my way.\n",
       "    For now I smell the rain, and with it pain, and it's headed my way.\n",
       "    </div>\n",
       "</article>\n",
       "<article id=\"radio\">\n",
       "<span class=\"date\">Published: 2016-08-23</span>\n",
       "<span class=\"author\">Radiohead</span>\n",
       "<h1>Burn the Witch</h1>\n",
       "<div class=\"content\">\n",
       "    Stay in the shadows\n",
       "    Cheer at the gallows\n",
       "    This is a round up\n",
       "    This is a low flying panic attack\n",
       "    Sing a song on the jukebox that goes\n",
       "    Burn the witch\n",
       "    Burn the witch\n",
       "    We know where you live\n",
       "    </div>\n",
       "</article>\n",
       "</body>\n",
       "</html>"
      ]
     },
     "execution_count": 1,
     "metadata": {},
     "output_type": "execute_result"
    }
   ],
   "source": [
    "#install the bs4 package through pip.  I think the beautifulsoup pacakage is a much older version?\n",
    "from bs4 import BeautifulSoup\n",
    "\n",
    "# we tell BeautifulSoup and tell it which parser to use\n",
    "song_soup = BeautifulSoup( open(\"lyrics.html\"), \"html.parser\" )\n",
    "# the output corresponds exactly to the html file\n",
    "song_soup"
   ]
  },
  {
   "cell_type": "code",
   "execution_count": 2,
   "metadata": {},
   "outputs": [
    {
     "name": "stdout",
     "output_type": "stream",
     "text": [
      "<!DOCTYPE html>\n",
      "<html lang=\"en\">\n",
      " <head>\n",
      "  <meta charset=\"utf-8\"/>\n",
      "  <title>\n",
      "   Lyrics\n",
      "  </title>\n",
      " </head>\n",
      " <body>\n",
      "  <article id=\"zep\">\n",
      "   <span class=\"date\">\n",
      "    Published: 2016-08-25\n",
      "   </span>\n",
      "   <span class=\"author\">\n",
      "    Led Zeppelin\n",
      "   </span>\n",
      "   <h1>\n",
      "    Ramble On\n",
      "   </h1>\n",
      "   <div class=\"content\">\n",
      "    Leaves are falling all around, It's time I was on my way.\n",
      "    Thanks to you, I'm much obliged for such a pleasant stay.\n",
      "    But now it's time for me to go. The autumn moon lights my way.\n",
      "    For now I smell the rain, and with it pain, and it's headed my way.\n",
      "   </div>\n",
      "  </article>\n",
      "  <article id=\"radio\">\n",
      "   <span class=\"date\">\n",
      "    Published: 2016-08-23\n",
      "   </span>\n",
      "   <span class=\"author\">\n",
      "    Radiohead\n",
      "   </span>\n",
      "   <h1>\n",
      "    Burn the Witch\n",
      "   </h1>\n",
      "   <div class=\"content\">\n",
      "    Stay in the shadows\n",
      "    Cheer at the gallows\n",
      "    This is a round up\n",
      "    This is a low flying panic attack\n",
      "    Sing a song on the jukebox that goes\n",
      "    Burn the witch\n",
      "    Burn the witch\n",
      "    We know where you live\n",
      "   </div>\n",
      "  </article>\n",
      " </body>\n",
      "</html>\n",
      "\n"
     ]
    }
   ],
   "source": [
    "# sometimes that can be hard to read, so we can format it\n",
    "print( song_soup.prettify() )"
   ]
  },
  {
   "cell_type": "markdown",
   "metadata": {},
   "source": [
    "We can access content by tags:"
   ]
  },
  {
   "cell_type": "code",
   "execution_count": 3,
   "metadata": {},
   "outputs": [
    {
     "data": {
      "text/plain": [
       "<title>Lyrics</title>"
      ]
     },
     "execution_count": 3,
     "metadata": {},
     "output_type": "execute_result"
    }
   ],
   "source": [
    "# get the title tag\n",
    "song_soup.title"
   ]
  },
  {
   "cell_type": "markdown",
   "metadata": {},
   "source": [
    "And get the text out of the tag:"
   ]
  },
  {
   "cell_type": "code",
   "execution_count": 5,
   "metadata": {},
   "outputs": [
    {
     "data": {
      "text/plain": [
       "'Lyrics'"
      ]
     },
     "execution_count": 5,
     "metadata": {},
     "output_type": "execute_result"
    }
   ],
   "source": [
    "song_soup.title.string"
   ]
  },
  {
   "cell_type": "markdown",
   "metadata": {},
   "source": [
    "Directly accessing an element works for the first occurence of a tag, we don't get the others. "
   ]
  },
  {
   "cell_type": "code",
   "execution_count": 6,
   "metadata": {},
   "outputs": [
    {
     "data": {
      "text/plain": [
       "<div class=\"content\">\n",
       "    Leaves are falling all around, It's time I was on my way.\n",
       "    Thanks to you, I'm much obliged for such a pleasant stay.\n",
       "    But now it's time for me to go. The autumn moon lights my way.\n",
       "    For now I smell the rain, and with it pain, and it's headed my way.\n",
       "    </div>"
      ]
     },
     "execution_count": 6,
     "metadata": {},
     "output_type": "execute_result"
    }
   ],
   "source": [
    "song_soup.div"
   ]
  },
  {
   "cell_type": "markdown",
   "metadata": {},
   "source": [
    "Again, we can retreive the text content of an element: "
   ]
  },
  {
   "cell_type": "code",
   "execution_count": 7,
   "metadata": {},
   "outputs": [
    {
     "name": "stdout",
     "output_type": "stream",
     "text": [
      "\n",
      "    Leaves are falling all around, It's time I was on my way.\n",
      "    Thanks to you, I'm much obliged for such a pleasant stay.\n",
      "    But now it's time for me to go. The autumn moon lights my way.\n",
      "    For now I smell the rain, and with it pain, and it's headed my way.\n",
      "    \n"
     ]
    }
   ],
   "source": [
    "print( song_soup.div.string )"
   ]
  },
  {
   "cell_type": "markdown",
   "metadata": {},
   "source": [
    "We can use attributes to find specific element:"
   ]
  },
  {
   "cell_type": "code",
   "execution_count": 13,
   "metadata": {},
   "outputs": [
    {
     "name": "stdout",
     "output_type": "stream",
     "text": [
      "<article id=\"zep\">\n",
      " <span class=\"date\">\n",
      "  Published: 2016-08-25\n",
      " </span>\n",
      " <span class=\"author\">\n",
      "  Led Zeppelin\n",
      " </span>\n",
      " <h1>\n",
      "  Ramble On\n",
      " </h1>\n",
      " <div class=\"content\">\n",
      "  Leaves are falling all around, It's time I was on my way.\n",
      "    Thanks to you, I'm much obliged for such a pleasant stay.\n",
      "    But now it's time for me to go. The autumn moon lights my way.\n",
      "    For now I smell the rain, and with it pain, and it's headed my way.\n",
      " </div>\n",
      "</article>\n",
      "\n"
     ]
    }
   ],
   "source": [
    "zep = song_soup.find( id=\"zep\" )\n",
    "print(zep.prettify())"
   ]
  },
  {
   "cell_type": "markdown",
   "metadata": {},
   "source": [
    " We can also get only the text, not the html markup: "
   ]
  },
  {
   "cell_type": "code",
   "execution_count": 14,
   "metadata": {},
   "outputs": [
    {
     "name": "stdout",
     "output_type": "stream",
     "text": [
      "\n",
      "Published: 2016-08-25\n",
      "Led Zeppelin\n",
      "Ramble On\n",
      "\n",
      "    Leaves are falling all around, It's time I was on my way.\n",
      "    Thanks to you, I'm much obliged for such a pleasant stay.\n",
      "    But now it's time for me to go. The autumn moon lights my way.\n",
      "    For now I smell the rain, and with it pain, and it's headed my way.\n",
      "    \n",
      "\n"
     ]
    }
   ],
   "source": [
    "text = song_soup.find( id=\"zep\" ).get_text()\n",
    "print( text )"
   ]
  },
  {
   "cell_type": "markdown",
   "metadata": {},
   "source": [
    "We can also use find_all to get all instances of a tag:"
   ]
  },
  {
   "cell_type": "code",
   "execution_count": 15,
   "metadata": {},
   "outputs": [
    {
     "data": {
      "text/plain": [
       "[<h1>Ramble On</h1>, <h1>Burn the Witch</h1>]"
      ]
     },
     "execution_count": 15,
     "metadata": {},
     "output_type": "execute_result"
    }
   ],
   "source": [
    "h1s = song_soup.find_all( \"h1\" )\n",
    "h1s"
   ]
  },
  {
   "cell_type": "markdown",
   "metadata": {},
   "source": [
    "This returns a list of beautiful soup elements:"
   ]
  },
  {
   "cell_type": "code",
   "execution_count": 16,
   "metadata": {},
   "outputs": [
    {
     "data": {
      "text/plain": [
       "bs4.element.Tag"
      ]
     },
     "execution_count": 16,
     "metadata": {},
     "output_type": "execute_result"
    }
   ],
   "source": [
    "type( h1s[0] )"
   ]
  },
  {
   "cell_type": "markdown",
   "metadata": {},
   "source": [
    "It's easy to get the text out of this:"
   ]
  },
  {
   "cell_type": "code",
   "execution_count": 17,
   "metadata": {},
   "outputs": [
    {
     "data": {
      "text/plain": [
       "['Ramble On', 'Burn the Witch']"
      ]
     },
     "execution_count": 17,
     "metadata": {},
     "output_type": "execute_result"
    }
   ],
   "source": [
    "string_h1s = [ tag.get_text() for tag in h1s ]\n",
    "string_h1s"
   ]
  },
  {
   "cell_type": "markdown",
   "metadata": {},
   "source": [
    "Since `find_all` is so commonly used, you can use a shortcut by just calling directly on an object:"
   ]
  },
  {
   "cell_type": "code",
   "execution_count": 18,
   "metadata": {},
   "outputs": [
    {
     "data": {
      "text/plain": [
       "[<div class=\"content\">\n",
       "     Leaves are falling all around, It's time I was on my way.\n",
       "     Thanks to you, I'm much obliged for such a pleasant stay.\n",
       "     But now it's time for me to go. The autumn moon lights my way.\n",
       "     For now I smell the rain, and with it pain, and it's headed my way.\n",
       "     </div>,\n",
       " <div class=\"content\">\n",
       "     Stay in the shadows\n",
       "     Cheer at the gallows\n",
       "     This is a round up\n",
       "     This is a low flying panic attack\n",
       "     Sing a song on the jukebox that goes\n",
       "     Burn the witch\n",
       "     Burn the witch\n",
       "     We know where you live\n",
       "     </div>]"
      ]
     },
     "execution_count": 18,
     "metadata": {},
     "output_type": "execute_result"
    }
   ],
   "source": [
    "song_soup( \"div\" )"
   ]
  },
  {
   "cell_type": "markdown",
   "metadata": {},
   "source": [
    "We can address the elements in the returned object directly:"
   ]
  },
  {
   "cell_type": "code",
   "execution_count": 19,
   "metadata": {},
   "outputs": [
    {
     "data": {
      "text/plain": [
       "<div class=\"content\">\n",
       "    Stay in the shadows\n",
       "    Cheer at the gallows\n",
       "    This is a round up\n",
       "    This is a low flying panic attack\n",
       "    Sing a song on the jukebox that goes\n",
       "    Burn the witch\n",
       "    Burn the witch\n",
       "    We know where you live\n",
       "    </div>"
      ]
     },
     "execution_count": 19,
     "metadata": {},
     "output_type": "execute_result"
    }
   ],
   "source": [
    "song_soup(\"div\")[1]"
   ]
  },
  {
   "cell_type": "markdown",
   "metadata": {},
   "source": [
    "Or iterate over it:"
   ]
  },
  {
   "cell_type": "code",
   "execution_count": 20,
   "metadata": {},
   "outputs": [
    {
     "name": "stdout",
     "output_type": "stream",
     "text": [
      "---\n",
      "<div class=\"content\">\n",
      "    Leaves are falling all around, It's time I was on my way.\n",
      "    Thanks to you, I'm much obliged for such a pleasant stay.\n",
      "    But now it's time for me to go. The autumn moon lights my way.\n",
      "    For now I smell the rain, and with it pain, and it's headed my way.\n",
      "    </div>\n",
      "---\n",
      "<div class=\"content\">\n",
      "    Stay in the shadows\n",
      "    Cheer at the gallows\n",
      "    This is a round up\n",
      "    This is a low flying panic attack\n",
      "    Sing a song on the jukebox that goes\n",
      "    Burn the witch\n",
      "    Burn the witch\n",
      "    We know where you live\n",
      "    </div>\n"
     ]
    }
   ],
   "source": [
    "for p in song_soup.find_all(\"div\"):\n",
    "    print(\"---\")\n",
    "    print(p)"
   ]
  },
  {
   "cell_type": "markdown",
   "metadata": {},
   "source": [
    "### CSS Selectors\n",
    "\n",
    "We can also use CSS selectors. CSS Selectors apply, among others, to elements, classes, and IDs.\n",
    "\n",
    "Below is an example of how CSS is used to style different elements. \n",
    "\n",
    "\n",
    "```CSS\n",
    "/* Element Selector */\n",
    "article {\n",
    "  color: FireBrick;\n",
    "}\n",
    "\n",
    "/* ID selector */\n",
    "#myID {\n",
    "  color: Tomato;\n",
    "}\n",
    "\n",
    "/* Class selector */\n",
    ".myClass {\n",
    "  color: Aquamarine;\n",
    "}\n",
    "\n",
    "/* Child selector. Only DIRECT children match */\n",
    "p > b {\n",
    "  color: SteelBlue;\n",
    "}\n",
    "\n",
    "/* Descendant selector. Every time a b is nested within a div this matches */\n",
    "div b {\n",
    "  color: green;\n",
    "}\n",
    "\n",
    "```\n",
    "\n",
    "[Here is an example](https://jsfiddle.net/gxhqv26m/1/) with all the important selectors.\n",
    "\n",
    "Let's try this in Python:\n"
   ]
  },
  {
   "cell_type": "code",
   "execution_count": 21,
   "metadata": {},
   "outputs": [
    {
     "data": {
      "text/plain": [
       "[<div class=\"content\">\n",
       "     Leaves are falling all around, It's time I was on my way.\n",
       "     Thanks to you, I'm much obliged for such a pleasant stay.\n",
       "     But now it's time for me to go. The autumn moon lights my way.\n",
       "     For now I smell the rain, and with it pain, and it's headed my way.\n",
       "     </div>,\n",
       " <div class=\"content\">\n",
       "     Stay in the shadows\n",
       "     Cheer at the gallows\n",
       "     This is a round up\n",
       "     This is a low flying panic attack\n",
       "     Sing a song on the jukebox that goes\n",
       "     Burn the witch\n",
       "     Burn the witch\n",
       "     We know where you live\n",
       "     </div>]"
      ]
     },
     "execution_count": 21,
     "metadata": {},
     "output_type": "execute_result"
    }
   ],
   "source": [
    "# selecting all elements of class .content\n",
    "song_soup.select( \".content\" )"
   ]
  },
  {
   "cell_type": "code",
   "execution_count": 24,
   "metadata": {},
   "outputs": [
    {
     "data": {
      "text/plain": [
       "[<div class=\"content\">\n",
       "     Stay in the shadows\n",
       "     Cheer at the gallows\n",
       "     This is a round up\n",
       "     This is a low flying panic attack\n",
       "     Sing a song on the jukebox that goes\n",
       "     Burn the witch\n",
       "     Burn the witch\n",
       "     We know where you live\n",
       "     </div>]"
      ]
     },
     "execution_count": 24,
     "metadata": {},
     "output_type": "execute_result"
    }
   ],
   "source": [
    "# selecting all divs that are somewhere below the id radio in the tree\n",
    "song_soup.select( \"#radio div\" )"
   ]
  },
  {
   "cell_type": "markdown",
   "metadata": {},
   "source": [
    "OK, now we know how to extract information out of a website. Now let's look at a complete example. "
   ]
  },
  {
   "cell_type": "markdown",
   "metadata": {},
   "source": [
    "## Fetching a Website\n",
    "\n",
    "Downloading websites is easy and very efficient. It turns out, that you can cause quite high load on a server when you scrape a lot. So webmasters usually publish what kinds of scraping they allow on their websites. You should check out a websites terms of service and the `robots.txt` of a domain before crawling excessively. Terms of service are usually broad, so searching for “scraping” or “crawling” is a good idea.\n",
    "\n",
    "Let's take a look at [Google Scholar's robots.txt](https://scholar.google.com/robots.txt):\n",
    "\n",
    "```\n",
    "User-agent: *\n",
    "Disallow: /search\n",
    "Allow: /search/about\n",
    "Disallow: /sdch\n",
    "Disallow: /groups\n",
    "Disallow: /index.html?\n",
    "Disallow: /?\n",
    "Allow: /?hl=\n",
    "...\n",
    "Disallow: /scholar\n",
    "Disallow: /citations?\n",
    "...\n",
    "```\n",
    "\n",
    "Here it specifies that you're not allowed to crawl a lot of the pages. The `/scholar` subdirectory is especially painful because it prohibits you from generating queries dynamically. \n",
    "\n",
    "It's also common that sites ask you to delay crawiling: \n",
    "\n",
    "```\n",
    "Crawl-delay: 30 \n",
    "Request-rate: 1/30 \n",
    "```\n",
    "\n",
    "You should respect those restrictions. Now, no one can stop you from running a request through a crawler, but sites like google scholar will block you VERY quickly if you request to many pages in a short time-frame.\n",
    "\n",
    "An alternative strategy to dynamic crawling (as we're doing in the next example) is to download a local copy of the website and crawl that. This ensures that you hit the site only once per page. A good tool to achieve that is [wget](https://www.gnu.org/software/wget/). "
   ]
  },
  {
   "cell_type": "markdown",
   "metadata": {},
   "source": [
    "### Example: Utah's course enrollments\n",
    "\n",
    "We're going to build a dataset of classes offered this fall at the U and look at the enrollment numbers. We'll use the catalog listed here:  \n",
    "https://student.apps.utah.edu/uofu/stu/ClassSchedules/main/1208/\n",
    "\n",
    "The U doesn't seem to care whether/how we crawl the websites, the [fineprint](https://www.utah.edu/disclaimer/) doesn't mentione it and there is no `robots.txt`: http://www.utah.edu/robots.txt\n",
    "\n",
    "We'll use the [`urllib.request`](https://docs.python.org/3.0/library/urllib.request.html) library to retreive the websites."
   ]
  },
  {
   "cell_type": "code",
   "execution_count": 4,
   "metadata": {},
   "outputs": [],
   "source": [
    "import urllib.request\n",
    "url = \"https://student.apps.utah.edu/uofu/stu/ClassSchedules/main/1208/\"\n",
    "# here we actually access the website\n",
    "with urllib.request.urlopen( url ) as response:\n",
    "    html = response.read()\n",
    "    html = html.decode( 'utf-8' )\n",
    "\n",
    "# save the file\n",
    "with open( 'class_schedule.html', 'w' ) as new_file:\n",
    "    new_file.write(html)\n",
    "\n",
    "# here it's already a local operation\n",
    "soup = BeautifulSoup( html, 'html.parser' )"
   ]
  },
  {
   "cell_type": "markdown",
   "metadata": {},
   "source": [
    "Let's take a look at the first 5000 lines of this page: "
   ]
  },
  {
   "cell_type": "code",
   "execution_count": 5,
   "metadata": {},
   "outputs": [
    {
     "name": "stdout",
     "output_type": "stream",
     "text": [
      "<!DOCTYPE html>\n",
      "<html lang=\"en\" xmlns=\"http://www.w3.org/1999/xhtml\">\n",
      " <head>\n",
      "  <title>\n",
      "   Class Schedules\n",
      "  </title>\n",
      "  <meta charset=\"utf-8\"/>\n",
      "  <meta content=\"IE=edge\" http-equiv=\"X-UA-Compatible\"/>\n",
      "  <meta content=\"width=device-width, initial-scale=1\" name=\"viewport\"/>\n",
      "  <link href=\"https://fonts.googleapis.com/css?family=Open+Sans+Condensed:300,300i,700\" rel=\"stylesheet\"/>\n",
      "  <link href=\"https://fonts.googleapis.com/css?family=Open+Sans:300,300i,400,400i,600,600i,700,700i,800,800i\" rel=\"stylesheet\"/>\n",
      "  <link href=\"/uofu/stu/ClassSchedules/css/main.css\" rel=\"stylesheet\"/>\n",
      "  <link href=\"/uofu/stu/ClassSchedules/css/addins.css\" rel=\"stylesheet\"/>\n",
      "  <link crossorigin=\"anonymous\" href=\"https://cdnjs.cloudflare.com/ajax/libs/tablesaw/3.1.2/tablesaw.css\" integrity=\"sha256-RKWkj+/VPTTBpmJvgbTZhLSjgt7/i5qqwdo6uULEVT4=\" rel=\"stylesheet\"/>\n",
      "  <link href=\"/uofu/stu/ClassSchedules/images/favicon.ico\" rel=\"icon\" type=\"image/png\"/>\n",
      "  <link crossorigin=\"anonymous\" href=\"https://use.fontawesome.com/r\n"
     ]
    }
   ],
   "source": [
    "print( soup.prettify()[0:1000] )"
   ]
  },
  {
   "cell_type": "markdown",
   "metadata": {},
   "source": [
    "If you play around with the inspector in chrome you can find the div elements that correspond to a subject description + link:\n",
    "```\n",
    "CS: (Computer Science, https://student.apps.utah.edu/uofu/stu/ClassSchedules/main/1208/class_list.html?subject=CS)\n",
    "```\n",
    "\n",
    "Let's try to grab that info for all subjects"
   ]
  },
  {
   "cell_type": "code",
   "execution_count": null,
   "metadata": {},
   "outputs": [],
   "source": [
    "# OLD (Now Broken) VERSION\n",
    "\n",
    "# # subjects = {}\n",
    "\n",
    "# for subject in soup.find_all( class_=\"subject-list\" ):\n",
    "#     # the url is relative. \n",
    "#     # We can get the tail by retrieving the link out the href attribute of the a tag\n",
    "#     link_tail = subject.find(\"a\").get(\"href\")\n",
    "#     # concatenate the base URL and the tail of the link\n",
    "#     link = url + link_tail\n",
    "#     # the subject shortname is embedded within the <a> tag\n",
    "#     subject_short = subject.find(\"a\").get_text()\n",
    "#     # the subject name is embedded within the span \n",
    "#     subject_long = subject.span.get_text()\n",
    "#     # write it to the dictionary\n",
    "#     subjects[subject_short] = (subject_long, link)\n",
    "\n",
    "# subjects"
   ]
  },
  {
   "cell_type": "markdown",
   "metadata": {},
   "source": [
    "Oof... The U changed the formatting of this data since the last time I taught this class...  Scraping is VERY FRAGILE.  It looks like NONE of the elements have any sort of useful semantic data in the class/id, so let's try to pull our course links by looking at the href attribute"
   ]
  },
  {
   "cell_type": "code",
   "execution_count": 7,
   "metadata": {},
   "outputs": [
    {
     "data": {
      "text/plain": [
       "{'ACCTG': ('Accounting',\n",
       "  'https://student.apps.utah.edu/uofu/stu/ClassSchedules/main/1208/class_list.html?subject=ACCTG'),\n",
       " 'AEROS': ('Aerospace Studies',\n",
       "  'https://student.apps.utah.edu/uofu/stu/ClassSchedules/main/1208/class_list.html?subject=AEROS'),\n",
       " 'ANAT': ('Neurobiology and Anatomy',\n",
       "  'https://student.apps.utah.edu/uofu/stu/ClassSchedules/main/1208/class_list.html?subject=ANAT'),\n",
       " 'ANES': ('Anesthesiology',\n",
       "  'https://student.apps.utah.edu/uofu/stu/ClassSchedules/main/1208/class_list.html?subject=ANES'),\n",
       " 'ANTH': ('Anthropology',\n",
       "  'https://student.apps.utah.edu/uofu/stu/ClassSchedules/main/1208/class_list.html?subject=ANTH'),\n",
       " 'ARAB': ('Arabic',\n",
       "  'https://student.apps.utah.edu/uofu/stu/ClassSchedules/main/1208/class_list.html?subject=ARAB'),\n",
       " 'ARCH': ('Architecture',\n",
       "  'https://student.apps.utah.edu/uofu/stu/ClassSchedules/main/1208/class_list.html?subject=ARCH'),\n",
       " 'ART': ('Art',\n",
       "  'https://student.apps.utah.edu/uofu/stu/ClassSchedules/main/1208/class_list.html?subject=ART'),\n",
       " 'ARTH': ('Art History',\n",
       "  'https://student.apps.utah.edu/uofu/stu/ClassSchedules/main/1208/class_list.html?subject=ARTH'),\n",
       " 'ARTX': ('Arts Technology',\n",
       "  'https://student.apps.utah.edu/uofu/stu/ClassSchedules/main/1208/class_list.html?subject=ARTX'),\n",
       " 'ASL': ('American Sign Language',\n",
       "  'https://student.apps.utah.edu/uofu/stu/ClassSchedules/main/1208/class_list.html?subject=ASL'),\n",
       " 'ASTP': ('Asian Studies',\n",
       "  'https://student.apps.utah.edu/uofu/stu/ClassSchedules/main/1208/class_list.html?subject=ASTP'),\n",
       " 'ASTR': ('Astronomy',\n",
       "  'https://student.apps.utah.edu/uofu/stu/ClassSchedules/main/1208/class_list.html?subject=ASTR'),\n",
       " 'ATFA': ('Arts Teaching in Fine Arts',\n",
       "  'https://student.apps.utah.edu/uofu/stu/ClassSchedules/main/1208/class_list.html?subject=ATFA'),\n",
       " 'ATHL': ('Athletics',\n",
       "  'https://student.apps.utah.edu/uofu/stu/ClassSchedules/main/1208/class_list.html?subject=ATHL'),\n",
       " 'ATMOS': ('Atmospheric Sciences',\n",
       "  'https://student.apps.utah.edu/uofu/stu/ClassSchedules/main/1208/class_list.html?subject=ATMOS'),\n",
       " 'ATSM': ('Athletic Training and Sports Medicine',\n",
       "  'https://student.apps.utah.edu/uofu/stu/ClassSchedules/main/1208/class_list.html?subject=ATSM'),\n",
       " 'BALLE': ('Ballet',\n",
       "  'https://student.apps.utah.edu/uofu/stu/ClassSchedules/main/1208/class_list.html?subject=BALLE'),\n",
       " 'BART': ('Book Arts',\n",
       "  'https://student.apps.utah.edu/uofu/stu/ClassSchedules/main/1208/class_list.html?subject=BART'),\n",
       " 'BCOR': ('Business Core',\n",
       "  'https://student.apps.utah.edu/uofu/stu/ClassSchedules/main/1208/class_list.html?subject=BCOR'),\n",
       " 'BENN': ('Bennion Center',\n",
       "  'https://student.apps.utah.edu/uofu/stu/ClassSchedules/main/1208/class_list.html?subject=BENN'),\n",
       " 'BIO C': ('Biochemistry',\n",
       "  'https://student.apps.utah.edu/uofu/stu/ClassSchedules/main/1208/class_list.html?subject=BIO%20C'),\n",
       " 'BIOL': ('Biology',\n",
       "  'https://student.apps.utah.edu/uofu/stu/ClassSchedules/main/1208/class_list.html?subject=BIOL'),\n",
       " 'BLCHM': ('Biological Chemistry',\n",
       "  'https://student.apps.utah.edu/uofu/stu/ClassSchedules/main/1208/class_list.html?subject=BLCHM'),\n",
       " 'BME': ('Biomedical Engineering',\n",
       "  'https://student.apps.utah.edu/uofu/stu/ClassSchedules/main/1208/class_list.html?subject=BME'),\n",
       " 'BMI': ('Biomedical Informatics',\n",
       "  'https://student.apps.utah.edu/uofu/stu/ClassSchedules/main/1208/class_list.html?subject=BMI'),\n",
       " 'BUS': ('Business',\n",
       "  'https://student.apps.utah.edu/uofu/stu/ClassSchedules/main/1208/class_list.html?subject=BUS'),\n",
       " 'CAMB': ('Cambodian',\n",
       "  'https://student.apps.utah.edu/uofu/stu/ClassSchedules/main/1208/class_list.html?subject=CAMB'),\n",
       " 'CECRT': ('CE Certificate',\n",
       "  'https://student.apps.utah.edu/uofu/stu/ClassSchedules/main/1208/class_list.html?subject=CECRT'),\n",
       " 'CERM': ('Ceramics',\n",
       "  'https://student.apps.utah.edu/uofu/stu/ClassSchedules/main/1208/class_list.html?subject=CERM'),\n",
       " 'CH EN': ('Chemical Engineering',\n",
       "  'https://student.apps.utah.edu/uofu/stu/ClassSchedules/main/1208/class_list.html?subject=CH%20EN'),\n",
       " 'CHEM': ('Chemistry',\n",
       "  'https://student.apps.utah.edu/uofu/stu/ClassSchedules/main/1208/class_list.html?subject=CHEM'),\n",
       " 'CHIN': ('Chinese',\n",
       "  'https://student.apps.utah.edu/uofu/stu/ClassSchedules/main/1208/class_list.html?subject=CHIN'),\n",
       " 'CL CV': ('Classical Civilization',\n",
       "  'https://student.apps.utah.edu/uofu/stu/ClassSchedules/main/1208/class_list.html?subject=CL%20CV'),\n",
       " 'CLCS': ('Comparative Literary and Cultural Studies',\n",
       "  'https://student.apps.utah.edu/uofu/stu/ClassSchedules/main/1208/class_list.html?subject=CLCS'),\n",
       " 'CMP': ('City & Metropolitan Planning',\n",
       "  'https://student.apps.utah.edu/uofu/stu/ClassSchedules/main/1208/class_list.html?subject=CMP'),\n",
       " 'COMM': ('Communication',\n",
       "  'https://student.apps.utah.edu/uofu/stu/ClassSchedules/main/1208/class_list.html?subject=COMM'),\n",
       " 'COMP': ('Computing',\n",
       "  'https://student.apps.utah.edu/uofu/stu/ClassSchedules/main/1208/class_list.html?subject=COMP'),\n",
       " 'CRIM': ('Criminology',\n",
       "  'https://student.apps.utah.edu/uofu/stu/ClassSchedules/main/1208/class_list.html?subject=CRIM'),\n",
       " 'CS': ('Computer Science',\n",
       "  'https://student.apps.utah.edu/uofu/stu/ClassSchedules/main/1208/class_list.html?subject=CS'),\n",
       " 'CSD': ('Communication Sciences and Disorders',\n",
       "  'https://student.apps.utah.edu/uofu/stu/ClassSchedules/main/1208/class_list.html?subject=CSD'),\n",
       " 'CTLE': ('Center for Teaching Excellence',\n",
       "  'https://student.apps.utah.edu/uofu/stu/ClassSchedules/main/1208/class_list.html?subject=CTLE'),\n",
       " 'CVEEN': ('Civil and Environmental Engineering',\n",
       "  'https://student.apps.utah.edu/uofu/stu/ClassSchedules/main/1208/class_list.html?subject=CVEEN'),\n",
       " 'CVP': ('Cardiovascular Perfusion',\n",
       "  'https://student.apps.utah.edu/uofu/stu/ClassSchedules/main/1208/class_list.html?subject=CVP'),\n",
       " 'DANC': ('Modern Dance',\n",
       "  'https://student.apps.utah.edu/uofu/stu/ClassSchedules/main/1208/class_list.html?subject=DANC'),\n",
       " 'DENT': ('Dentistry',\n",
       "  'https://student.apps.utah.edu/uofu/stu/ClassSchedules/main/1208/class_list.html?subject=DENT'),\n",
       " 'DERM': ('Dermatology',\n",
       "  'https://student.apps.utah.edu/uofu/stu/ClassSchedules/main/1208/class_list.html?subject=DERM'),\n",
       " 'DES': ('Design',\n",
       "  'https://student.apps.utah.edu/uofu/stu/ClassSchedules/main/1208/class_list.html?subject=DES'),\n",
       " 'DESGR': ('Graphic Design',\n",
       "  'https://student.apps.utah.edu/uofu/stu/ClassSchedules/main/1208/class_list.html?subject=DESGR'),\n",
       " 'DISAB': ('Disability Studies',\n",
       "  'https://student.apps.utah.edu/uofu/stu/ClassSchedules/main/1208/class_list.html?subject=DISAB'),\n",
       " 'DRAW': ('Drawing',\n",
       "  'https://student.apps.utah.edu/uofu/stu/ClassSchedules/main/1208/class_list.html?subject=DRAW'),\n",
       " 'DS': ('Data Science',\n",
       "  'https://student.apps.utah.edu/uofu/stu/ClassSchedules/main/1208/class_list.html?subject=DS'),\n",
       " 'EAE': ('Entertainment Arts & Engineering',\n",
       "  'https://student.apps.utah.edu/uofu/stu/ClassSchedules/main/1208/class_list.html?subject=EAE'),\n",
       " 'EAS': ('English for Academic Success',\n",
       "  'https://student.apps.utah.edu/uofu/stu/ClassSchedules/main/1208/class_list.html?subject=EAS'),\n",
       " 'ECE': ('Electrical and Computer Engineering',\n",
       "  'https://student.apps.utah.edu/uofu/stu/ClassSchedules/main/1208/class_list.html?subject=ECE'),\n",
       " 'ECON': ('Economics',\n",
       "  'https://student.apps.utah.edu/uofu/stu/ClassSchedules/main/1208/class_list.html?subject=ECON'),\n",
       " 'ECS': ('Education, Culture and Society',\n",
       "  'https://student.apps.utah.edu/uofu/stu/ClassSchedules/main/1208/class_list.html?subject=ECS'),\n",
       " 'ED PS': ('Educational Psychology',\n",
       "  'https://student.apps.utah.edu/uofu/stu/ClassSchedules/main/1208/class_list.html?subject=ED%20PS'),\n",
       " 'EDTEC': ('Educational Technology',\n",
       "  'https://student.apps.utah.edu/uofu/stu/ClassSchedules/main/1208/class_list.html?subject=EDTEC'),\n",
       " 'EDU': ('Education',\n",
       "  'https://student.apps.utah.edu/uofu/stu/ClassSchedules/main/1208/class_list.html?subject=EDU'),\n",
       " 'EHUM': ('Environmental Humanities',\n",
       "  'https://student.apps.utah.edu/uofu/stu/ClassSchedules/main/1208/class_list.html?subject=EHUM'),\n",
       " 'ELI': ('English Language Institute',\n",
       "  'https://student.apps.utah.edu/uofu/stu/ClassSchedules/main/1208/class_list.html?subject=ELI'),\n",
       " 'ELP': ('Educational Leadership & Policy',\n",
       "  'https://student.apps.utah.edu/uofu/stu/ClassSchedules/main/1208/class_list.html?subject=ELP'),\n",
       " 'ENGIN': ('Engineering',\n",
       "  'https://student.apps.utah.edu/uofu/stu/ClassSchedules/main/1208/class_list.html?subject=ENGIN'),\n",
       " 'ENGL': ('English',\n",
       "  'https://student.apps.utah.edu/uofu/stu/ClassSchedules/main/1208/class_list.html?subject=ENGL'),\n",
       " 'ENTP': ('Entrepreneurship',\n",
       "  'https://student.apps.utah.edu/uofu/stu/ClassSchedules/main/1208/class_list.html?subject=ENTP'),\n",
       " 'ENVST': ('Environmental and Sustainability Studies',\n",
       "  'https://student.apps.utah.edu/uofu/stu/ClassSchedules/main/1208/class_list.html?subject=ENVST'),\n",
       " 'ESSF': ('ESS Fitness Courses',\n",
       "  'https://student.apps.utah.edu/uofu/stu/ClassSchedules/main/1208/class_list.html?subject=ESSF'),\n",
       " 'ETHNC': ('Ethnic Studies',\n",
       "  'https://student.apps.utah.edu/uofu/stu/ClassSchedules/main/1208/class_list.html?subject=ETHNC'),\n",
       " 'FA': ('Fine Arts',\n",
       "  'https://student.apps.utah.edu/uofu/stu/ClassSchedules/main/1208/class_list.html?subject=FA'),\n",
       " 'FCS': ('Family and Consumer Studies',\n",
       "  'https://student.apps.utah.edu/uofu/stu/ClassSchedules/main/1208/class_list.html?subject=FCS'),\n",
       " 'FILM': ('Film and Media Arts',\n",
       "  'https://student.apps.utah.edu/uofu/stu/ClassSchedules/main/1208/class_list.html?subject=FILM'),\n",
       " 'FINAN': ('Finance',\n",
       "  'https://student.apps.utah.edu/uofu/stu/ClassSchedules/main/1208/class_list.html?subject=FINAN'),\n",
       " 'FP MD': ('Family and Preventive Medicine',\n",
       "  'https://student.apps.utah.edu/uofu/stu/ClassSchedules/main/1208/class_list.html?subject=FP%20MD'),\n",
       " 'FRNCH': ('French',\n",
       "  'https://student.apps.utah.edu/uofu/stu/ClassSchedules/main/1208/class_list.html?subject=FRNCH'),\n",
       " 'GEO': ('Geology and Geophysics',\n",
       "  'https://student.apps.utah.edu/uofu/stu/ClassSchedules/main/1208/class_list.html?subject=GEO'),\n",
       " 'GEOG': ('Geography',\n",
       "  'https://student.apps.utah.edu/uofu/stu/ClassSchedules/main/1208/class_list.html?subject=GEOG'),\n",
       " 'GERM': ('German',\n",
       "  'https://student.apps.utah.edu/uofu/stu/ClassSchedules/main/1208/class_list.html?subject=GERM'),\n",
       " 'GERON': ('Gerontology',\n",
       "  'https://student.apps.utah.edu/uofu/stu/ClassSchedules/main/1208/class_list.html?subject=GERON'),\n",
       " 'GLOBL': ('Utah Global',\n",
       "  'https://student.apps.utah.edu/uofu/stu/ClassSchedules/main/1208/class_list.html?subject=GLOBL'),\n",
       " 'GNDR': ('Gender Studies',\n",
       "  'https://student.apps.utah.edu/uofu/stu/ClassSchedules/main/1208/class_list.html?subject=GNDR'),\n",
       " 'GREEK': ('Greek',\n",
       "  'https://student.apps.utah.edu/uofu/stu/ClassSchedules/main/1208/class_list.html?subject=GREEK'),\n",
       " 'H EDU': ('Health Promotion & Education',\n",
       "  'https://student.apps.utah.edu/uofu/stu/ClassSchedules/main/1208/class_list.html?subject=H%20EDU'),\n",
       " 'H GEN': ('Human Genetics',\n",
       "  'https://student.apps.utah.edu/uofu/stu/ClassSchedules/main/1208/class_list.html?subject=H%20GEN'),\n",
       " 'HINDI': ('Hindi',\n",
       "  'https://student.apps.utah.edu/uofu/stu/ClassSchedules/main/1208/class_list.html?subject=HINDI'),\n",
       " 'HIST': ('History',\n",
       "  'https://student.apps.utah.edu/uofu/stu/ClassSchedules/main/1208/class_list.html?subject=HIST'),\n",
       " 'HKR': ('Health, Kinesiology, and Recreation',\n",
       "  'https://student.apps.utah.edu/uofu/stu/ClassSchedules/main/1208/class_list.html?subject=HKR'),\n",
       " 'HNKLY': ('Hinckley Institute',\n",
       "  'https://student.apps.utah.edu/uofu/stu/ClassSchedules/main/1208/class_list.html?subject=HNKLY'),\n",
       " 'HONOR': ('Honors College',\n",
       "  'https://student.apps.utah.edu/uofu/stu/ClassSchedules/main/1208/class_list.html?subject=HONOR'),\n",
       " 'HSP': ('Health, Society and Policy',\n",
       "  'https://student.apps.utah.edu/uofu/stu/ClassSchedules/main/1208/class_list.html?subject=HSP'),\n",
       " 'HUM': ('Humanities',\n",
       "  'https://student.apps.utah.edu/uofu/stu/ClassSchedules/main/1208/class_list.html?subject=HUM'),\n",
       " 'IAGE': ('International Affairs and Global Enterprise',\n",
       "  'https://student.apps.utah.edu/uofu/stu/ClassSchedules/main/1208/class_list.html?subject=IAGE'),\n",
       " 'INTMD': ('Internal Medicine',\n",
       "  'https://student.apps.utah.edu/uofu/stu/ClassSchedules/main/1208/class_list.html?subject=INTMD'),\n",
       " 'IS': ('Information Systems',\n",
       "  'https://student.apps.utah.edu/uofu/stu/ClassSchedules/main/1208/class_list.html?subject=IS'),\n",
       " 'ITAL': ('Italian',\n",
       "  'https://student.apps.utah.edu/uofu/stu/ClassSchedules/main/1208/class_list.html?subject=ITAL'),\n",
       " 'JAPAN': ('Japanese',\n",
       "  'https://student.apps.utah.edu/uofu/stu/ClassSchedules/main/1208/class_list.html?subject=JAPAN'),\n",
       " 'KINES': ('Kinesiology',\n",
       "  'https://student.apps.utah.edu/uofu/stu/ClassSchedules/main/1208/class_list.html?subject=KINES'),\n",
       " 'KOREA': ('Korean',\n",
       "  'https://student.apps.utah.edu/uofu/stu/ClassSchedules/main/1208/class_list.html?subject=KOREA'),\n",
       " 'LAS': ('Latin American Studies',\n",
       "  'https://student.apps.utah.edu/uofu/stu/ClassSchedules/main/1208/class_list.html?subject=LAS'),\n",
       " 'LATIN': ('Latin',\n",
       "  'https://student.apps.utah.edu/uofu/stu/ClassSchedules/main/1208/class_list.html?subject=LATIN'),\n",
       " 'LAW': ('Law',\n",
       "  'https://student.apps.utah.edu/uofu/stu/ClassSchedules/main/1208/class_list.html?subject=LAW'),\n",
       " 'LDRSP': ('Leadership',\n",
       "  'https://student.apps.utah.edu/uofu/stu/ClassSchedules/main/1208/class_list.html?subject=LDRSP'),\n",
       " 'LEAP': ('LEAP Program',\n",
       "  'https://student.apps.utah.edu/uofu/stu/ClassSchedules/main/1208/class_list.html?subject=LEAP'),\n",
       " 'LING': ('Linguistics',\n",
       "  'https://student.apps.utah.edu/uofu/stu/ClassSchedules/main/1208/class_list.html?subject=LING'),\n",
       " 'LLART': ('Art and Photography',\n",
       "  'https://student.apps.utah.edu/uofu/stu/ClassSchedules/main/1208/class_list.html?subject=LLART'),\n",
       " 'LLBUS': ('Business and Finance',\n",
       "  'https://student.apps.utah.edu/uofu/stu/ClassSchedules/main/1208/class_list.html?subject=LLBUS'),\n",
       " 'LLCFT': ('Crafts',\n",
       "  'https://student.apps.utah.edu/uofu/stu/ClassSchedules/main/1208/class_list.html?subject=LLCFT'),\n",
       " 'LLFW': ('Food and Wine',\n",
       "  'https://student.apps.utah.edu/uofu/stu/ClassSchedules/main/1208/class_list.html?subject=LLFW'),\n",
       " 'LLHG': ('Home and Garden',\n",
       "  'https://student.apps.utah.edu/uofu/stu/ClassSchedules/main/1208/class_list.html?subject=LLHG'),\n",
       " 'LLHL': ('Healthy Living',\n",
       "  'https://student.apps.utah.edu/uofu/stu/ClassSchedules/main/1208/class_list.html?subject=LLHL'),\n",
       " 'LLLAN': ('Language',\n",
       "  'https://student.apps.utah.edu/uofu/stu/ClassSchedules/main/1208/class_list.html?subject=LLLAN'),\n",
       " 'LLMT': ('Music and Theatre',\n",
       "  'https://student.apps.utah.edu/uofu/stu/ClassSchedules/main/1208/class_list.html?subject=LLMT'),\n",
       " 'LLPOT': ('Potpourri',\n",
       "  'https://student.apps.utah.edu/uofu/stu/ClassSchedules/main/1208/class_list.html?subject=LLPOT'),\n",
       " 'LLREC': ('Recreation',\n",
       "  'https://student.apps.utah.edu/uofu/stu/ClassSchedules/main/1208/class_list.html?subject=LLREC'),\n",
       " 'LLWRC': ('Writing/Creative',\n",
       "  'https://student.apps.utah.edu/uofu/stu/ClassSchedules/main/1208/class_list.html?subject=LLWRC'),\n",
       " 'MATH': ('Mathematics',\n",
       "  'https://student.apps.utah.edu/uofu/stu/ClassSchedules/main/1208/class_list.html?subject=MATH'),\n",
       " 'MBIOL': ('Molecular Biology',\n",
       "  'https://student.apps.utah.edu/uofu/stu/ClassSchedules/main/1208/class_list.html?subject=MBIOL'),\n",
       " 'MD CH': ('Pharmacy - Medicinal Chemistry',\n",
       "  'https://student.apps.utah.edu/uofu/stu/ClassSchedules/main/1208/class_list.html?subject=MD%20CH'),\n",
       " 'MD ID': ('Interdepartmental Medicine',\n",
       "  'https://student.apps.utah.edu/uofu/stu/ClassSchedules/main/1208/class_list.html?subject=MD%20ID'),\n",
       " 'MD LB': ('Medical Laboratory Science',\n",
       "  'https://student.apps.utah.edu/uofu/stu/ClassSchedules/main/1208/class_list.html?subject=MD%20LB'),\n",
       " 'MDCRC': ('Clinical Research Center',\n",
       "  'https://student.apps.utah.edu/uofu/stu/ClassSchedules/main/1208/class_list.html?subject=MDCRC'),\n",
       " 'ME EN': ('Mechanical Engineering',\n",
       "  'https://student.apps.utah.edu/uofu/stu/ClassSchedules/main/1208/class_list.html?subject=ME%20EN'),\n",
       " 'MET E': ('Metallurgical Engineering',\n",
       "  'https://student.apps.utah.edu/uofu/stu/ClassSchedules/main/1208/class_list.html?subject=MET%20E'),\n",
       " 'MG EN': ('Mining Engineering',\n",
       "  'https://student.apps.utah.edu/uofu/stu/ClassSchedules/main/1208/class_list.html?subject=MG%20EN'),\n",
       " 'MGT': ('Management',\n",
       "  'https://student.apps.utah.edu/uofu/stu/ClassSchedules/main/1208/class_list.html?subject=MGT'),\n",
       " 'MHA': ('Master Healthcare Administration',\n",
       "  'https://student.apps.utah.edu/uofu/stu/ClassSchedules/main/1208/class_list.html?subject=MHA'),\n",
       " 'MID E': ('Middle East Language and Area Studies',\n",
       "  'https://student.apps.utah.edu/uofu/stu/ClassSchedules/main/1208/class_list.html?subject=MID%20E'),\n",
       " 'MIL S': ('Military Science',\n",
       "  'https://student.apps.utah.edu/uofu/stu/ClassSchedules/main/1208/class_list.html?subject=MIL%20S'),\n",
       " 'MKTG': ('Marketing',\n",
       "  'https://student.apps.utah.edu/uofu/stu/ClassSchedules/main/1208/class_list.html?subject=MKTG'),\n",
       " 'MSE': ('Materials Science and Engineering',\n",
       "  'https://student.apps.utah.edu/uofu/stu/ClassSchedules/main/1208/class_list.html?subject=MSE'),\n",
       " 'MST': ('Master of Science and Technology',\n",
       "  'https://student.apps.utah.edu/uofu/stu/ClassSchedules/main/1208/class_list.html?subject=MST'),\n",
       " 'MUSC': ('Music',\n",
       "  'https://student.apps.utah.edu/uofu/stu/ClassSchedules/main/1208/class_list.html?subject=MUSC'),\n",
       " 'NAHTL': ('Nahuatl',\n",
       "  'https://student.apps.utah.edu/uofu/stu/ClassSchedules/main/1208/class_list.html?subject=NAHTL'),\n",
       " 'NAVJO': ('Navajo',\n",
       "  'https://student.apps.utah.edu/uofu/stu/ClassSchedules/main/1208/class_list.html?subject=NAVJO'),\n",
       " 'NEURO': ('Neurology',\n",
       "  'https://student.apps.utah.edu/uofu/stu/ClassSchedules/main/1208/class_list.html?subject=NEURO'),\n",
       " 'NEUSC': ('Neuroscience',\n",
       "  'https://student.apps.utah.edu/uofu/stu/ClassSchedules/main/1208/class_list.html?subject=NEUSC'),\n",
       " 'NSURG': ('Neurosurgery',\n",
       "  'https://student.apps.utah.edu/uofu/stu/ClassSchedules/main/1208/class_list.html?subject=NSURG'),\n",
       " 'NUCL': ('Nuclear Engineering',\n",
       "  'https://student.apps.utah.edu/uofu/stu/ClassSchedules/main/1208/class_list.html?subject=NUCL'),\n",
       " 'NUIP': ('Nutrition and Integrative Physiology',\n",
       "  'https://student.apps.utah.edu/uofu/stu/ClassSchedules/main/1208/class_list.html?subject=NUIP'),\n",
       " 'NURS': ('Nursing',\n",
       "  'https://student.apps.utah.edu/uofu/stu/ClassSchedules/main/1208/class_list.html?subject=NURS'),\n",
       " 'NV SC': ('Naval Science',\n",
       "  'https://student.apps.utah.edu/uofu/stu/ClassSchedules/main/1208/class_list.html?subject=NV%20SC'),\n",
       " 'OBST': ('Obstetrics',\n",
       "  'https://student.apps.utah.edu/uofu/stu/ClassSchedules/main/1208/class_list.html?subject=OBST'),\n",
       " 'OC TH': ('Occupational Therapy',\n",
       "  'https://student.apps.utah.edu/uofu/stu/ClassSchedules/main/1208/class_list.html?subject=OC%20TH'),\n",
       " 'OEHS': ('Occupational and Environmental Health',\n",
       "  'https://student.apps.utah.edu/uofu/stu/ClassSchedules/main/1208/class_list.html?subject=OEHS'),\n",
       " 'ONCSC': ('Oncological Sciences',\n",
       "  'https://student.apps.utah.edu/uofu/stu/ClassSchedules/main/1208/class_list.html?subject=ONCSC'),\n",
       " 'OPHTH': ('Ophthalmology',\n",
       "  'https://student.apps.utah.edu/uofu/stu/ClassSchedules/main/1208/class_list.html?subject=OPHTH'),\n",
       " 'ORTHO': ('Orthopedics',\n",
       "  'https://student.apps.utah.edu/uofu/stu/ClassSchedules/main/1208/class_list.html?subject=ORTHO'),\n",
       " 'OSHER': ('Osher Lifelong Learning',\n",
       "  'https://student.apps.utah.edu/uofu/stu/ClassSchedules/main/1208/class_list.html?subject=OSHER'),\n",
       " 'PADMN': ('Public Administration',\n",
       "  'https://student.apps.utah.edu/uofu/stu/ClassSchedules/main/1208/class_list.html?subject=PADMN'),\n",
       " 'PAS': ('Physician Assistant Studies',\n",
       "  'https://student.apps.utah.edu/uofu/stu/ClassSchedules/main/1208/class_list.html?subject=PAS'),\n",
       " 'PATH': ('Pathology',\n",
       "  'https://student.apps.utah.edu/uofu/stu/ClassSchedules/main/1208/class_list.html?subject=PATH'),\n",
       " 'PBHLT': ('Public Health',\n",
       "  'https://student.apps.utah.edu/uofu/stu/ClassSchedules/main/1208/class_list.html?subject=PBHLT'),\n",
       " 'PCS': ('Peace and Conflict Studies',\n",
       "  'https://student.apps.utah.edu/uofu/stu/ClassSchedules/main/1208/class_list.html?subject=PCS'),\n",
       " 'PCTH': ('Pharmacotherapy',\n",
       "  'https://student.apps.utah.edu/uofu/stu/ClassSchedules/main/1208/class_list.html?subject=PCTH'),\n",
       " 'PED': ('Pediatrics',\n",
       "  'https://student.apps.utah.edu/uofu/stu/ClassSchedules/main/1208/class_list.html?subject=PED'),\n",
       " 'PERS': ('Persian',\n",
       "  'https://student.apps.utah.edu/uofu/stu/ClassSchedules/main/1208/class_list.html?subject=PERS'),\n",
       " 'PH MD': ('Phys Med & Rehabilitation',\n",
       "  'https://student.apps.utah.edu/uofu/stu/ClassSchedules/main/1208/class_list.html?subject=PH%20MD'),\n",
       " 'PH TH': ('Physical Therapy',\n",
       "  'https://student.apps.utah.edu/uofu/stu/ClassSchedules/main/1208/class_list.html?subject=PH%20TH'),\n",
       " 'PH TX': ('Pharmacology and Toxicology',\n",
       "  'https://student.apps.utah.edu/uofu/stu/ClassSchedules/main/1208/class_list.html?subject=PH%20TX'),\n",
       " 'PHARM': ('Pharmacy',\n",
       "  'https://student.apps.utah.edu/uofu/stu/ClassSchedules/main/1208/class_list.html?subject=PHARM'),\n",
       " 'PHCEU': ('Molecular Pharmaceutics',\n",
       "  'https://student.apps.utah.edu/uofu/stu/ClassSchedules/main/1208/class_list.html?subject=PHCEU'),\n",
       " 'PHIL': ('Philosophy',\n",
       "  'https://student.apps.utah.edu/uofu/stu/ClassSchedules/main/1208/class_list.html?subject=PHIL'),\n",
       " 'PHOTO': ('Digital Photography',\n",
       "  'https://student.apps.utah.edu/uofu/stu/ClassSchedules/main/1208/class_list.html?subject=PHOTO'),\n",
       " 'PHS': ('Population Health Sciences',\n",
       "  'https://student.apps.utah.edu/uofu/stu/ClassSchedules/main/1208/class_list.html?subject=PHS'),\n",
       " 'PHYS': ('Physics',\n",
       "  'https://student.apps.utah.edu/uofu/stu/ClassSchedules/main/1208/class_list.html?subject=PHYS'),\n",
       " 'POLS': ('Political Science',\n",
       "  'https://student.apps.utah.edu/uofu/stu/ClassSchedules/main/1208/class_list.html?subject=POLS'),\n",
       " 'PREP': ('Preparatory',\n",
       "  'https://student.apps.utah.edu/uofu/stu/ClassSchedules/main/1208/class_list.html?subject=PREP'),\n",
       " 'PRINT': ('Printmaking',\n",
       "  'https://student.apps.utah.edu/uofu/stu/ClassSchedules/main/1208/class_list.html?subject=PRINT'),\n",
       " 'PROEA': ('Professional Education Academies',\n",
       "  'https://student.apps.utah.edu/uofu/stu/ClassSchedules/main/1208/class_list.html?subject=PROEA'),\n",
       " 'PROED': ('Professional Education',\n",
       "  'https://student.apps.utah.edu/uofu/stu/ClassSchedules/main/1208/class_list.html?subject=PROED'),\n",
       " 'PRT': ('Parks, Recreation and Tourism',\n",
       "  'https://student.apps.utah.edu/uofu/stu/ClassSchedules/main/1208/class_list.html?subject=PRT'),\n",
       " 'PRTL': ('PRT Outdoor Adventure - Land',\n",
       "  'https://student.apps.utah.edu/uofu/stu/ClassSchedules/main/1208/class_list.html?subject=PRTL'),\n",
       " 'PRTS': ('PRT Outdoor Adventure - Snow',\n",
       "  'https://student.apps.utah.edu/uofu/stu/ClassSchedules/main/1208/class_list.html?subject=PRTS'),\n",
       " 'PRTW': ('PRT Outdoor Adventure - Water',\n",
       "  'https://student.apps.utah.edu/uofu/stu/ClassSchedules/main/1208/class_list.html?subject=PRTW'),\n",
       " 'PSY': ('Psychology',\n",
       "  'https://student.apps.utah.edu/uofu/stu/ClassSchedules/main/1208/class_list.html?subject=PSY'),\n",
       " 'PSYCT': ('Psychiatry',\n",
       "  'https://student.apps.utah.edu/uofu/stu/ClassSchedules/main/1208/class_list.html?subject=PSYCT'),\n",
       " 'PTGSE': ('Portuguese',\n",
       "  'https://student.apps.utah.edu/uofu/stu/ClassSchedules/main/1208/class_list.html?subject=PTGSE'),\n",
       " 'PUBPL': ('Public Policy',\n",
       "  'https://student.apps.utah.edu/uofu/stu/ClassSchedules/main/1208/class_list.html?subject=PUBPL'),\n",
       " 'QAMO': ('Quantitative Analysis of Markets and Organizations',\n",
       "  'https://student.apps.utah.edu/uofu/stu/ClassSchedules/main/1208/class_list.html?subject=QAMO'),\n",
       " 'QUECH': ('Quechua',\n",
       "  'https://student.apps.utah.edu/uofu/stu/ClassSchedules/main/1208/class_list.html?subject=QUECH'),\n",
       " 'RDLGY': ('Radiology',\n",
       "  'https://student.apps.utah.edu/uofu/stu/ClassSchedules/main/1208/class_list.html?subject=RDLGY'),\n",
       " 'RDONC': ('Radiation Oncology',\n",
       "  'https://student.apps.utah.edu/uofu/stu/ClassSchedules/main/1208/class_list.html?subject=RDONC'),\n",
       " 'RECTH': ('Recreational Therapy',\n",
       "  'https://student.apps.utah.edu/uofu/stu/ClassSchedules/main/1208/class_list.html?subject=RECTH'),\n",
       " 'REDEV': ('Real Estate Development',\n",
       "  'https://student.apps.utah.edu/uofu/stu/ClassSchedules/main/1208/class_list.html?subject=REDEV'),\n",
       " 'RHSCI': ('Rehabilitation Sciences',\n",
       "  'https://student.apps.utah.edu/uofu/stu/ClassSchedules/main/1208/class_list.html?subject=RHSCI'),\n",
       " 'RUSS': ('Russian',\n",
       "  'https://student.apps.utah.edu/uofu/stu/ClassSchedules/main/1208/class_list.html?subject=RUSS'),\n",
       " 'SBS': ('Social and Behavioral Science',\n",
       "  'https://student.apps.utah.edu/uofu/stu/ClassSchedules/main/1208/class_list.html?subject=SBS'),\n",
       " 'SCI': ('Science',\n",
       "  'https://student.apps.utah.edu/uofu/stu/ClassSchedules/main/1208/class_list.html?subject=SCI'),\n",
       " 'SCLPT': ('Sculpture/Intermedia',\n",
       "  'https://student.apps.utah.edu/uofu/stu/ClassSchedules/main/1208/class_list.html?subject=SCLPT'),\n",
       " 'SOC': ('Sociology',\n",
       "  'https://student.apps.utah.edu/uofu/stu/ClassSchedules/main/1208/class_list.html?subject=SOC'),\n",
       " 'SP ED': ('Special Education',\n",
       "  'https://student.apps.utah.edu/uofu/stu/ClassSchedules/main/1208/class_list.html?subject=SP%20ED'),\n",
       " 'SPAN': ('Spanish',\n",
       "  'https://student.apps.utah.edu/uofu/stu/ClassSchedules/main/1208/class_list.html?subject=SPAN'),\n",
       " 'SR EL': ('Senior Electives',\n",
       "  'https://student.apps.utah.edu/uofu/stu/ClassSchedules/main/1208/class_list.html?subject=SR%20EL'),\n",
       " 'STAT': ('Statistics',\n",
       "  'https://student.apps.utah.edu/uofu/stu/ClassSchedules/main/1208/class_list.html?subject=STAT'),\n",
       " 'STRAT': ('Strategy',\n",
       "  'https://student.apps.utah.edu/uofu/stu/ClassSchedules/main/1208/class_list.html?subject=STRAT'),\n",
       " 'SURG': ('Surgery',\n",
       "  'https://student.apps.utah.edu/uofu/stu/ClassSchedules/main/1208/class_list.html?subject=SURG'),\n",
       " 'SUST': ('Sustainability',\n",
       "  'https://student.apps.utah.edu/uofu/stu/ClassSchedules/main/1208/class_list.html?subject=SUST'),\n",
       " 'SW': ('Social Work',\n",
       "  'https://student.apps.utah.edu/uofu/stu/ClassSchedules/main/1208/class_list.html?subject=SW'),\n",
       " 'THEA': ('Theatre',\n",
       "  'https://student.apps.utah.edu/uofu/stu/ClassSchedules/main/1208/class_list.html?subject=THEA'),\n",
       " 'UGS': ('Undergraduate Studies',\n",
       "  'https://student.apps.utah.edu/uofu/stu/ClassSchedules/main/1208/class_list.html?subject=UGS'),\n",
       " 'UUHSC': ('Health Sciences Center',\n",
       "  'https://student.apps.utah.edu/uofu/stu/ClassSchedules/main/1208/class_list.html?subject=UUHSC'),\n",
       " 'VIET': ('Vietnamese',\n",
       "  'https://student.apps.utah.edu/uofu/stu/ClassSchedules/main/1208/class_list.html?subject=VIET'),\n",
       " 'WLC': ('World Languages and Cultures',\n",
       "  'https://student.apps.utah.edu/uofu/stu/ClassSchedules/main/1208/class_list.html?subject=WLC'),\n",
       " 'WRTG': ('Writing and Rhetoric Studies',\n",
       "  'https://student.apps.utah.edu/uofu/stu/ClassSchedules/main/1208/class_list.html?subject=WRTG'),\n",
       " 'YEART': ('Creative Arts',\n",
       "  'https://student.apps.utah.edu/uofu/stu/ClassSchedules/main/1208/class_list.html?subject=YEART'),\n",
       " 'YEHS': ('High School',\n",
       "  'https://student.apps.utah.edu/uofu/stu/ClassSchedules/main/1208/class_list.html?subject=YEHS'),\n",
       " 'YESCI': ('Science and Math',\n",
       "  'https://student.apps.utah.edu/uofu/stu/ClassSchedules/main/1208/class_list.html?subject=YESCI')}"
      ]
     },
     "metadata": {},
     "output_type": "display_data"
    }
   ],
   "source": [
    "subjects = {}\n",
    "for atag in soup.find_all( \"a\" ):\n",
    "    link = atag.get( \"href\" )\n",
    "    if link and link.startswith( \"class_list.html?subject\" ):\n",
    "        subjectShort, subjectLong = atag.get_text().split(' - ', maxsplit=1)\n",
    "        subjects[subjectShort] = (subjectLong, url + link)\n",
    "display( subjects )"
   ]
  },
  {
   "cell_type": "code",
   "execution_count": 8,
   "metadata": {},
   "outputs": [
    {
     "data": {
      "text/plain": [
       "('Mathematics',\n",
       " 'https://student.apps.utah.edu/uofu/stu/ClassSchedules/main/1208/class_list.html?subject=MATH')"
      ]
     },
     "execution_count": 8,
     "metadata": {},
     "output_type": "execute_result"
    }
   ],
   "source": [
    "subjects[\"MATH\"]"
   ]
  },
  {
   "cell_type": "markdown",
   "metadata": {},
   "source": [
    "That's what we want. \n",
    "\n",
    "As an aside: we could have taken a different approach here. Note how the URL has a deterministic query parameter that matches the subject:\n",
    "\n",
    "```\n",
    "class_list.html?subject=MATH\n",
    "```\n",
    "\n",
    "We could use this to also retrieve the links if we only had the subject shortnames. "
   ]
  },
  {
   "cell_type": "markdown",
   "metadata": {},
   "source": [
    "#### Getting a list of classes\n",
    "\n",
    "Next, it's time to get the courses. Let's look at the [website for CS](https://student.apps.utah.edu/uofu/stu/ClassSchedules/main/1184/class_list.html?subject=CS).\n",
    "\n",
    "We'll fetch this class list in a fucntion where that we pass the subject name:"
   ]
  },
  {
   "cell_type": "code",
   "execution_count": 29,
   "metadata": {},
   "outputs": [],
   "source": [
    "def getWebsiteAsSoup(url):\n",
    "    \"\"\" \n",
    "    Retrieve a website and return it as a BeautifulSoup object.   \n",
    "    \"\"\"\n",
    "    \n",
    "    #user_agent = 'Mozilla/5.0 (Macintosh; Intel Mac OS X 10_13_3) AppleWebKit/537.36 (KHTML, like Gecko) Chrome/64.0.3282.167 Safari/537.36'\n",
    "    #headers = {'User-Agent': user_agent}\n",
    "      \n",
    "    # values = {'name': 'Michael Foord',\n",
    "    #       'location': 'Northampton',\n",
    "    #       'language': 'Python' }\n",
    "    \n",
    "    #data = urllib.parse.urlencode(values)\n",
    "    #data = data.encode('ascii')\n",
    "\n",
    "    #req = urllib.request.Request(url, data, headers)\n",
    "    req = urllib.request.Request( url )\n",
    "    with urllib.request.urlopen( req ) as response:\n",
    "        classlist_html = response.read()\n",
    "    \n",
    "    #print(classlist_html)\n",
    "    \n",
    "    class_soup = BeautifulSoup(classlist_html, 'html.parser')\n",
    "    with open('class_list.html', 'w') as new_file:\n",
    "        new_file.write(str(class_soup))\n",
    "        \n",
    "    return class_soup        "
   ]
  },
  {
   "cell_type": "markdown",
   "metadata": {},
   "source": [
    "Let's run this function for CS and look at the output:"
   ]
  },
  {
   "cell_type": "code",
   "execution_count": 30,
   "metadata": {},
   "outputs": [],
   "source": [
    "class_soup = getWebsiteAsSoup( subjects[\"CS\"][1] )"
   ]
  },
  {
   "cell_type": "code",
   "execution_count": 31,
   "metadata": {
    "scrolled": false
   },
   "outputs": [
    {
     "name": "stdout",
     "output_type": "stream",
     "text": [
      "<div class=\"class-info card mt-3\" id=\"19247\">\n",
      " <div class=\"card-body row d-none d-md-block\">\n",
      "  <div class=\"col-12 p-0\">\n",
      "   <div class=\"buttons\">\n",
      "    <a class=\"btn btn-secondary btn-sm\" href=\"description.html?subj=CS&amp;catno=1030&amp;section=010\">\n",
      "     Class Details\n",
      "    </a>\n",
      "   </div>\n",
      "   <h3>\n",
      "    <a href=\"sections.html?subj=CS&amp;catno=1030\">\n",
      "     CS 1030\n",
      "    </a>\n",
      "    -\n",
      "    <span>\n",
      "     010\n",
      "    </span>\n",
      "    <a href=\"https://class-tools.app.utah.edu/syllabus/1208/19247/syllabus.pdf\">\n",
      "     Foundations of CS\n",
      "    </a>\n",
      "   </h3>\n",
      "  </div>\n",
      "  <div class=\"col-12 p-0\">\n",
      "   <ul class=\"row breadcrumb-list list-unstyled\">\n",
      "    <li class=\"col-sm-auto\">\n",
      "     Class Number:\n",
      "     <a id=\"19247\">\n",
      "     </a>\n",
      "    </li>\n",
      "    <li class=\"col-sm-auto\">\n",
      "     Instructor:\n",
      "     <span>\n",
      "      <a href=\"http://faculty.utah.edu/u6032171/teaching/index.hml\" target=\"_blank\">\n",
      "       BROWN, CHRISTOPHER S\n",
      "      </a>\n",
      "     </span>\n",
      "    </li>\n",
      "    <li class=\"col-sm-auto\">\n",
      "     Instructor:\n",
      "     <span>\n",
      "      <a href=\"http://faculty.utah.edu/u0281050/teaching/index.hml\" target=\"_blank\">\n",
      "       REGEHR, JOHN\n",
      "      </a>\n",
      "     </span>\n",
      "    </li>\n",
      "    <li class=\"col-sm-auto\">\n",
      "     Component:\n",
      "     <span>\n",
      "      Lecture\n",
      "     </span>\n",
      "    </li>\n",
      "    <li class=\"col-sm-auto\">\n",
      "     Type:\n",
      "     <span data-type=\"O\">\n",
      "      Online\n",
      "     </span>\n",
      "    </li>\n",
      "    <li class=\"col-sm-auto\" data-units=\"U3_0\">\n",
      "     Units:\n",
      "     <span>\n",
      "      3.0\n",
      "     </span>\n",
      "    </li>\n",
      "    <li class=\"col-sm-auto\">\n",
      "     Requisites: Yes\n",
      "    </li>\n",
      "    <li class=\"col-sm-auto\">\n",
      "     Wait List:\n",
      "     <span>\n",
      "      No\n",
      "     </span>\n",
      "    </li>\n",
      "    <li class=\"col-sm-auto d-none\" data-seats=\"true\">\n",
      "     Seats Available:\n",
      "     <span>\n",
      "      13\n",
      "     </span>\n",
      "    </li>\n",
      "   </ul>\n",
      "   <hr>\n",
      "    <span>\n",
      "     The lecture for this course will be delivered online. Sections 11-14 belong to this lecture. This course requires registration for a lab and/or discussion section. Students will be automatically registered for this lecture section when registering for the pertinent lab and/or discussion section.\n",
      "    </span>\n",
      "   </hr>\n",
      "  </div>\n",
      " </div>\n",
      " <div class=\"card-body row d-block d-md-none\">\n",
      "  <div class=\"col-12 p-0\">\n",
      "   <h3>\n",
      "    <a href=\"sections.html?subj=CS&amp;catno=1030\">\n",
      "     CS 1030\n",
      "    </a>\n",
      "    -\n",
      "    <span>\n",
      "     010\n",
      "    </span>\n",
      "    <a href=\"https://class-tools.app.utah.edu/syllabus/1208/19247/syllabus.pdf\">\n",
      "     Foundations of CS\n",
      "    </a>\n",
      "   </h3>\n",
      "  </div>\n",
      "  <div class=\"col-12 p-0\">\n",
      "   <ul class=\"row list-unstyled\">\n",
      "    <li class=\"col-sm-auto\">\n",
      "     Class Number:\n",
      "     <a name=\"19247\">\n",
      "     </a>\n",
      "    </li>\n",
      "    <li class=\"col-sm-auto\">\n",
      "     Instructor:\n",
      "     <span>\n",
      "      <a href=\"http://faculty.utah.edu/u6032171/teaching/index.hml\" target=\"_blank\">\n",
      "       BROWN, CHRISTOPHER S\n",
      "      </a>\n",
      "     </span>\n",
      "    </li>\n",
      "    <li class=\"col-sm-auto\">\n",
      "     Instructor:\n",
      "     <span>\n",
      "      <a href=\"http://faculty.utah.edu/u0281050/teaching/index.hml\" target=\"_blank\">\n",
      "       REGEHR, JOHN\n",
      "      </a>\n",
      "     </span>\n",
      "    </li>\n",
      "    <li class=\"col-sm-auto\">\n",
      "     Component:\n",
      "     <span>\n",
      "      Lecture\n",
      "     </span>\n",
      "    </li>\n",
      "    <li class=\"col-sm-auto\">\n",
      "     Type:\n",
      "     <span data-type=\"O\">\n",
      "      Online\n",
      "     </span>\n",
      "    </li>\n",
      "    <li class=\"col-sm-auto\" data-units=\"U3_0\">\n",
      "     Units:\n",
      "     <span>\n",
      "      3.0\n",
      "     </span>\n",
      "    </li>\n",
      "    <li class=\"col-sm-auto\">\n",
      "     Requisites: Yes\n",
      "    </li>\n",
      "    <li class=\"col-sm-auto\">\n",
      "     Wait List:\n",
      "     <span>\n",
      "      No\n",
      "     </span>\n",
      "    </li>\n",
      "    <li class=\"col-sm-auto\" data-seats=\"true\">\n",
      "     Seats Available:\n",
      "     <span>\n",
      "      13\n",
      "     </span>\n",
      "    </li>\n",
      "   </ul>\n",
      "   <div class=\"buttons\">\n",
      "    <a class=\"btn btn-secondary btn-sm\" href=\"description.html?subj=CS&amp;catno=1030&amp;section=010\">\n",
      "     Class Details\n",
      "    </a>\n",
      "   </div>\n",
      "   <hr class=\"class-notes-divider\"/>\n",
      "   <span>\n",
      "    The lecture for this course will be delivered online. Sections 11-14 belong to this lecture. This course requires registration for a lab and/or discussion section. Students will be automatically registered for this lecture section when registering for the pertinent lab and/or discussion section.\n",
      "   </span>\n",
      "  </div>\n",
      " </div>\n",
      " <div class=\"card-footer mp-1\">\n",
      "  <div class=\"row mb-2\">\n",
      "   <div class=\"col\">\n",
      "    Online\n",
      "   </div>\n",
      "  </div>\n",
      " </div>\n",
      "</div>\n",
      "\n"
     ]
    }
   ],
   "source": [
    "print( class_soup.select('.class-info')[1].prettify() )"
   ]
  },
  {
   "cell_type": "markdown",
   "metadata": {},
   "source": [
    "Let's see if we can find out the number of empty seats for each instructor.\n",
    "\n",
    "Looks like instructors are in a link that starts with http://faculty.utah.edu/"
   ]
  },
  {
   "cell_type": "code",
   "execution_count": 32,
   "metadata": {},
   "outputs": [],
   "source": [
    "classes = class_soup.select( '.class-info' )"
   ]
  },
  {
   "cell_type": "code",
   "execution_count": 33,
   "metadata": {},
   "outputs": [],
   "source": [
    "def instructors( classes ):\n",
    "    instructors = []\n",
    "    for ci in classes:\n",
    "        instTag = [at.get_text() for at in ci.select(\"a\") \n",
    "                   if at.get(\"href\") and at.get(\"href\").startswith(\"http://faculty.utah.edu\")]\n",
    "        if len( instTag ) > 0: instructors.append( instTag[0] )\n",
    "    return instructors\n"
   ]
  },
  {
   "cell_type": "code",
   "execution_count": 34,
   "metadata": {},
   "outputs": [
    {
     "data": {
      "text/plain": [
       "['RILOFF, ELLEN',\n",
       " 'BROWN, CHRISTOPHER S',\n",
       " 'BROWN, CHRISTOPHER S',\n",
       " 'BROWN, CHRISTOPHER S',\n",
       " 'BROWN, CHRISTOPHER S',\n",
       " 'BROWN, CHRISTOPHER S',\n",
       " 'Huang, Tsung-Wei',\n",
       " 'Huang, Tsung-Wei',\n",
       " 'Huang, Tsung-Wei',\n",
       " 'Huang, Tsung-Wei',\n",
       " 'Huang, Tsung-Wei',\n",
       " 'Huang, Tsung-Wei',\n",
       " 'JOHNSON, DAVID',\n",
       " 'JOHNSON, DAVID',\n",
       " 'JOHNSON, DAVID',\n",
       " 'JOHNSON, DAVID',\n",
       " 'JOHNSON, DAVID',\n",
       " 'JOHNSON, DAVID',\n",
       " 'JOHNSON, DAVID',\n",
       " 'JOHNSON, DAVID',\n",
       " 'JOHNSON, DAVID',\n",
       " 'JOHNSON, DAVID',\n",
       " 'JOHNSON, DAVID',\n",
       " 'PHILLIPS, BEI WANG',\n",
       " 'PHILLIPS, BEI WANG',\n",
       " 'PHILLIPS, BEI WANG',\n",
       " 'PHILLIPS, BEI WANG',\n",
       " 'PHILLIPS, BEI WANG',\n",
       " 'PHILLIPS, BEI WANG',\n",
       " 'PARKER, ERIN',\n",
       " 'PARKER, ERIN',\n",
       " 'PARKER, ERIN',\n",
       " 'PARKER, ERIN',\n",
       " 'PARKER, ERIN',\n",
       " 'PARKER, ERIN',\n",
       " 'PARKER, ERIN',\n",
       " 'Elhabian, Shireen',\n",
       " 'GOPALAKRISHNAN, GANESH',\n",
       " 'COTTER, NEIL E',\n",
       " 'XIANG, YU',\n",
       " 'PHILLIPS, JEFF',\n",
       " 'KOPTA, DANIEL',\n",
       " 'KOPTA, DANIEL',\n",
       " 'KOPTA, DANIEL',\n",
       " 'KOPTA, DANIEL',\n",
       " 'KOPTA, DANIEL',\n",
       " 'KOPTA, DANIEL',\n",
       " 'JENSEN, PETER',\n",
       " 'JENSEN, PETER',\n",
       " 'JENSEN, PETER',\n",
       " 'JENSEN, PETER',\n",
       " 'JENSEN, PETER',\n",
       " 'FLATT, Matthew',\n",
       " 'WIESE, ELIANE S',\n",
       " 'Yu, Cunxi',\n",
       " 'Yu, Cunxi',\n",
       " 'KALLA, PRIYANK',\n",
       " 'NAZM BOJNORDI, MAHDI',\n",
       " 'NAZM BOJNORDI, MAHDI',\n",
       " 'NAZM BOJNORDI, MAHDI',\n",
       " 'NAZM BOJNORDI, MAHDI',\n",
       " 'KALLA, PRIYANK',\n",
       " \"DE ST GERMAIN, H. JAMES 'JIM'\",\n",
       " \"DE ST GERMAIN, H. JAMES 'JIM'\",\n",
       " 'Sullivan, Blair',\n",
       " 'SADAYAPPAN, SADAY',\n",
       " 'SADAYAPPAN, SADAY',\n",
       " 'SADAYAPPAN, SADAY',\n",
       " 'SADAYAPPAN, SADAY',\n",
       " 'SADAYAPPAN, SADAY',\n",
       " 'Zhang, Mu',\n",
       " 'Zhang, Mu',\n",
       " 'Zhang, Mu',\n",
       " 'Zhang, Mu',\n",
       " 'JOSHI, SWAROOP',\n",
       " 'JOSHI, SWAROOP',\n",
       " \"DE ST GERMAIN, H. JAMES 'JIM'\",\n",
       " 'YUKSEL, CEM',\n",
       " 'STEVENS, KENNETH S',\n",
       " 'AI, QINGYAO',\n",
       " 'AI, QINGYAO',\n",
       " 'KALLA, PRIYANK',\n",
       " 'BHASKARA, ADITYA',\n",
       " 'HOLLERBACH, JOHN',\n",
       " 'RILOFF, ELLEN',\n",
       " 'SRIKUMAR, VIVEK',\n",
       " 'Cardona-Rivera, Rogelio E',\n",
       " 'LEX, ALEXANDER',\n",
       " 'GAILLARDON, PIERRE-EMMANUEL J',\n",
       " 'EARNSHAW, BERTON',\n",
       " 'HENDERSON, THOMAS',\n",
       " 'RAKAMARIC, Zvonimir',\n",
       " 'BHASKARA, ADITYA',\n",
       " 'BHASKARA, ADITYA',\n",
       " 'BERZINS, MARTIN',\n",
       " 'SADAYAPPAN, SADAY',\n",
       " 'HOLLERBACH, JOHN',\n",
       " 'RILOFF, ELLEN',\n",
       " 'SRIKUMAR, VIVEK',\n",
       " 'SRIKUMAR, VIVEK',\n",
       " 'Cardona-Rivera, Rogelio E',\n",
       " 'KUNTZ, ALAN',\n",
       " 'KUNTZ, ALAN',\n",
       " 'STUTSMAN, RYAN',\n",
       " 'VAN DER MERWE, JACOBUS',\n",
       " 'FLATT, Matthew',\n",
       " 'AI, QINGYAO',\n",
       " 'AI, QINGYAO',\n",
       " 'LEX, ALEXANDER',\n",
       " 'LEX, ALEXANDER',\n",
       " 'HENDERSON, THOMAS',\n",
       " 'GAILLARDON, PIERRE-EMMANUEL J',\n",
       " 'BALASUBRAMONIAN, RAJEEV',\n",
       " 'EARNSHAW, BERTON',\n",
       " 'HERMANS, TUCKER',\n",
       " 'HERMANS, TUCKER',\n",
       " 'PANCHEKHA, PAVEL',\n",
       " 'EIDE, ERIC N',\n",
       " 'GOPALAKRISHNAN, GANESH',\n",
       " 'YUKSEL, CEM',\n",
       " 'EIDE, ERIC N',\n",
       " 'NAZM BOJNORDI, MAHDI',\n",
       " 'TASDIZEN, TOLGA',\n",
       " 'ABBOTT, JAKE',\n",
       " 'HALL, MARY W',\n",
       " 'PHILLIPS, JEFF',\n",
       " 'Cardona-Rivera, Rogelio E']"
      ]
     },
     "execution_count": 34,
     "metadata": {},
     "output_type": "execute_result"
    }
   ],
   "source": [
    "instructors( classes )"
   ]
  },
  {
   "cell_type": "markdown",
   "metadata": {},
   "source": [
    "Lots of repeats... if we look we'll see that lots of our entries are for labs which we don't care about.  Let's filter those"
   ]
  },
  {
   "cell_type": "code",
   "execution_count": 35,
   "metadata": {},
   "outputs": [
    {
     "data": {
      "text/plain": [
       "['RILOFF, ELLEN',\n",
       " 'BROWN, CHRISTOPHER S',\n",
       " 'Huang, Tsung-Wei',\n",
       " 'JOHNSON, DAVID',\n",
       " 'JOHNSON, DAVID',\n",
       " 'JOHNSON, DAVID',\n",
       " 'PHILLIPS, BEI WANG',\n",
       " 'PHILLIPS, BEI WANG',\n",
       " 'PARKER, ERIN',\n",
       " 'GOPALAKRISHNAN, GANESH',\n",
       " 'COTTER, NEIL E',\n",
       " 'XIANG, YU',\n",
       " 'PHILLIPS, JEFF',\n",
       " 'KOPTA, DANIEL',\n",
       " 'JENSEN, PETER',\n",
       " 'FLATT, Matthew',\n",
       " 'WIESE, ELIANE S',\n",
       " 'Yu, Cunxi',\n",
       " 'NAZM BOJNORDI, MAHDI',\n",
       " 'NAZM BOJNORDI, MAHDI',\n",
       " 'NAZM BOJNORDI, MAHDI',\n",
       " 'NAZM BOJNORDI, MAHDI',\n",
       " \"DE ST GERMAIN, H. JAMES 'JIM'\",\n",
       " 'Sullivan, Blair',\n",
       " 'SADAYAPPAN, SADAY',\n",
       " 'SADAYAPPAN, SADAY',\n",
       " 'Zhang, Mu',\n",
       " 'JOSHI, SWAROOP',\n",
       " 'JOSHI, SWAROOP',\n",
       " \"DE ST GERMAIN, H. JAMES 'JIM'\",\n",
       " 'YUKSEL, CEM',\n",
       " 'BHASKARA, ADITYA',\n",
       " 'HOLLERBACH, JOHN',\n",
       " 'RILOFF, ELLEN',\n",
       " 'SRIKUMAR, VIVEK',\n",
       " 'Cardona-Rivera, Rogelio E',\n",
       " 'LEX, ALEXANDER',\n",
       " 'GAILLARDON, PIERRE-EMMANUEL J',\n",
       " 'RAKAMARIC, Zvonimir',\n",
       " 'BHASKARA, ADITYA',\n",
       " 'BHASKARA, ADITYA',\n",
       " 'BERZINS, MARTIN',\n",
       " 'SADAYAPPAN, SADAY',\n",
       " 'HOLLERBACH, JOHN',\n",
       " 'RILOFF, ELLEN',\n",
       " 'SRIKUMAR, VIVEK',\n",
       " 'SRIKUMAR, VIVEK',\n",
       " 'Cardona-Rivera, Rogelio E',\n",
       " 'KUNTZ, ALAN',\n",
       " 'KUNTZ, ALAN',\n",
       " 'STUTSMAN, RYAN',\n",
       " 'VAN DER MERWE, JACOBUS',\n",
       " 'FLATT, Matthew',\n",
       " 'AI, QINGYAO',\n",
       " 'AI, QINGYAO',\n",
       " 'LEX, ALEXANDER',\n",
       " 'LEX, ALEXANDER',\n",
       " 'HENDERSON, THOMAS',\n",
       " 'GAILLARDON, PIERRE-EMMANUEL J',\n",
       " 'BALASUBRAMONIAN, RAJEEV']"
      ]
     },
     "metadata": {},
     "output_type": "display_data"
    }
   ],
   "source": [
    "def isLecture(ci):\n",
    "    for st in ci.select(\"span\"):\n",
    "        if st.get_text() == \"Lecture\":\n",
    "            return True\n",
    "    return False\n",
    "lectures = filter(isLecture, classes)\n",
    "lecturingInstructors = instructors(lectures)\n",
    "display(lecturingInstructors)"
   ]
  },
  {
   "cell_type": "markdown",
   "metadata": {},
   "source": [
    "So, this was super brittle and complicated!  The webpage was clearly NOT designed with us in mind.  Hopefully this convinces you that scraping is a last-resort method of getting data"
   ]
  },
  {
   "cell_type": "markdown",
   "metadata": {},
   "source": [
    "## Scraping Wrap-Up\n",
    "\n",
    "Scraping is a way to get information from website that were not designed to make data accessible. As such, it can often be **brittle**: a website change will break your scraping script. It is also often not welcome, as a scaper can cause a lot of traffic. \n",
    "\n",
    "The way we scraped information here also made the **assumption that HTML is generated consistently** based just on the URL. That is, unfortunately, less and less common, as websites adapt to browser types, resolutions, locales, but also as a lot of content is loaded dynamically e.g., via web-sockets. For example, many websites now auotmatically load more data once you scroll to the bottom of the page. These websites couldn't be scraped with our approach, instead, a browser-emulation approach, using e.g., [Selenium]() would be necessary. [Here is a tutorial](https://medium.com/the-andela-way/introduction-to-web-scraping-using-selenium-7ec377a8cf72) on how to do that. \n",
    "\n",
    "Finally, many services make their data available through a well-defined interface, an API. Using an API is always a better idea than scraping, but scraping is a good fallback!"
   ]
  },
  {
   "cell_type": "markdown",
   "metadata": {},
   "source": [
    "## Exercise 1: Exceptional Olympians\n",
    "\n",
    "Scrape data from [this wikipedia site](https://en.wikipedia.org/wiki/List_of_multiple_Olympic_medalists) about exceptional Olympic medalists. \n",
    "\n",
    "1. Download the html using urllib. \n",
    "2. Parse this html with BeautifulSoup.\n",
    "3. Extract the html that corresponds to the big table from the soup.\n",
    "4. Parse the table into a pandas dataframe. Hint: both the \"No.\" and the \"Total.\" column use row-spans which are tricky to parse, both with a pandas reader and manually. For the purpose of this exercise, exclude all rows that are not easy to parse (the first one is Bjørn Dæhlie).\n",
    "5. Create a table that shows for each country how many gold, silver, bronze, and total medals it won in that list.\n"
   ]
  }
 ],
 "metadata": {
  "anaconda-cloud": {},
  "interpreter": {
   "hash": "8fcd46d531329f49b73a0948faa8aed429eb8dafd35203d9948e8358a307ba0e"
  },
  "kernelspec": {
   "display_name": "Python 3 (ipykernel)",
   "language": "python",
   "name": "python3"
  },
  "language_info": {
   "codemirror_mode": {
    "name": "ipython",
    "version": 3
   },
   "file_extension": ".py",
   "mimetype": "text/x-python",
   "name": "python",
   "nbconvert_exporter": "python",
   "pygments_lexer": "ipython3",
   "version": "3.11.3"
  }
 },
 "nbformat": 4,
 "nbformat_minor": 1
}
