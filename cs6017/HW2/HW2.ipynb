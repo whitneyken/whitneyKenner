{
 "cells": [
  {
   "attachments": {},
   "cell_type": "markdown",
   "metadata": {},
   "source": [
    "Whitney Kenner\n",
    "UID: u0777962\n",
    "5/31/23\n",
    "CS6017\n",
    "HW2"
   ]
  },
  {
   "attachments": {},
   "cell_type": "markdown",
   "metadata": {},
   "source": [
    "PART 1:\n",
    "\n",
    "Null hypothesis:\n",
    "A == B\n",
    "\n",
    "the null hypothesis we want to disprove is that they are statistically the same...."
   ]
  },
  {
   "cell_type": "code",
   "execution_count": null,
   "metadata": {
    "ExecuteTime": {
     "end_time": "2023-06-01T19:04:38.664055Z",
     "start_time": "2023-06-01T19:04:38.660053Z"
    }
   },
   "outputs": [],
   "source": [
    "import math\n",
    "#computing the Z value\n",
    "p1 = 500/1000\n",
    "p2 = 550/1000\n",
    "p = (500 +550)/ (1000 + 1000)\n",
    "n1 = 1000\n",
    "n2 = 1000\n",
    "\n",
    "zVal = (p1 - p2)/math.sqrt(p*(1-p)*(1/n1 + 1/n2))\n",
    "print(zVal)"
   ]
  },
  {
   "cell_type": "code",
   "execution_count": null,
   "metadata": {
    "ExecuteTime": {
     "end_time": "2023-06-01T19:04:41.235065Z",
     "start_time": "2023-06-01T19:04:40.672496Z"
    }
   },
   "outputs": [],
   "source": [
    "#associated P value\n",
    "import scipy.stats as sc\n",
    "pVal = sc.norm.cdf(zVal)*100\n",
    "print(pVal)"
   ]
  },
  {
   "attachments": {},
   "cell_type": "markdown",
   "metadata": {},
   "source": [
    "What can you conclude?\n",
    "with a 1% significance level, we cannot make any conclusions about our null hypothesis\n",
    "with a 5% significance level, we can disregard our null hypothesis since the p value is 1.25% or 0.0125, we can conclude that they are statistically not the same!!"
   ]
  },
  {
   "attachments": {},
   "cell_type": "markdown",
   "metadata": {},
   "source": [
    "PART 2:"
   ]
  },
  {
   "attachments": {},
   "cell_type": "markdown",
   "metadata": {},
   "source": [
    "Task 1:"
   ]
  },
  {
   "cell_type": "code",
   "execution_count": null,
   "metadata": {
    "ExecuteTime": {
     "end_time": "2023-06-01T19:04:44.518371Z",
     "start_time": "2023-06-01T19:04:44.285008Z"
    }
   },
   "outputs": [],
   "source": [
    "#import the csv files\n",
    "import pandas as pd\n",
    "realEstate1 = pd.read_csv('realEstate1.csv')\n",
    "realEstate2 = pd.read_csv('realEstate2.csv')\n",
    "frames = [realEstate1, realEstate2]\n",
    "realEstate = pd.concat(frames)\n",
    "realEstate\n"
   ]
  },
  {
   "attachments": {},
   "cell_type": "markdown",
   "metadata": {},
   "source": [
    "Task 2: clean the data"
   ]
  },
  {
   "cell_type": "code",
   "execution_count": null,
   "metadata": {
    "ExecuteTime": {
     "end_time": "2023-06-01T19:04:47.607147Z",
     "start_time": "2023-06-01T19:04:47.599507Z"
    }
   },
   "outputs": [],
   "source": [
    "#Only keep houses with List Price between 200,000 and 1,000,000 dollars\n",
    "realEstate = realEstate.loc[realEstate['LstPrice'] <= 1000000]\n",
    "realEstate = realEstate.loc[realEstate['LstPrice'] >= 200000]\n",
    "\n",
    "#Remove columns that you don't think contribute to the value of the house\n",
    "realEstate = realEstate.filter(items=['Acres', 'Deck', 'GaragCap', 'Latitude', 'Longitude', 'LstPrice', 'Patio', 'PkgSpacs', 'PropType', 'SoldPrice', 'Taxes', 'TotBed', 'TotBth', 'TotSqf', 'YearBlt'])\n",
    "realEstate\n"
   ]
  },
  {
   "cell_type": "code",
   "execution_count": null,
   "metadata": {
    "ExecuteTime": {
     "end_time": "2023-06-01T19:11:30.286940Z",
     "start_time": "2023-06-01T19:11:30.264397Z"
    }
   },
   "outputs": [],
   "source": [
    "#Convert 'TotSqf' to an integer.\n",
    "realEstate['TotSqf']=realEstate['TotSqf'].str.replace(',','')\n",
    "realEstate['TotSqf'] = realEstate['TotSqf'].astype(int)\n",
    "realEstate\n"
   ]
  },
  {
   "cell_type": "code",
   "execution_count": null,
   "metadata": {},
   "outputs": [],
   "source": [
    "#Add a new column titled Prop_Type_SingleFamily that is set to 0 if the i-th listing is a condo or townhouse, or 1 if the i-th listing is a single family house.\n",
    "realEstate['Prop_Type_SingleFamily'] = [1 if x == 'Single Family' else 0 for x in realEstate['PropType']]\n",
    "realEstate"
   ]
  },
  {
   "cell_type": "code",
   "execution_count": null,
   "metadata": {},
   "outputs": [],
   "source": [
    "#Remove the listings with erroneous 'Longitude' (one has Longitude = 0) and 'Taxes' values (two have unreasonably large values).\n",
    "realEstate = realEstate.loc[(realEstate['Taxes'] < 10000)]\n",
    "realEstate = realEstate.loc[(realEstate['Longitude'] != 0)]\n",
    "#realEstate.sort_values(['Longitude'])\n",
    "#realEstate.sort_values(['Taxes'])\n",
    "\n"
   ]
  },
  {
   "attachments": {},
   "cell_type": "markdown",
   "metadata": {},
   "source": [
    "Task 3: Exploratory Data Analysis"
   ]
  },
  {
   "attachments": {},
   "cell_type": "markdown",
   "metadata": {},
   "source": [
    "Explore the dataset. Write a short description of the dataset describing the number of items, the number of variables and check to see if the values are reasonable.\n",
    "\n",
    "This dataset contains 260 rows (items) and 16 columns (variables) \n",
    "\n",
    "Unreasonable values:\n",
    "Most values seem reasonable except:\n",
    "- 1 house has 54 patios which seems absurd\n",
    "- 1 person is spending $1 on taxes\n",
    "- 1 house has 0 bathrooms which is presumably illegal\n",
    "\n",
    "everything else seems quite reasonable and this data can be evaluated to look at correlations between these values and house price"
   ]
  },
  {
   "cell_type": "code",
   "execution_count": null,
   "metadata": {},
   "outputs": [],
   "source": [
    "#Make a bar chart showing the breakdown of the different types of houses (single family, townhouse, condo).\n",
    "import matplotlib.pyplot as plt\n",
    "plt.style.use( 'ggplot' )\n",
    "realEstate['PropType'].value_counts().plot(kind=\"bar\")\n",
    "\n"
   ]
  },
  {
   "cell_type": "code",
   "execution_count": null,
   "metadata": {},
   "outputs": [],
   "source": [
    "#Compute the correlation matrix and use a heat map to visualize the correlation coefficients.\n",
    "#Use a diverging color scale from -1 to +1 (see vmin and vmax parameters for pcolorLinks to an external site.)\n",
    "#Show a legend (colorbarLinks to an external site.)\n",
    "#Make sure the proper labels are visible and readable (see xticksLinks to an external site. and the corresponding yticksLinks to an external site.).\n",
    "import seaborn as sn\n",
    "modifiedHMDF = realEstate.filter(items=['Acres', 'Deck', 'GaragCap', 'Latitude', 'Longitude', 'LstPrice', 'Patio', 'PkgSpacs', 'SoldPrice', 'Taxes', 'TotBed', 'TotBth', 'TotSqf', 'YearBlt'])\n",
    "corrHMDF = modifiedHMDF.corr()\n",
    "realEstateHeatMap = sn.heatmap(corrHMDF, vmax=1, vmin=-1)"
   ]
  },
  {
   "cell_type": "code",
   "execution_count": null,
   "metadata": {},
   "outputs": [],
   "source": [
    "#Make a scatter plot matrix to visualize the correlations. Determine which columns have strong correlations.\n",
    "scatterREDF = realEstate.filter(items=['Acres', 'LstPrice', 'SoldPrice', 'Taxes', 'TotBed', 'TotBth', 'TotSqf', 'YearBlt'])\n",
    "pd.plotting.scatter_matrix(scatterREDF, figsize=(12,12))"
   ]
  },
  {
   "attachments": {},
   "cell_type": "markdown",
   "metadata": {},
   "source": [
    "The columns with strong correlation are: \n",
    "sold price and lst price, which intuitively makes sense that the sale price would be close to the listed price. This has the strongest correlation, but some weaker ones (but still positively correlated) are:\n",
    "Total square feet and taxes\n",
    "list price and total square feet\n",
    "sold price and total square feet\n",
    "\n",
    "these are somewhere between a moderate and strong correlation. A strong correlation is generally around an r of 0.7, which is what I would predict the last strong relationships are\n",
    "\n",
    "outside of the relationships listed above, there seems to be little to no correlation between the various variables of a house\n",
    "\n",
    "year built, in particular, seems to be the weakest indicater of anything at all as there is no correlation between it and anything else"
   ]
  },
  {
   "attachments": {},
   "cell_type": "markdown",
   "metadata": {},
   "source": [
    "Task 4: Geospatial Plot\n",
    "\n",
    "Two of the variables are the latitude and longitude of each listing. Salt Lake City is on this nice east-west, north south grid, so even a simple plot of latitude vs longitude makes sense. Create a scatterplot of these two variables. Use color to indicate the price of the house. How does the price depend on the house location?\n",
    "\n",
    "Bonus: If you can, overlay the scatterplot on a map of the city. (This is challenging, and we didn't teach you how to do it, so you should do the other parts of the assignment first.)\n",
    "\n",
    "What can you say about the relation between the location and the house price?"
   ]
  },
  {
   "cell_type": "code",
   "execution_count": null,
   "metadata": {},
   "outputs": [],
   "source": [
    "#plot the latitude vs longitude on a scatterplot (use color to indicate the price of the house) How does the price of the house depend on location?\n",
    "import numpy as np\n",
    "locationDF = realEstate.filter(items=['Latitude', 'Longitude', 'LstPrice'])\n",
    "\n",
    "\n",
    "locationScatterPlot = plt.scatter(x=locationDF['Latitude'], y=locationDF['Longitude'], c=locationDF['LstPrice'])\n",
    "cbar = plt.colorbar(locationScatterPlot)\n",
    "cbar.ax.set_yticklabels(['200,000', '300,000','400,000','500,000', '600,000','700,000', '800,000','900,000', '1,000,000'])\n",
    "cbar.set_label(\"List Price of House\")\n",
    "plt.xlabel(\"Latitude\")\n",
    "plt.ylabel(\"Longitude\")\n",
    "\n",
    "\n"
   ]
  },
  {
   "attachments": {},
   "cell_type": "markdown",
   "metadata": {},
   "source": [
    "How does the price depend on the house location?\n",
    "the farther east and north you go, (within this collection of locations), the price generally increases.\n",
    "\n",
    "What can you say about the relation between the location and the house price?\n",
    "Most of the houses range between 200k and 700k, but as you get farther and farther east and north, the most expensive houses (between 700k and 1 million), are found on the outer edges. It would seem in the more central areas, location is not a very important facter for price, but for the eastern and northern houses, the location is correlated with higher house price!"
   ]
  },
  {
   "attachments": {},
   "cell_type": "markdown",
   "metadata": {},
   "source": [
    "Task 5: Simple Linear Regression"
   ]
  },
  {
   "cell_type": "code",
   "execution_count": null,
   "metadata": {},
   "outputs": [],
   "source": [
    "import statsmodels.formula.api as sm\n",
    "#sold price vs taxes ols\n",
    "sold_taxes_ols = sm.ols(formula=\"SoldPrice ~ Taxes\", data=realEstate).fit()\n",
    "sold_taxes_ols.summary()"
   ]
  },
  {
   "cell_type": "code",
   "execution_count": null,
   "metadata": {},
   "outputs": [],
   "source": [
    "#sold price vs acres ols\n",
    "sold_acres_ols = sm.ols(formula=\"SoldPrice ~ Acres\", data=realEstate).fit()\n",
    "sold_acres_ols.summary()"
   ]
  },
  {
   "cell_type": "code",
   "execution_count": null,
   "metadata": {},
   "outputs": [],
   "source": [
    "#list price vs sold price ols\n",
    "sold_list_ols = sm.ols(formula=\"SoldPrice ~ LstPrice\", data=realEstate).fit()\n",
    "sold_list_ols.summary()"
   ]
  },
  {
   "attachments": {},
   "cell_type": "markdown",
   "metadata": {},
   "source": [
    "You'll find that the best predictor of sold price is the list price. Report the R-squared value for this model (SoldPrice ~ LstPrice) and give an interpretation for its meaning. \n",
    "\n",
    "The R-squared value for (SoldPrice ~ LstPrice) is 0.990, which is a very good R-squared value. This model explains 99% of the variablility in SldPrice! The closer an R-squared value is to 1, the greater the data is correlated, so this value indicates there is an extremely strong correlation between sale and list price.\n",
    "\n",
    "\n",
    "Also give an interpretation of beta_1 for this model.\n",
    "\n",
    "Beta_1 is the slope of the line, and in this case that's 1.0488, which means that as the listed price goes up, the sale price also goes up slightly more than 1. This will be reflected in the graph below. This slope indicates that the sale price on average increases linearly with the list price!\n"
   ]
  },
  {
   "cell_type": "code",
   "execution_count": null,
   "metadata": {},
   "outputs": [],
   "source": [
    "# Make a plot of list price vs. sold price and overlay the prediction coming from your regression model.\n",
    "plt.scatter(x=realEstate['LstPrice'], y=realEstate['SoldPrice'], c='k', marker=\"*\", label='LstPrice')\n",
    "m= 1.0488\n",
    "b= -9277.1587\n",
    "plt.plot(realEstate['LstPrice'], m*realEstate['LstPrice'] + b, color=\"blue\", linewidth=3)\n",
    "_ =plt.xlabel(\"List Price ($)\")\n",
    "_ =plt.ylabel(\"Sold Price ($)\")"
   ]
  },
  {
   "attachments": {},
   "cell_type": "markdown",
   "metadata": {},
   "source": [
    "Task 6: Multilinear Regression"
   ]
  },
  {
   "cell_type": "code",
   "execution_count": null,
   "metadata": {},
   "outputs": [],
   "source": [
    "#Develop a multilinear regression model for house prices in this neighborhood.\n",
    "real_estate_all_ols = sm.ols(formula=\"SoldPrice ~ Acres + Deck + GaragCap + Latitude + Longitude + Patio + PkgSpacs + Taxes + TotBed + TotBth + TotSqf + YearBlt\", data=realEstate).fit()\n",
    "real_estate_all_ols.summary()\n"
   ]
  },
  {
   "attachments": {},
   "cell_type": "markdown",
   "metadata": {},
   "source": [
    "Which variables are the best predictors for the Sold Price?\n",
    "\n",
    "The best predictors for the sold price are: Taxes and TotSqf. There are other values with high coefficients but also high p values which indicate the model between that variable and sold price are not significant\n",
    "\n",
    "Specific questions:\n",
    "\n",
    "- Often the price per square foot for a house is advertised. Is this what the coefficient for TotSqf is measuring? Provide an interpretation for the coefficient for TotSqf.\n",
    "\n",
    "The coefficient for TotSqf is the slope of the line for how sold price increases based on total square feet increasing. In this example, the average house price across this set will increase by 41.40 for every 1 ft squared increase in size in the house\n",
    "\n",
    "- Estimate the value that each Garage space adds to a house.\n",
    "\n",
    "$23,810. BUT the correlation between SalePrice and GaragCap is only 63%, so this is not a particularly strong correlation, so this is a rough estimate based on moderatley correlated values\n",
    "\n",
    "- Does latitude or longitude have an impact on house price? Explain.\n",
    "\n",
    "latitude does not. It has an extremely high p-value, so it can not be considered stastically significant. \n",
    "Longitude has a p value of 0.001 which is considered statistically significant but there is only a correlation of 39% which is very weak\n",
    "\n",
    "- If we wanted to start a 'house flipping' company, we'd have to be able to do a better job of predicting the sold price than the list price does. How does your model compare?\n",
    "\n",
    "It's not great, our R-squared value is quite a bit worse and many of these variables have weak or no correlation, we would definitely want a better model if we wanted our company to be succesful "
   ]
  },
  {
   "cell_type": "code",
   "execution_count": null,
   "metadata": {},
   "outputs": [],
   "source": [
    "realEstateCoefficients = realEstate.filter(items=['Acres', 'Deck', 'GaragCap', 'Latitude', 'Longitude', 'LstPrice', 'Patio', 'PkgSpacs', 'SoldPrice', 'Taxes', 'TotBed', 'TotBth', 'TotSqf', 'YearBlt'])\n",
    "print(realEstateCoefficients.corr())"
   ]
  },
  {
   "attachments": {},
   "cell_type": "markdown",
   "metadata": {},
   "source": [
    "Task 7: Incorporating a Categorical Variable"
   ]
  },
  {
   "cell_type": "code",
   "execution_count": null,
   "metadata": {},
   "outputs": [],
   "source": [
    "#sold price vs proptype\n",
    "sold_prop_ols = sm.ols(formula=\"SoldPrice ~ Prop_Type_SingleFamily\", data=realEstate).fit()\n",
    "sold_prop_ols.summary()\n"
   ]
  },
  {
   "cell_type": "code",
   "execution_count": null,
   "metadata": {},
   "outputs": [],
   "source": [
    "# sold price vs proptype & total square feet\n",
    "sold_prop_sqft_ols = sm.ols(formula=\"SoldPrice ~ Prop_Type_SingleFamily + TotSqf\", data=realEstate).fit()\n",
    "sold_prop_sqft_ols.summary()"
   ]
  },
  {
   "attachments": {},
   "cell_type": "markdown",
   "metadata": {},
   "source": [
    "\n",
    "From the first model, it would appear that Property type is significant in predicting the sold price. On the other hand, the second model indicates that when you take into account total square footage, property type is no longer predictive. Explain this. (Hint: there is a confounder lurking here.) \n",
    "\n",
    "- Total square feet is a cofounder for the sold price and property type. When the property type is compared on it's own to sold price it has a p value of 0.000 BUT it's R-squared value is horrendous (0.156). When adding in the total square feet to this model, the r value becomes 0.741, which is substantially better, and the p value increases for the house type to a point where it is no longer statistically significant"
   ]
  },
  {
   "cell_type": "code",
   "execution_count": null,
   "metadata": {},
   "outputs": [],
   "source": [
    "#Make a scatterplot of TotSqf vs. SoldPrice where the house types are colored differently to illustrate your explanation\n",
    "sold_sqf_prop = realEstate.filter(items=['TotSqf', 'PropType', 'SoldPrice'])\n",
    "colors = {'Single Family':'red', 'Townhouse': 'green', 'Condo':'blue'}\n",
    "sold_sqf_prop_plt = plt.scatter(x=sold_sqf_prop['TotSqf'], y=sold_sqf_prop['SoldPrice'], c=sold_sqf_prop['PropType'].map(colors))\n",
    "\n",
    "plt.xlabel(\"Total Sqare Feet\")\n",
    "plt.ylabel(\"Sold Price\")\n"
   ]
  }
 ],
 "metadata": {
  "kernelspec": {
   "display_name": "Python 3 (ipykernel)",
   "language": "python",
   "name": "python3"
  },
  "language_info": {
   "codemirror_mode": {
    "name": "ipython",
    "version": 3
   },
   "file_extension": ".py",
   "mimetype": "text/x-python",
   "name": "python",
   "nbconvert_exporter": "python",
   "pygments_lexer": "ipython3",
   "version": "3.11.3"
  }
 },
 "nbformat": 4,
 "nbformat_minor": 1
}
