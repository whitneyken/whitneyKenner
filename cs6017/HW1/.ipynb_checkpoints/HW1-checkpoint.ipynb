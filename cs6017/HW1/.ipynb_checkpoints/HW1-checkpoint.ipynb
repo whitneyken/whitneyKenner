{
 "cells": [
  {
   "cell_type": "markdown",
   "id": "3c350b11",
   "metadata": {},
   "source": [
    "Whtiney Kenner\n",
    "u0777962\n",
    "5/17/23\n",
    "HW1\n"
   ]
  },
  {
   "cell_type": "code",
   "execution_count": 2,
   "id": "77a9fcdd",
   "metadata": {
    "is_executing": true
   },
   "outputs": [
    {
     "data": {
      "text/plain": [
       "array([28, 74,  1, 53, 35, 67, 99,  7,  9, 62, 18, 51, 14, 41, 45, 76, 16,\n",
       "       69, 87, 64, 91, 15, 45, 76, 21, 44, 32, 13, 77, 28, 18, 48, 47, 25,\n",
       "       96, 87, 99, 49, 78, 72, 55,  4, 52, 75, 13, 95, 73, 34, 68, 51, 61,\n",
       "       24, 27, 62, 16,  2,  7, 62, 87, 68, 47, 49, 37, 77, 16, 38, 23, 57,\n",
       "       45, 85, 64, 27, 69, 92, 11, 17, 73, 78, 14, 66, 23, 52, 88, 91, 77,\n",
       "       95, 73, 73, 16, 28, 55,  3, 45,  1, 96, 52, 11, 80, 39,  5])"
      ]
     },
     "execution_count": 2,
     "metadata": {},
     "output_type": "execute_result"
    }
   ],
   "source": [
    "import numpy as np\n",
    "randomArray = np.random.randint(1, 100, 100)\n",
    "randomArray"
   ]
  }
 ],
 "metadata": {
  "kernelspec": {
   "display_name": "Python 3 (ipykernel)",
   "language": "python",
   "name": "python3"
  },
  "language_info": {
   "codemirror_mode": {
    "name": "ipython",
    "version": 3
   },
   "file_extension": ".py",
   "mimetype": "text/x-python",
   "name": "python",
   "nbconvert_exporter": "python",
   "pygments_lexer": "ipython3",
   "version": "3.11.3"
  }
 },
 "nbformat": 4,
 "nbformat_minor": 5
}
