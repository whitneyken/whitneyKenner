{
 "cells": [
  {
   "cell_type": "markdown",
   "source": [
    "Whtiney Kenner u0777962 5/17/23 HW1\n"
   ],
   "metadata": {
    "collapsed": false
   }
  },
  {
   "cell_type": "code",
   "execution_count": null,
   "outputs": [],
   "source": [
    "\n",
    "#computing the mean\n",
    "def getMean(array):\n",
    "    addedValues = 0.0\n",
    "    for element in array:\n",
    "        addedValues+= element\n",
    "    mean = addedValues/array.size\n",
    "    return mean"
   ],
   "metadata": {
    "collapsed": false
   }
  },
  {
   "cell_type": "code",
   "execution_count": null,
   "outputs": [],
   "source": [
    "import math\n",
    "\n",
    "#computing the standard deviation\n",
    "def getStandardDeviation(array, mean):\n",
    "    addedSqDist = 0.0\n",
    "    for element in array:\n",
    "        addedSqDist += (element - mean) ** 2\n",
    "    stddev = math.sqrt(addedSqDist /array.size)\n",
    "    return stddev"
   ],
   "metadata": {
    "collapsed": false
   }
  },
  {
   "cell_type": "code",
   "execution_count": null,
   "outputs": [],
   "source": [
    "\n",
    "import numpy as np\n",
    "randomArray = np.random.rand(100000)\n",
    "print(\"Randomly generated array: \")\n",
    "\n",
    "mean = getMean(randomArray)\n",
    "stddev = getStandardDeviation(randomArray, mean)\n",
    "print(\"The mean is: \", mean)\n",
    "print(\"The standard deviation is: \", stddev)\n"
   ],
   "metadata": {
    "collapsed": false
   }
  },
  {
   "cell_type": "markdown",
   "source": [
    "What happens (to the mean/std dev) when you increase the number of random numbers from 100 to 100000?\n",
    "The mean gets closer to 50 (my range is 1-100)\n",
    "the stddev gets closer to 30\n",
    "both of these are expected!"
   ],
   "metadata": {
    "collapsed": false
   }
  },
  {
   "cell_type": "code",
   "execution_count": null,
   "outputs": [],
   "source": [
    "import scipy as sc\n",
    "norm = sc.stats.norm\n",
    "numbers = norm.rvs(size=10000)\n",
    "mean = getMean(numbers)\n",
    "stddev = getStandardDeviation(numbers, mean)\n",
    "print(\"The mean is: \", mean)\n",
    "print(\"The standard deviation is: \", stddev)\n",
    "\n",
    "meanBuiltIn = np.mean(numbers)\n",
    "stddevBuiltIn = np.std(numbers)\n",
    "print(\"The built in mean is: \", meanBuiltIn)\n",
    "print(\"The built in stddev is: \", stddevBuiltIn)\n"
   ],
   "metadata": {
    "collapsed": false
   }
  },
  {
   "cell_type": "markdown",
   "source": [
    "What does the results of the mean/std dev of this data tell you about Scipy's norm's rvs function?\n",
    "The mean is very close to 0 since we have a Gaussian distribution\n",
    "the standard deviation is very close to 1\n",
    "these numbers indicate that we are in fact getting a normal distribution"
   ],
   "metadata": {
    "collapsed": false
   }
  },
  {
   "cell_type": "code",
   "execution_count": null,
   "outputs": [],
   "source": [
    "import matplotlib.pyplot as plt\n",
    "plt.hist(randomArray, bins=40, density=True)\n",
    "plt.title(\"Distribution of scipy stats norm\")\n",
    "plt.show()"
   ],
   "metadata": {
    "collapsed": false
   }
  },
  {
   "cell_type": "code",
   "execution_count": null,
   "outputs": [],
   "source": [
    "plt.hist(numbers, bins=40, density=True)\n",
    "plt.title(\"Distribution of scipy stats norm\")\n",
    "plt.show()"
   ],
   "metadata": {
    "collapsed": false
   }
  },
  {
   "cell_type": "code",
   "execution_count": null,
   "outputs": [],
   "source": [
    "#part 2\n",
    "#using ED-MC\n",
    "import pandas as pd\n",
    "plt.style.use( 'ggplot' )\n",
    "data = pd.read_csv(\"2021.csv\", usecols=['Date','SF-MC'], parse_dates=['Date'])\n",
    "data.dates = pd.to_datetime(data['Date'])\n",
    "print(data)\n",
    "data.plot(x='Date', y='SF-MC')\n",
    "\n",
    "\n",
    "\n"
   ],
   "metadata": {
    "collapsed": false
   }
  },
  {
   "cell_type": "code",
   "execution_count": null,
   "outputs": [],
   "source": [
    "monthlyData = data.groupby(pd.Grouper(key='Date',axis=0, freq='M')).mean()\n",
    "print(monthlyData)\n",
    "monthplot = monthlyData.plot.bar()\n",
    "monthplot.set_xlabel( \"Month\" )\n",
    "monthplot.set_ylabel(\"mean pm 2.5 levels\")\n",
    "month_names = ['Jan','Feb','Mar','Apr','May','Jun',\n",
    "               'Jul','Aug','Sep','Oct','Nov','Dec']\n",
    "monthplot.set_xticklabels(month_names)"
   ],
   "metadata": {
    "collapsed": false
   }
  },
  {
   "cell_type": "markdown",
   "source": [
    "Note any insights you can gain from this visualization: August is clearly the month with the highest pm 2.5 level, but this graph also smooths out the day to day fluctuations pictured above\n"
   ],
   "metadata": {
    "collapsed": false
   }
  },
  {
   "cell_type": "code",
   "execution_count": null,
   "outputs": [],
   "source": [
    "#Next, group the data by time of day (by hour), and plot the mean pollution level for each hour. What insights can you draw from this view of the data?\n",
    "times = pd.DatetimeIndex(data.dates)\n",
    "hourlyData = data.groupby([times.hour]).mean()\n",
    "#hourlyData = data.groupby(pd.Grouper(key='Date', axis=0, freq='H')).mean()\n",
    "print(hourlyData)\n",
    "hourlyplot = hourlyData.plot.bar(x='Date', y='SF-MC')\n",
    "hourlyplot.set_xlabel( \"Hour\" )\n",
    "hourlyplot.set_ylabel(\"mean pm 2.5 levels\")\n",
    "hour_names = ['00','01','02','03','04','05','06','07','08','09','10','11','12', '13', '14', '15', '16', '17', '18', '19', '20', '21', '22', '23']\n",
    "hourlyplot.set_xticklabels(hour_names)"
   ],
   "metadata": {
    "collapsed": false
   }
  },
  {
   "cell_type": "markdown",
   "source": [
    "From the hourly graphing of mean pm 2.5 levels you can see where the peaks and valleys are in pollution. The peaks are around 7/8 am and 19/20, which generally lines up with rush hour traffic throughout the day"
   ],
   "metadata": {
    "collapsed": false
   }
  },
  {
   "cell_type": "code",
   "execution_count": null,
   "outputs": [],
   "source": [
    "#The mean only gives us a very coarse view of the monthly/hourly data. Use \"Box and Whisker\" plots of the monthly and hourly data groupings to provide a more complete view of the data. Does this view provide any additional insights?\n",
    "\n",
    "#monthly box and whisker plot\n",
    "monthlyDataRaw = data.groupby([data['Date'].dt.month])\n",
    "monthlyFig = monthlyDataRaw.boxplot(subplots=False)\n",
    "monthlyFig.set_xticklabels(month_names)\n"
   ],
   "metadata": {
    "collapsed": false
   }
  },
  {
   "cell_type": "code",
   "execution_count": null,
   "outputs": [],
   "source": [
    "#hourly box and whisker plot\n",
    "hourlyDataRaw = data.groupby([data['Date'].dt.hour])\n",
    "print(hourlyDataRaw)\n",
    "hourlyFig = hourlyDataRaw.boxplot(subplots=False)\n",
    "hourlyFig.set_xticklabels(hour_names)"
   ],
   "metadata": {
    "collapsed": false
   }
  }
 ],
 "metadata": {
  "kernelspec": {
   "display_name": "Python 3",
   "language": "python",
   "name": "python3"
  },
  "language_info": {
   "codemirror_mode": {
    "name": "ipython",
    "version": 2
   },
   "file_extension": ".py",
   "mimetype": "text/x-python",
   "name": "python",
   "nbconvert_exporter": "python",
   "pygments_lexer": "ipython2",
   "version": "2.7.6"
  }
 },
 "nbformat": 4,
 "nbformat_minor": 0
}
