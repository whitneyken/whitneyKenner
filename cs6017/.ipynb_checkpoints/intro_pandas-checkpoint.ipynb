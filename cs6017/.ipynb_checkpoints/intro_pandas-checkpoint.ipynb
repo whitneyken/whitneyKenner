{
 "cells": [
  {
   "cell_type": "markdown",
   "metadata": {
    "nbpresent": {
     "id": "50a40f10-f4b6-4dd3-b7aa-c63ed3ca3244"
    },
    "slideshow": {
     "slide_type": "slide"
    }
   },
   "source": [
    "# Introduction to Data Science - Lecture 5 - Dictionaries, Series\n",
    "*COMP 5360 / MATH 4100, University of Utah, http://datasciencecourse.net/*\n",
    "\n",
    "In this lecture we will, after a quick recap, introduce more data structures: sets, dictionaries, and series. While sets and dictionaries are built-in Python data structures, series and dataframes are part of the [pandas library](http://pandas.pydata.org/) tailored to data science applications."
   ]
  },
  {
   "cell_type": "markdown",
   "metadata": {},
   "source": [
    "## If-Statements Recap\n",
    "\n",
    "* By using if-elif-else statements we can realize conditional flow in a program. \n",
    "* If an elif take a parameter that is tested for truth. The parameter can be a boolean (`True` or `False`), or any other data type. \n",
    "    * For numerical data types, 0 and None evaluates to false, everything else to true.\n",
    "    * For lists, strings, dictionaries, an empty container evaluates to false.\n",
    "\n",
    "See the [documentation](https://docs.python.org/3/library/stdtypes.html#truth-value-testing) to understand what is considered true and false."
   ]
  },
  {
   "cell_type": "code",
   "execution_count": 16,
   "metadata": {
    "nbpresent": {
     "id": "4df31c1d-fa43-4d1b-8d2f-7d5eb7771540"
    }
   },
   "outputs": [
    {
     "name": "stdout",
     "output_type": "stream",
     "text": [
      "2 is a factor of 4\n",
      "3 is a factor of 9\n",
      "Neither 2 nor 3 are factors of 13\n"
     ]
    }
   ],
   "source": [
    "def factors(x):\n",
    "    # notice the use of the negation and the use of 0 as false\n",
    "    if(not x % 2):\n",
    "        print(\"2 is a factor of \" + str(x))  \n",
    "    elif(not x % 3):     # only evaluated when if was false\n",
    "        print(\"3 is a factor of \" + str(x))\n",
    "    else: # only evaluated when both if and elif were false\n",
    "        print(\"Neither 2 nor 3 are factors of \" + str(x))\n",
    "\n",
    "factors(4)\n",
    "factors(9)\n",
    "factors(13)"
   ]
  },
  {
   "cell_type": "markdown",
   "metadata": {
    "nbpresent": {
     "id": "30fae315-d72a-442a-a7b5-b0a37b744dca"
    }
   },
   "source": [
    "\n",
    "## Lists Recap\n",
    "\n",
    "**A list is a collection of items.**   \n",
    "**Lists are created with square brackets `[]` and can be accessed via an index:**"
   ]
  },
  {
   "cell_type": "code",
   "execution_count": 2,
   "metadata": {
    "nbpresent": {
     "id": "2cccc38c-08c9-47ec-8476-8198b5aef967"
    }
   },
   "outputs": [
    {
     "name": "stdout",
     "output_type": "stream",
     "text": [
      "['Paul', 'John', 'George', 'Ringo']\n",
      "Paul\n",
      "Ringo\n",
      "George\n"
     ]
    }
   ],
   "source": [
    "beatles = [\"Paul\", \"John\", \"George\", \"Ringo\"]\n",
    "# printing the whole array\n",
    "print(beatles)\n",
    "# printing the first element of that array, at index 0\n",
    "print(beatles[0])\n",
    "# third element, at index 3\n",
    "print(beatles[3])\n",
    "# access the one-but-last element\n",
    "print(beatles[-2])"
   ]
  },
  {
   "cell_type": "markdown",
   "metadata": {
    "nbpresent": {
     "id": "b095b5f4-64f4-4c92-b5ad-3430139e5829"
    }
   },
   "source": [
    "We can also create **slices of an array with the slice operator `:`**\n",
    "\n",
    "```python\n",
    "a[start:end] # items start through end-1\n",
    "a[start:]    # items start through the rest of the array\n",
    "a[:end]      # items from the beginning through end-1\n",
    "a[:]         # a copy of the whole array\n",
    "```\n",
    "There is also the step value, which can be used with any of the above:\n",
    "\n",
    "```python\n",
    "a[start:end:step] # start through not past end, by step\n",
    "```\n",
    "\n",
    "See [this post](for a good explanation on slicing)."
   ]
  },
  {
   "cell_type": "code",
   "execution_count": 3,
   "metadata": {
    "nbpresent": {
     "id": "6f27c412-dc29-4506-afa2-81e52922d8f2"
    }
   },
   "outputs": [
    {
     "data": {
      "text/plain": [
       "['Paul', 'John']"
      ]
     },
     "execution_count": 3,
     "metadata": {},
     "output_type": "execute_result"
    }
   ],
   "source": [
    "# Get the slice from 0 (included) to 2 (excluded)\n",
    "beatles[:2] # this can also be written as [0:2]"
   ]
  },
  {
   "cell_type": "markdown",
   "metadata": {},
   "source": [
    "The slice operation returns a new array, the original array is untouched: "
   ]
  },
  {
   "cell_type": "code",
   "execution_count": 4,
   "metadata": {
    "nbpresent": {
     "id": "a5368caf-1a8b-4f2e-9dd6-d9e57dc85b41"
    }
   },
   "outputs": [
    {
     "data": {
      "text/plain": [
       "['Paul', 'John', 'George', 'Ringo']"
      ]
     },
     "execution_count": 4,
     "metadata": {},
     "output_type": "execute_result"
    }
   ],
   "source": [
    "beatles"
   ]
  },
  {
   "cell_type": "markdown",
   "metadata": {
    "nbpresent": {
     "id": "7de0a434-d83b-4557-aa74-d81ee4b7ecbb"
    }
   },
   "source": [
    "**We can change the elements that are contained in a list**: "
   ]
  },
  {
   "cell_type": "code",
   "execution_count": 5,
   "metadata": {
    "nbpresent": {
     "id": "7d7aab61-0e11-4084-a70a-537a017c15fa"
    }
   },
   "outputs": [
    {
     "data": {
      "text/plain": [
       "['Paul', 'JohnYoko', 'George', 'Ringo']"
      ]
     },
     "execution_count": 5,
     "metadata": {},
     "output_type": "execute_result"
    }
   ],
   "source": [
    "beatles[1] = \"JohnYoko\"\n",
    "beatles"
   ]
  },
  {
   "cell_type": "markdown",
   "metadata": {
    "nbpresent": {
     "id": "31e45925-5bf1-42de-87ea-280dbb365665"
    }
   },
   "source": [
    "Lists can also be **extended in-place with the `append()` function**:"
   ]
  },
  {
   "cell_type": "code",
   "execution_count": 6,
   "metadata": {
    "nbpresent": {
     "id": "e2a6752b-e74d-48b4-b682-4ea811cef8a4"
    }
   },
   "outputs": [
    {
     "data": {
      "text/plain": [
       "['Paul', 'JohnYoko', 'George', 'Ringo', 'George Martin']"
      ]
     },
     "execution_count": 6,
     "metadata": {},
     "output_type": "execute_result"
    }
   ],
   "source": [
    "beatles.append(\"George Martin\")\n",
    "beatles"
   ]
  },
  {
   "cell_type": "markdown",
   "metadata": {
    "nbpresent": {
     "id": "cb8a4e24-90ef-4b0f-86de-b81bb5309d52"
    }
   },
   "source": [
    "Lists can be **concatenated**: "
   ]
  },
  {
   "cell_type": "code",
   "execution_count": 7,
   "metadata": {
    "nbpresent": {
     "id": "a4109ac9-938f-4db7-b7bb-bb899ad672ed"
    }
   },
   "outputs": [
    {
     "data": {
      "text/plain": [
       "['Paul',\n",
       " 'JohnYoko',\n",
       " 'George',\n",
       " 'Ringo',\n",
       " 'George Martin',\n",
       " 'Jimmy',\n",
       " 'Robert',\n",
       " 'John',\n",
       " 'John']"
      ]
     },
     "execution_count": 7,
     "metadata": {},
     "output_type": "execute_result"
    }
   ],
   "source": [
    "zeppelin = [\"Jimmy\", \"Robert\", \"John\", \"John\"]\n",
    "beatles += zeppelin\n",
    "beatles"
   ]
  },
  {
   "cell_type": "markdown",
   "metadata": {
    "nbpresent": {
     "id": "3927d6f8-3df3-4773-b08d-2b77acfffcd8"
    }
   },
   "source": [
    "We can **check the length** of a list:"
   ]
  },
  {
   "cell_type": "code",
   "execution_count": 8,
   "metadata": {
    "nbpresent": {
     "id": "bc27d3eb-1a47-465d-b1f4-930a833608de"
    }
   },
   "outputs": [
    {
     "data": {
      "text/plain": [
       "4"
      ]
     },
     "execution_count": 8,
     "metadata": {},
     "output_type": "execute_result"
    }
   ],
   "source": [
    "len(zeppelin)"
   ]
  },
  {
   "cell_type": "markdown",
   "metadata": {
    "nbpresent": {
     "id": "128555b4-e524-4d04-a9a8-2ceee3daffaf"
    }
   },
   "source": [
    "Lists can also be **nested**: "
   ]
  },
  {
   "cell_type": "code",
   "execution_count": 9,
   "metadata": {
    "nbpresent": {
     "id": "ab1b9e85-6252-4ee4-aa90-10cb955ab083"
    }
   },
   "outputs": [
    {
     "data": {
      "text/plain": [
       "[['Paul', 'John', 'George', 'Ringo'], ['Jimmy', 'Robert', 'John', 'John']]"
      ]
     },
     "execution_count": 9,
     "metadata": {},
     "output_type": "execute_result"
    }
   ],
   "source": [
    "# let's reset the beatles first\n",
    "beatles = [\"Paul\", \"John\", \"George\", \"Ringo\"]\n",
    "bands = [beatles, zeppelin]\n",
    "bands"
   ]
  },
  {
   "cell_type": "markdown",
   "metadata": {
    "nbpresent": {
     "id": "0c500e4e-a855-4aa2-9cca-95a56f781908"
    }
   },
   "source": [
    "### While Loop Recap\n",
    "\n",
    "While loops use the `while` keyword, a condition, and the loop body:"
   ]
  },
  {
   "cell_type": "code",
   "execution_count": 10,
   "metadata": {
    "nbpresent": {
     "id": "b33fcef8-e667-4577-8c01-61a2b4f6ace3"
    }
   },
   "outputs": [
    {
     "name": "stdout",
     "output_type": "stream",
     "text": [
      "1, 2, 3, 5, 8, 13, 21, 34, 55, 89, 144, 233, 377, 610, 987, "
     ]
    }
   ],
   "source": [
    "a, b = 1, 1\n",
    "while (b < 1000):\n",
    "    print(b, end=\", \") \n",
    "    # end is a parameter of print that defines how the string to be printed ends. \n",
    "    # By default, a newline \\n is appended, which we overwrite here\n",
    "    temp = b\n",
    "    b += a\n",
    "    a = temp\n",
    "    # a better way of writing this is using simultaneous assignment: \n",
    "    # a, b = b, a + b"
   ]
  },
  {
   "cell_type": "markdown",
   "metadata": {
    "nbpresent": {
     "id": "bba871db-05b8-4220-ae06-b398011ae901"
    }
   },
   "source": [
    "This continues, until the terminating condition is reached. \n",
    "\n",
    "We can also **use the `break` statement to terminate a loop**: "
   ]
  },
  {
   "cell_type": "code",
   "execution_count": 11,
   "metadata": {
    "nbpresent": {
     "id": "a9a27eaf-b9eb-40e6-ae90-8b5691544af7"
    }
   },
   "outputs": [
    {
     "name": "stdout",
     "output_type": "stream",
     "text": [
      "1, 2, 3, 5, 8, 13, 21, 34, 55, 89, 144, 233, 377, 610, 987, "
     ]
    }
   ],
   "source": [
    "a, b = 1, 1\n",
    "while (True):\n",
    "    print(b, end=\", \") \n",
    "    a, b = b, a + b\n",
    "    if (b > 1000):\n",
    "        break"
   ]
  },
  {
   "cell_type": "markdown",
   "metadata": {
    "nbpresent": {
     "id": "f5f9657e-8005-4ab0-ab73-56a84ec52eec"
    }
   },
   "source": [
    "### For Loop Recap\n",
    "\n",
    "\n",
    "For loops are mainly used to iterate over items of a sequence. "
   ]
  },
  {
   "cell_type": "code",
   "execution_count": 12,
   "metadata": {
    "nbpresent": {
     "id": "753d2989-7259-4a0d-82cf-648387a730e6"
    }
   },
   "outputs": [
    {
     "name": "stdout",
     "output_type": "stream",
     "text": [
      "Jimmy\n",
      "Robert\n",
      "John\n",
      "John\n"
     ]
    }
   ],
   "source": [
    "for member in zeppelin: \n",
    "    print(member)"
   ]
  },
  {
   "cell_type": "markdown",
   "metadata": {
    "nbpresent": {
     "id": "a7feecca-549b-42ad-bd24-6a90674cbbc5"
    }
   },
   "source": [
    "When you want to iterate over a sequence of numbers, use the [`range()`](https://docs.python.org/3/library/stdtypes.html#range) function. Range generates a sequence of numbers:"
   ]
  },
  {
   "cell_type": "code",
   "execution_count": 13,
   "metadata": {
    "nbpresent": {
     "id": "91ec5e27-b2c5-4cf4-959b-5162a3a2e0e9"
    }
   },
   "outputs": [
    {
     "name": "stdout",
     "output_type": "stream",
     "text": [
      "0\n",
      "1\n",
      "2\n",
      "3\n",
      "4\n",
      "5\n",
      "6\n",
      "7\n",
      "8\n",
      "9\n"
     ]
    }
   ],
   "source": [
    "for i in range(10): \n",
    "    print (i)"
   ]
  },
  {
   "cell_type": "markdown",
   "metadata": {},
   "source": [
    "## 1. Tuples\n",
    "\n",
    "[Tuples](https://docs.python.org/3/tutorial/datastructures.html#tuples-and-sequences) are a list-like data structure that are, in contrast to lists **immutable**. \n",
    "\n",
    "The purpose of tuples is to store objects of different types. Remember that Lists should only contain homogeneous data; Tuples are designed for the heterogeneous case. \n",
    "\n",
    "Also, Tuples have practical implications for performance and HashTables, which we will discull later. "
   ]
  },
  {
   "cell_type": "code",
   "execution_count": 14,
   "metadata": {},
   "outputs": [
    {
     "data": {
      "text/plain": [
       "('Alex', 1981, 'Computer Science')"
      ]
     },
     "execution_count": 14,
     "metadata": {},
     "output_type": "execute_result"
    }
   ],
   "source": [
    "person = \"Alex\", 1981, \"Computer Science\"\n",
    "person"
   ]
  },
  {
   "cell_type": "markdown",
   "metadata": {},
   "source": [
    "Initialization with brackets is prefered, since it's more explicit:"
   ]
  },
  {
   "cell_type": "code",
   "execution_count": 15,
   "metadata": {},
   "outputs": [
    {
     "data": {
      "text/plain": [
       "('Alex', 1981, 'Austria')"
      ]
     },
     "execution_count": 15,
     "metadata": {},
     "output_type": "execute_result"
    }
   ],
   "source": [
    "person = (\"Alex\", 1981, \"Austria\")\n",
    "person"
   ]
  },
  {
   "cell_type": "markdown",
   "metadata": {},
   "source": [
    "We can access them just like arrays: "
   ]
  },
  {
   "cell_type": "code",
   "execution_count": 16,
   "metadata": {},
   "outputs": [
    {
     "data": {
      "text/plain": [
       "1981"
      ]
     },
     "execution_count": 16,
     "metadata": {},
     "output_type": "execute_result"
    }
   ],
   "source": [
    "person[1]"
   ]
  },
  {
   "cell_type": "markdown",
   "metadata": {},
   "source": [
    "We cannot, however change values. This throws a **TypeError**."
   ]
  },
  {
   "cell_type": "code",
   "execution_count": 17,
   "metadata": {},
   "outputs": [
    {
     "ename": "TypeError",
     "evalue": "'tuple' object does not support item assignment",
     "output_type": "error",
     "traceback": [
      "\u001b[0;31m---------------------------------------------------------------------------\u001b[0m",
      "\u001b[0;31mTypeError\u001b[0m                                 Traceback (most recent call last)",
      "\u001b[0;32m<ipython-input-17-443e0becffb3>\u001b[0m in \u001b[0;36m<module>\u001b[0;34m\u001b[0m\n\u001b[1;32m      1\u001b[0m \u001b[0;31m# throws TypeError\u001b[0m\u001b[0;34m\u001b[0m\u001b[0;34m\u001b[0m\u001b[0;34m\u001b[0m\u001b[0m\n\u001b[0;32m----> 2\u001b[0;31m \u001b[0mperson\u001b[0m\u001b[0;34m[\u001b[0m\u001b[0;36m1\u001b[0m\u001b[0;34m]\u001b[0m \u001b[0;34m=\u001b[0m \u001b[0;36m1985\u001b[0m\u001b[0;34m\u001b[0m\u001b[0;34m\u001b[0m\u001b[0m\n\u001b[0m",
      "\u001b[0;31mTypeError\u001b[0m: 'tuple' object does not support item assignment"
     ]
    }
   ],
   "source": [
    "# throws TypeError\n",
    "person[1] = 1985"
   ]
  },
  {
   "cell_type": "markdown",
   "metadata": {},
   "source": [
    "Arbitrary objects can be part of a tuple:"
   ]
  },
  {
   "cell_type": "code",
   "execution_count": 18,
   "metadata": {},
   "outputs": [
    {
     "data": {
      "text/plain": [
       "('Train 1', [15, 11])"
      ]
     },
     "execution_count": 18,
     "metadata": {},
     "output_type": "execute_result"
    }
   ],
   "source": [
    "train_schedule = (\"Train 1\", [9,11])\n",
    "# this works because we're modifying the mutable array within the immuatable tuple.\n",
    "train_schedule[1][0] = 15\n",
    "train_schedule"
   ]
  },
  {
   "cell_type": "markdown",
   "metadata": {},
   "source": [
    "Of course, that includes tuples:"
   ]
  },
  {
   "cell_type": "code",
   "execution_count": 19,
   "metadata": {},
   "outputs": [
    {
     "data": {
      "text/plain": [
       "('Train 1', (9, 11))"
      ]
     },
     "execution_count": 19,
     "metadata": {},
     "output_type": "execute_result"
    }
   ],
   "source": [
    "train_schedule = (\"Train 1\", (9,11))\n",
    "# this doesn't work\n",
    "# train_schedule[1][0] = 15\n",
    "train_schedule"
   ]
  },
  {
   "cell_type": "code",
   "execution_count": 14,
   "metadata": {},
   "outputs": [
    {
     "data": {
      "text/plain": [
       "(2, 1)"
      ]
     },
     "execution_count": 14,
     "metadata": {},
     "output_type": "execute_result"
    }
   ],
   "source": [
    "a = 1\n",
    "b = 2\n",
    "(a, b) = (b, a)\n",
    "a, b"
   ]
  },
  {
   "cell_type": "code",
   "execution_count": 15,
   "metadata": {},
   "outputs": [
    {
     "data": {
      "text/plain": [
       "(1, 2)"
      ]
     },
     "execution_count": 15,
     "metadata": {},
     "output_type": "execute_result"
    }
   ],
   "source": [
    "[a, b] = [b, a]\n",
    "a, b"
   ]
  },
  {
   "cell_type": "markdown",
   "metadata": {},
   "source": [
    "### Aside: Functions with Multiple Return Values\n",
    "\n",
    "Consider the following code:"
   ]
  },
  {
   "cell_type": "code",
   "execution_count": 21,
   "metadata": {},
   "outputs": [],
   "source": [
    "def multiply(a, b, c):\n",
    "    return (a*b), (a*c), (b*c), (a*b*c)"
   ]
  },
  {
   "cell_type": "markdown",
   "metadata": {},
   "source": [
    "Here, we return multiple return values - something that's not possible in most programming languages! But it's very convenient. \n",
    "\n",
    "Let's try it out:"
   ]
  },
  {
   "cell_type": "code",
   "execution_count": 22,
   "metadata": {},
   "outputs": [
    {
     "data": {
      "text/plain": [
       "(21, 33, 77, 231)"
      ]
     },
     "execution_count": 22,
     "metadata": {},
     "output_type": "execute_result"
    }
   ],
   "source": [
    "multiply(3, 7, 11)"
   ]
  },
  {
   "cell_type": "markdown",
   "metadata": {},
   "source": [
    "The round brackets indicate what's going on: what is returned, is in fact, a tuple!\n",
    "\n",
    "We can use this return value to assign multiple variables at the same time:"
   ]
  },
  {
   "cell_type": "code",
   "execution_count": 23,
   "metadata": {},
   "outputs": [
    {
     "name": "stdout",
     "output_type": "stream",
     "text": [
      "21 33 77 231\n"
     ]
    }
   ],
   "source": [
    "ab, ac, bc, abc = multiply(3, 7, 11)\n",
    "print(ab, ac, bc, abc)"
   ]
  },
  {
   "cell_type": "markdown",
   "metadata": {},
   "source": [
    "To do this, no function is necessary. We can just do the following:"
   ]
  },
  {
   "cell_type": "code",
   "execution_count": 24,
   "metadata": {},
   "outputs": [
    {
     "name": "stdout",
     "output_type": "stream",
     "text": [
      "this is really nice\n"
     ]
    }
   ],
   "source": [
    "what, i_s, going, on = \"this\", \"is\", \"really\", \"nice\" # use () to be more explicit\n",
    "print(what, i_s, going, on)"
   ]
  },
  {
   "cell_type": "markdown",
   "metadata": {},
   "source": [
    "## 2. Sets"
   ]
  },
  {
   "cell_type": "markdown",
   "metadata": {},
   "source": [
    "A [set](https://docs.python.org/3/tutorial/datastructures.html#sets) is a mutable collection, similar to a list, however, it is\n",
    " * **not ordered**, and\n",
    " * **cannot contain the same element twice**\n",
    "\n",
    "Here is an example:"
   ]
  },
  {
   "cell_type": "code",
   "execution_count": 2,
   "metadata": {},
   "outputs": [
    {
     "data": {
      "text/plain": [
       "{'George', 'John', 'Paul', 'Ringo'}"
      ]
     },
     "execution_count": 2,
     "metadata": {},
     "output_type": "execute_result"
    }
   ],
   "source": [
    "# Initialize a set with {}\n",
    "beatles = {\"John\", \"Paul\", \"Ringo\", \"George\", \"Paul\"}\n",
    "beatles"
   ]
  },
  {
   "cell_type": "code",
   "execution_count": 26,
   "metadata": {},
   "outputs": [
    {
     "data": {
      "text/plain": [
       "{'Jimmy', 'John', 'Robert'}"
      ]
     },
     "execution_count": 26,
     "metadata": {},
     "output_type": "execute_result"
    }
   ],
   "source": [
    "# Initialize the set with an array\n",
    "usernames = set([\"Jimmy\", \"Robert\", \"John\", \"John\"])\n",
    "usernames"
   ]
  },
  {
   "cell_type": "code",
   "execution_count": 3,
   "metadata": {},
   "outputs": [
    {
     "data": {
      "text/plain": [
       "{0, 1, 2, 3, 4, 5, 6, 7, 8, 9}"
      ]
     },
     "execution_count": 3,
     "metadata": {},
     "output_type": "execute_result"
    }
   ],
   "source": [
    "set(range(10))"
   ]
  },
  {
   "cell_type": "markdown",
   "metadata": {},
   "source": [
    "We've initialized the set `usernames` with an array of names. We have chose a set, because we don't want to have duplicate user names. However, **in the second example, the array included a duplicate - John was specified twice**. We can see, however, that **John was added to the set only once**.\n",
    "\n",
    "Also note the order of the elements in the first set: Initialized with:\n",
    "```python\n",
    "{\"John\", \"Paul\", \"Ringo\", \"George\"}\n",
    "```\n",
    "But the output isn't ordered: \n",
    "```python\n",
    "{\"John\", \"Paul\", \"Ringo\", \"George\"}\n",
    "```\n",
    "\n",
    "Sets are great for various tasks. For example, they can be used to remove duplicate entries from lists. Most importantly, they let you very efficiently check whether an element already exists. \n",
    "\n",
    "A set works based on a mathematical function that produces a \"hash code\". This hash code is then used as an index to an array. For example, \"Jimmy\" could hash to the value 13, and accordingly, Jimmy would be put at the 13th index of an array. When we want to test whether \"Jimmy\" is already in a set, we simply compute the hash, which will again produce 13, and then look up whether something is stored at index 13. \n",
    "\n",
    "We can check whether a set contains a value using the `in` keyword:"
   ]
  },
  {
   "cell_type": "code",
   "execution_count": 27,
   "metadata": {},
   "outputs": [
    {
     "data": {
      "text/plain": [
       "True"
      ]
     },
     "execution_count": 27,
     "metadata": {},
     "output_type": "execute_result"
    }
   ],
   "source": [
    "\"Jimmy\" in usernames"
   ]
  },
  {
   "cell_type": "code",
   "execution_count": 5,
   "metadata": {},
   "outputs": [
    {
     "name": "stdout",
     "output_type": "stream",
     "text": [
      "True\n",
      "False\n"
     ]
    }
   ],
   "source": [
    "print(\"Ringo\" in beatles)\n",
    "print(\"Steven\" in beatles)"
   ]
  },
  {
   "cell_type": "code",
   "execution_count": 8,
   "metadata": {},
   "outputs": [
    {
     "data": {
      "text/plain": [
       "True"
      ]
     },
     "execution_count": 8,
     "metadata": {},
     "output_type": "execute_result"
    }
   ],
   "source": [
    "\"Ringo\" in list(beatles)"
   ]
  },
  {
   "cell_type": "markdown",
   "metadata": {},
   "source": [
    "We can add values using the add function on a set:"
   ]
  },
  {
   "cell_type": "code",
   "execution_count": 29,
   "metadata": {},
   "outputs": [
    {
     "data": {
      "text/plain": [
       "{'Jimmy', 'John', 'JohnB', 'Robert'}"
      ]
     },
     "execution_count": 29,
     "metadata": {},
     "output_type": "execute_result"
    }
   ],
   "source": [
    "usernames.add(\"JohnB\")\n",
    "usernames"
   ]
  },
  {
   "cell_type": "markdown",
   "metadata": {},
   "source": [
    "And remove elements with the remove function: "
   ]
  },
  {
   "cell_type": "code",
   "execution_count": 30,
   "metadata": {},
   "outputs": [
    {
     "data": {
      "text/plain": [
       "{'Jimmy', 'JohnB', 'Robert'}"
      ]
     },
     "execution_count": 30,
     "metadata": {},
     "output_type": "execute_result"
    }
   ],
   "source": [
    "usernames.remove(\"John\")\n",
    "usernames"
   ]
  },
  {
   "cell_type": "markdown",
   "metadata": {},
   "source": [
    "If the set doesn't contain a key we want to remove, it will throw a `KeyError`."
   ]
  },
  {
   "cell_type": "code",
   "execution_count": 31,
   "metadata": {},
   "outputs": [
    {
     "ename": "KeyError",
     "evalue": "'Joseph'",
     "output_type": "error",
     "traceback": [
      "\u001b[0;31m---------------------------------------------------------------------------\u001b[0m",
      "\u001b[0;31mKeyError\u001b[0m                                  Traceback (most recent call last)",
      "\u001b[0;32m<ipython-input-31-7da8667bc580>\u001b[0m in \u001b[0;36m<module>\u001b[0;34m\u001b[0m\n\u001b[0;32m----> 1\u001b[0;31m \u001b[0musernames\u001b[0m\u001b[0;34m.\u001b[0m\u001b[0mremove\u001b[0m\u001b[0;34m(\u001b[0m\u001b[0;34m\"Joseph\"\u001b[0m\u001b[0;34m)\u001b[0m\u001b[0;34m\u001b[0m\u001b[0;34m\u001b[0m\u001b[0m\n\u001b[0m",
      "\u001b[0;31mKeyError\u001b[0m: 'Joseph'"
     ]
    }
   ],
   "source": [
    "usernames.remove(\"Joseph\")"
   ]
  },
  {
   "cell_type": "markdown",
   "metadata": {},
   "source": [
    "To prevent that, it is advisable to first check whether a set actually contains a value, if you're not 100% sure: "
   ]
  },
  {
   "cell_type": "code",
   "execution_count": 32,
   "metadata": {},
   "outputs": [],
   "source": [
    "if (\"Joseph\" in usernames):\n",
    "    usernames.remove(\"Joseph\")"
   ]
  },
  {
   "cell_type": "markdown",
   "metadata": {},
   "source": [
    "We can iterate over the values of a set. Note, however, that no guarantee about the order of the set is made. "
   ]
  },
  {
   "cell_type": "code",
   "execution_count": 33,
   "metadata": {},
   "outputs": [
    {
     "name": "stdout",
     "output_type": "stream",
     "text": [
      "Jimmy\n",
      "Robert\n",
      "JohnB\n"
     ]
    }
   ],
   "source": [
    "for name in usernames:\n",
    "    print (name)"
   ]
  },
  {
   "cell_type": "markdown",
   "metadata": {},
   "source": [
    "Make sure to check out the [documentation](https://docs.python.org/3.5/library/stdtypes.html#set) to see what else a set can do. "
   ]
  },
  {
   "cell_type": "markdown",
   "metadata": {},
   "source": [
    "## Exercise 2: Sets\n",
    "\n",
    "Write a function that finds the overlap of two sets and prints them. Initialize two sets, e.g., with values {13, 25, 37, 45, 13} and {14, 25, 38, 8, 45} and call this function with them."
   ]
  },
  {
   "cell_type": "code",
   "execution_count": 12,
   "metadata": {},
   "outputs": [
    {
     "name": "stdout",
     "output_type": "stream",
     "text": [
      "{25, 45}\n",
      "{25, 45}\n"
     ]
    }
   ],
   "source": [
    "def setOverlap(s1, s2):\n",
    "    ret = set()\n",
    "    for e in s1:\n",
    "        if e in s2:\n",
    "            ret.add(e)\n",
    "    return ret\n",
    "\n",
    "def setOverlapComprehension(s1, s2):\n",
    "    return  set([ x for x in s1 if x in s2])\n",
    "print(setOverlap({13, 25, 37, 45, 13}, {14, 25, 38, 8, 45}))\n",
    "print(setOverlapComprehension({13, 25, 37, 45, 13}, {14, 25, 38, 8, 45}))"
   ]
  },
  {
   "cell_type": "markdown",
   "metadata": {},
   "source": [
    "## 3. Dictionaries"
   ]
  },
  {
   "cell_type": "markdown",
   "metadata": {
    "collapsed": true
   },
   "source": [
    "[Dictionaries](https://docs.python.org/3/tutorial/datastructures.html#dictionaries) are related to sets, but are more powerful: in addition to the key used to identify an element in a set, dictionaries also store a value associated with a key. Other terms commonly used for dictionaries are *associative arrays*, *(hash) maps*, and *hash tables*. \n",
    "\n",
    "Here is a simple example:"
   ]
  },
  {
   "cell_type": "code",
   "execution_count": 13,
   "metadata": {},
   "outputs": [
    {
     "data": {
      "text/plain": [
       "{'John': 'Zeppelin',\n",
       " 'Jimmy': 'Zeppelin',\n",
       " 'Paul': 'Beatles',\n",
       " 'Ringo': 'Beatles'}"
      ]
     },
     "execution_count": 13,
     "metadata": {},
     "output_type": "execute_result"
    }
   ],
   "source": [
    "musicians = {\"John\":\"Zeppelin\", \"Jimmy\":\"Zeppelin\", \"Paul\":\"Beatles\", \"Ringo\":\"Beatles\"}\n",
    "musicians"
   ]
  },
  {
   "cell_type": "markdown",
   "metadata": {},
   "source": [
    "As we can see, a dictionary can be created with curly brackets and a list of key-value pairs, separated by a `:`. Here, the names are the keys, the bands are the values. \n",
    "\n",
    "There are other ways of creating a dictionary. Here, we pass a list of tuples to the dictionary, but we could also pass a list of lists."
   ]
  },
  {
   "cell_type": "code",
   "execution_count": 36,
   "metadata": {},
   "outputs": [
    {
     "data": {
      "text/plain": [
       "{'Thom': 'Radiohead', 'Dave': 'Foo Fighters'}"
      ]
     },
     "execution_count": 36,
     "metadata": {},
     "output_type": "execute_result"
    }
   ],
   "source": [
    "more_musicians = dict([(\"Thom\", \"Radiohead\"), (\"Dave\", \"Foo Fighters\")])\n",
    "more_musicians"
   ]
  },
  {
   "cell_type": "code",
   "execution_count": 16,
   "metadata": {},
   "outputs": [
    {
     "name": "stdout",
     "output_type": "stream",
     "text": [
      "<class 'frozenset'>\n"
     ]
    }
   ],
   "source": [
    "a = frozenset({1,2,3})\n",
    "print(type(a))\n",
    "b = dict()\n",
    "b[a] = 5"
   ]
  },
  {
   "cell_type": "markdown",
   "metadata": {},
   "source": [
    "Of course, a dictionary can be of any data type. Here is an example with int as keys, floats as values:"
   ]
  },
  {
   "cell_type": "code",
   "execution_count": 37,
   "metadata": {},
   "outputs": [
    {
     "data": {
      "text/plain": [
       "{3: 1.45, 4: 1.32, 19: 9.97, 6: 9.99}"
      ]
     },
     "execution_count": 37,
     "metadata": {},
     "output_type": "execute_result"
    }
   ],
   "source": [
    "numbers = {3:1.45, 4:1.32, 19:9.97, 6:9.99}\n",
    "numbers"
   ]
  },
  {
   "cell_type": "markdown",
   "metadata": {},
   "source": [
    "Note that it's generally not a good idea to use floats as keys, as they are stored only as approximations.\n",
    "\n",
    "Dict elements are accessed just as elements in a list, with square brackets, but instead of the index, we pass in the key: "
   ]
  },
  {
   "cell_type": "code",
   "execution_count": 38,
   "metadata": {},
   "outputs": [
    {
     "data": {
      "text/plain": [
       "1.45"
      ]
     },
     "execution_count": 38,
     "metadata": {},
     "output_type": "execute_result"
    }
   ],
   "source": [
    "numbers[3]"
   ]
  },
  {
   "cell_type": "code",
   "execution_count": 39,
   "metadata": {},
   "outputs": [
    {
     "data": {
      "text/plain": [
       "'Zeppelin'"
      ]
     },
     "execution_count": 39,
     "metadata": {},
     "output_type": "execute_result"
    }
   ],
   "source": [
    "musicians[\"John\"]"
   ]
  },
  {
   "cell_type": "markdown",
   "metadata": {},
   "source": [
    "We can add elements to a dict:"
   ]
  },
  {
   "cell_type": "code",
   "execution_count": 17,
   "metadata": {},
   "outputs": [
    {
     "data": {
      "text/plain": [
       "{'John': 'Zeppelin',\n",
       " 'Jimmy': 'Zeppelin',\n",
       " 'Paul': 'Beatles',\n",
       " 'Ringo': 'Beatles',\n",
       " 'Thom': 'Radiohead'}"
      ]
     },
     "execution_count": 17,
     "metadata": {},
     "output_type": "execute_result"
    }
   ],
   "source": [
    "musicians[\"Thom\"] = \"Radiohead\"\n",
    "musicians"
   ]
  },
  {
   "cell_type": "code",
   "execution_count": 18,
   "metadata": {},
   "outputs": [
    {
     "data": {
      "text/plain": [
       "{'John': 'Zeppelin',\n",
       " 'Jimmy': 'Zeppelin',\n",
       " 'Paul': 'Beatles',\n",
       " 'Ringo': 'Beatles',\n",
       " 'Thom': 'Readiohead'}"
      ]
     },
     "execution_count": 18,
     "metadata": {},
     "output_type": "execute_result"
    }
   ],
   "source": [
    "musicians[\"Thom\"] = \"Readiohead\"\n",
    "musicians"
   ]
  },
  {
   "cell_type": "markdown",
   "metadata": {},
   "source": [
    "And remove them using the `del` keyword:"
   ]
  },
  {
   "cell_type": "code",
   "execution_count": 41,
   "metadata": {},
   "outputs": [
    {
     "data": {
      "text/plain": [
       "{'John': 'Zeppelin',\n",
       " 'Jimmy': 'Zeppelin',\n",
       " 'Paul': 'Beatles',\n",
       " 'Ringo': 'Beatles'}"
      ]
     },
     "execution_count": 41,
     "metadata": {},
     "output_type": "execute_result"
    }
   ],
   "source": [
    "del musicians[\"Thom\"]\n",
    "musicians"
   ]
  },
  {
   "cell_type": "markdown",
   "metadata": {},
   "source": [
    "Again, we have to worry about key errors. If we want to remove Thom again, we'd get a `KeyError`."
   ]
  },
  {
   "cell_type": "code",
   "execution_count": 42,
   "metadata": {},
   "outputs": [
    {
     "ename": "KeyError",
     "evalue": "'Thom'",
     "output_type": "error",
     "traceback": [
      "\u001b[0;31m---------------------------------------------------------------------------\u001b[0m",
      "\u001b[0;31mKeyError\u001b[0m                                  Traceback (most recent call last)",
      "\u001b[0;32m<ipython-input-42-4d3b8f26b654>\u001b[0m in \u001b[0;36m<module>\u001b[0;34m\u001b[0m\n\u001b[0;32m----> 1\u001b[0;31m \u001b[0;32mdel\u001b[0m \u001b[0mmusicians\u001b[0m\u001b[0;34m[\u001b[0m\u001b[0;34m\"Thom\"\u001b[0m\u001b[0;34m]\u001b[0m\u001b[0;34m\u001b[0m\u001b[0;34m\u001b[0m\u001b[0m\n\u001b[0m",
      "\u001b[0;31mKeyError\u001b[0m: 'Thom'"
     ]
    }
   ],
   "source": [
    "del musicians[\"Thom\"]"
   ]
  },
  {
   "cell_type": "markdown",
   "metadata": {},
   "source": [
    "We can access a list of keys and values separately: "
   ]
  },
  {
   "cell_type": "code",
   "execution_count": 43,
   "metadata": {},
   "outputs": [
    {
     "data": {
      "text/plain": [
       "dict_keys(['John', 'Jimmy', 'Paul', 'Ringo'])"
      ]
     },
     "execution_count": 43,
     "metadata": {},
     "output_type": "execute_result"
    }
   ],
   "source": [
    "musicians.keys()"
   ]
  },
  {
   "cell_type": "code",
   "execution_count": 19,
   "metadata": {},
   "outputs": [
    {
     "data": {
      "text/plain": [
       "['John', 'Paul', 'Thom']"
      ]
     },
     "execution_count": 19,
     "metadata": {},
     "output_type": "execute_result"
    }
   ],
   "source": [
    "[key for key in musicians.keys() if  len(key) < 5]"
   ]
  },
  {
   "cell_type": "markdown",
   "metadata": {},
   "source": [
    "Notice that the result is not a list or a set, but a [view object](https://docs.python.org/3/library/stdtypes.html#dict-views). A view object always is updated when the dictionary is changed, and we can use it to iterate over a dictionary. "
   ]
  },
  {
   "cell_type": "code",
   "execution_count": 45,
   "metadata": {},
   "outputs": [
    {
     "name": "stdout",
     "output_type": "stream",
     "text": [
      "John\n",
      "Jimmy\n",
      "Paul\n",
      "Ringo\n"
     ]
    }
   ],
   "source": [
    "for musician in musicians.keys():\n",
    "    print(musician)"
   ]
  },
  {
   "cell_type": "markdown",
   "metadata": {},
   "source": [
    "This also works with `values()` and `items()`:"
   ]
  },
  {
   "cell_type": "code",
   "execution_count": 46,
   "metadata": {},
   "outputs": [
    {
     "data": {
      "text/plain": [
       "dict_values(['Zeppelin', 'Zeppelin', 'Beatles', 'Beatles'])"
      ]
     },
     "execution_count": 46,
     "metadata": {},
     "output_type": "execute_result"
    }
   ],
   "source": [
    "musicians.values()"
   ]
  },
  {
   "cell_type": "code",
   "execution_count": 47,
   "metadata": {},
   "outputs": [
    {
     "data": {
      "text/plain": [
       "dict_items([('John', 'Zeppelin'), ('Jimmy', 'Zeppelin'), ('Paul', 'Beatles'), ('Ringo', 'Beatles')])"
      ]
     },
     "execution_count": 47,
     "metadata": {},
     "output_type": "execute_result"
    }
   ],
   "source": [
    "musicians.items()"
   ]
  },
  {
   "cell_type": "markdown",
   "metadata": {},
   "source": [
    "The latter is especially handy for iterating over the key-value pairs in a dictionary:"
   ]
  },
  {
   "cell_type": "code",
   "execution_count": 48,
   "metadata": {},
   "outputs": [
    {
     "name": "stdout",
     "output_type": "stream",
     "text": [
      "John, Zeppelin\n",
      "Jimmy, Zeppelin\n",
      "Paul, Beatles\n",
      "Ringo, Beatles\n"
     ]
    }
   ],
   "source": [
    "# notice that we iterate over the tuples and have the elements of the tuple assigned to k and v, respectively.\n",
    "for k, v in musicians.items():\n",
    "    print (k + \", \" + v)"
   ]
  },
  {
   "cell_type": "markdown",
   "metadata": {},
   "source": [
    "Another way to write the previous expression would be like this: "
   ]
  },
  {
   "cell_type": "code",
   "execution_count": 49,
   "metadata": {},
   "outputs": [
    {
     "name": "stdout",
     "output_type": "stream",
     "text": [
      "John, Zeppelin\n",
      "Jimmy, Zeppelin\n",
      "Paul, Beatles\n",
      "Ringo, Beatles\n"
     ]
    }
   ],
   "source": [
    "for k in musicians.keys():\n",
    "    print(k + \", \" +  musicians[k])"
   ]
  },
  {
   "cell_type": "markdown",
   "metadata": {},
   "source": [
    "Make sure to check out [the dictionary documentation](https://docs.python.org/3/library/stdtypes.html#typesmapping) for more info. "
   ]
  },
  {
   "cell_type": "code",
   "execution_count": 50,
   "metadata": {},
   "outputs": [
    {
     "name": "stdout",
     "output_type": "stream",
     "text": [
      "John\n",
      "Jimmy\n",
      "Paul\n",
      "Ringo\n"
     ]
    }
   ],
   "source": [
    "for k in musicians:\n",
    "    print(k)"
   ]
  },
  {
   "cell_type": "markdown",
   "metadata": {},
   "source": [
    "### Exercise 3: Dictionaries\n",
    "\n",
    " * Create a dictionary with two-letter codes of two of US states and the full names, e.g., UT: Utah, NY: New York\n",
    " * After initially creating the dictionary, add two more states to the dictionary.\n",
    " * Create a second dictionary that maps the state codes to an array of cities in that state, e.g., UT: [Salt Lake City, Ogden, Provo, St. George]. \n",
    " * Write a function that takes a state code and prints the full name of the state and lists the cities in that state."
   ]
  },
  {
   "cell_type": "markdown",
   "metadata": {},
   "source": [
    "## 4. Working with Modules"
   ]
  },
  {
   "cell_type": "markdown",
   "metadata": {},
   "source": [
    "While we briefly touched on modules (remember the `import math` statement), we haven't really talked about what a module is. Modules are used, ugh, to modularize code. You can write a module by simply creating a `.py` file. We won't be writing many modules ourselves, but we will use them extensively.\n",
    "\n",
    "To import a module simply write\n",
    "\n",
    "```python\n",
    "import module_name\n",
    "```\n",
    "\n",
    "You can then use functions defined in the module with the `.` notation. Here's an example:"
   ]
  },
  {
   "cell_type": "code",
   "execution_count": 51,
   "metadata": {},
   "outputs": [
    {
     "data": {
      "text/plain": [
       "3.0"
      ]
     },
     "execution_count": 51,
     "metadata": {},
     "output_type": "execute_result"
    }
   ],
   "source": [
    "import math\n",
    "math.sqrt(9)"
   ]
  },
  {
   "cell_type": "markdown",
   "metadata": {},
   "source": [
    "We can also use the `from` notation to import specific functions from a package and add them directly to the namespace:"
   ]
  },
  {
   "cell_type": "code",
   "execution_count": 52,
   "metadata": {},
   "outputs": [
    {
     "data": {
      "text/plain": [
       "0.47712125471966244"
      ]
     },
     "execution_count": 52,
     "metadata": {},
     "output_type": "execute_result"
    }
   ],
   "source": [
    "from math import log10\n",
    "# notice that this is NOT accessed via math.log10()\n",
    "log10(3)"
   ]
  },
  {
   "cell_type": "markdown",
   "metadata": {},
   "source": [
    "You can also bulk-import all functions of a module into your local namespace, however, this is **strongly discouraged**, as it can lead to name-clashes and makes your code unreadable eventually."
   ]
  },
  {
   "cell_type": "code",
   "execution_count": 53,
   "metadata": {},
   "outputs": [
    {
     "data": {
      "text/plain": [
       "1.584962500721156"
      ]
     },
     "execution_count": 53,
     "metadata": {},
     "output_type": "execute_result"
    }
   ],
   "source": [
    "from math import * \n",
    "log2(3)"
   ]
  },
  {
   "cell_type": "markdown",
   "metadata": {},
   "source": [
    "Finally, we can redefine the name of a module. This is useful to define a shorthand for long library names."
   ]
  },
  {
   "cell_type": "code",
   "execution_count": 54,
   "metadata": {},
   "outputs": [
    {
     "data": {
      "text/plain": [
       "3.605551275463989"
      ]
     },
     "execution_count": 54,
     "metadata": {},
     "output_type": "execute_result"
    }
   ],
   "source": [
    "import math as m \n",
    "m.sqrt(13)"
   ]
  },
  {
   "cell_type": "markdown",
   "metadata": {},
   "source": [
    "## 5. The Pandas Library: Series"
   ]
  },
  {
   "cell_type": "markdown",
   "metadata": {},
   "source": [
    "Pandas is a popular library for manipulating vectors, tables, and time series. We will frequently use Pandas data structures instead of the built-in python data structures, as they provide much richer functionality. Also, Pandas is **fast**, which makes working with large datasets easier.  Check out the official pandas website at [http://pandas.pydata.org/](http://pandas.pydata.org/).\n",
    "\n",
    "This tutorial is partially based on the [excellent book by Matt Harrison](https://www.amazon.com/Learning-Pandas-Library-Analysis-Visualization-ebook/dp/B01GIE03GW/).\n",
    "\n",
    "Pandas provides three data structures: \n",
    "\n",
    " * the **series**, which represents a single column of data similar to a python list\n",
    " * the **data frame**, which represents multiple series of data\n",
    " * the **panel**, which represents multiple data frames\n",
    " \n",
    "We'll mostly work with series and data frames and largely ignore panels. Today we will stick to series. \n",
    "\n",
    "Simply run:\n",
    "\n",
    "```\n",
    "$  /usr/local/bin/pip3 install pandas\n",
    "```\n",
    "\n",
    "To make pandas available, we'll import the module into this notebook. It is customary to import pandas as `pd`:"
   ]
  },
  {
   "cell_type": "code",
   "execution_count": 20,
   "metadata": {},
   "outputs": [],
   "source": [
    "import pandas as pd"
   ]
  },
  {
   "cell_type": "markdown",
   "metadata": {},
   "source": [
    "Series are the most fundamental data structure in pandas. Let's create two simple series based on an arrays:"
   ]
  },
  {
   "cell_type": "code",
   "execution_count": 21,
   "metadata": {},
   "outputs": [
    {
     "data": {
      "text/plain": [
       "0        Stones\n",
       "1       Beatles\n",
       "2      Zeppelin\n",
       "3    Pink Floyd\n",
       "dtype: object"
      ]
     },
     "execution_count": 21,
     "metadata": {},
     "output_type": "execute_result"
    }
   ],
   "source": [
    "\n",
    "bands = pd.Series([\"Stones\", \"Beatles\", \"Zeppelin\", \"Pink Floyd\"])\n",
    "bands"
   ]
  },
  {
   "cell_type": "code",
   "execution_count": 23,
   "metadata": {},
   "outputs": [
    {
     "data": {
      "text/plain": [
       "str"
      ]
     },
     "execution_count": 23,
     "metadata": {},
     "output_type": "execute_result"
    }
   ],
   "source": [
    "type(bands[0])"
   ]
  },
  {
   "cell_type": "code",
   "execution_count": 8,
   "metadata": {},
   "outputs": [
    {
     "data": {
      "text/plain": [
       "0    1962\n",
       "1    1960\n",
       "2    1968\n",
       "3    1965\n",
       "dtype: int64"
      ]
     },
     "execution_count": 8,
     "metadata": {},
     "output_type": "execute_result"
    }
   ],
   "source": [
    "founded = pd.Series([1962, 1960, 1968, 1965])\n",
    "founded"
   ]
  },
  {
   "cell_type": "markdown",
   "metadata": {},
   "source": [
    "When we output these objects we can see an index, also called an axis, which by default is an integer sequence starting at 0, and the associated values. \n",
    "\n",
    "| Index | Value | \n",
    "| - | - |\n",
    "| 0  |        Stones\n",
    "|1   |    Beatles\n",
    "|2  |    Zeppelin\n",
    "|3 |    Pink Floyd\n",
    "\n",
    "Pandas also tells us the data type of the values, `object` for the first series - in this case, this is a string, `int64` (a 64-bit integer) for the second.\n",
    "\n",
    "Notice that `int64` is not a Python datatype, but a C integer of 64 bit length - which, unlike Python integers - can overflow!\n",
    "\n",
    "We can also use other data types as indices, in which case the series behaves a lot like a dictionary:"
   ]
  },
  {
   "cell_type": "code",
   "execution_count": 36,
   "metadata": {},
   "outputs": [
    {
     "data": {
      "text/plain": [
       "Stones        1962\n",
       "Beatles       1960\n",
       "Zeppelin      1968\n",
       "Pink Floyd    1965\n",
       "Pink Floyd    2012\n",
       "Name: Bands founded, dtype: int64"
      ]
     },
     "execution_count": 36,
     "metadata": {},
     "output_type": "execute_result"
    }
   ],
   "source": [
    "# the data is the first parameter, the index is given by the index keyword\n",
    "bands_founded = pd.Series([1962, 1960, 1968, 1965, 2012],\n",
    "                          index=[\"Stones\", \"Beatles\", \"Zeppelin\", \"Pink Floyd\", \"Pink Floyd\"], \n",
    "                          name=\"Bands founded\",\n",
    "                          dtype=\"int64\")\n",
    "bands_founded"
   ]
  },
  {
   "cell_type": "code",
   "execution_count": 37,
   "metadata": {},
   "outputs": [
    {
     "data": {
      "text/plain": [
       "1962"
      ]
     },
     "execution_count": 37,
     "metadata": {},
     "output_type": "execute_result"
    }
   ],
   "source": [
    "bands_founded[\"Stones\"]"
   ]
  },
  {
   "cell_type": "markdown",
   "metadata": {},
   "source": [
    "| Index | Value | \n",
    "| - | - |\n",
    "| Stones     |    1962\n",
    "| Beatles    |    1960\n",
    "| Zeppelin     |  1968\n",
    "| Pink Floyd |    1965\n",
    "| Pink Floyd |    2012\n",
    "\n",
    "Here we see something interesting: We've used the same index (Pink Floyd) twice, once for the original founding of the band, and once for the re-union starting in 2012. Also, the order of the entries is preserved. \n",
    "\n",
    "A series is, so to speak, both, a list and a dictionary! "
   ]
  },
  {
   "cell_type": "markdown",
   "metadata": {},
   "source": [
    "We can access the values of an array by printing the member `values`."
   ]
  },
  {
   "cell_type": "code",
   "execution_count": 38,
   "metadata": {},
   "outputs": [
    {
     "data": {
      "text/plain": [
       "array(['Stones', 'Beatles', 'Zeppelin', 'Pink Floyd'], dtype=object)"
      ]
     },
     "execution_count": 38,
     "metadata": {},
     "output_type": "execute_result"
    }
   ],
   "source": [
    "bands.values"
   ]
  },
  {
   "cell_type": "markdown",
   "metadata": {},
   "source": [
    "And we can look at how the index is composed:"
   ]
  },
  {
   "cell_type": "code",
   "execution_count": 39,
   "metadata": {},
   "outputs": [
    {
     "data": {
      "text/plain": [
       "RangeIndex(start=0, stop=4, step=1)"
      ]
     },
     "execution_count": 39,
     "metadata": {},
     "output_type": "execute_result"
    }
   ],
   "source": [
    "bands.index"
   ]
  },
  {
   "cell_type": "markdown",
   "metadata": {},
   "source": [
    "What we see here is that this isn't an explicit list, but rather a set of rules!\n",
    "\n",
    "Let's compare this to the index where we used explicit labels:"
   ]
  },
  {
   "cell_type": "code",
   "execution_count": 40,
   "metadata": {
    "scrolled": true
   },
   "outputs": [
    {
     "name": "stdout",
     "output_type": "stream",
     "text": [
      "Stones\n",
      "Beatles\n",
      "Zeppelin\n",
      "Pink Floyd\n",
      "Pink Floyd\n"
     ]
    }
   ],
   "source": [
    "bands_founded.index\n",
    "for x in bands_founded.index:\n",
    "    print(x)"
   ]
  },
  {
   "cell_type": "code",
   "execution_count": 41,
   "metadata": {},
   "outputs": [
    {
     "data": {
      "text/plain": [
       "array([1962, 1960, 1968, 1965, 2012])"
      ]
     },
     "execution_count": 41,
     "metadata": {},
     "output_type": "execute_result"
    }
   ],
   "source": [
    "bands_founded.values"
   ]
  },
  {
   "cell_type": "markdown",
   "metadata": {},
   "source": [
    "We can access individual entries as we'd access an array or a dictionary:"
   ]
  },
  {
   "cell_type": "code",
   "execution_count": 42,
   "metadata": {},
   "outputs": [
    {
     "data": {
      "text/plain": [
       "'Stones'"
      ]
     },
     "execution_count": 42,
     "metadata": {},
     "output_type": "execute_result"
    }
   ],
   "source": [
    "bands[0]"
   ]
  },
  {
   "cell_type": "code",
   "execution_count": 43,
   "metadata": {},
   "outputs": [
    {
     "data": {
      "text/plain": [
       "1960"
      ]
     },
     "execution_count": 43,
     "metadata": {},
     "output_type": "execute_result"
    }
   ],
   "source": [
    "bands_founded[\"Beatles\"]"
   ]
  },
  {
   "cell_type": "markdown",
   "metadata": {},
   "source": [
    "There is also a method for looking up a value:"
   ]
  },
  {
   "cell_type": "code",
   "execution_count": 44,
   "metadata": {},
   "outputs": [
    {
     "data": {
      "text/plain": [
       "1962"
      ]
     },
     "execution_count": 44,
     "metadata": {},
     "output_type": "execute_result"
    }
   ],
   "source": [
    "bands_founded.get(\"Stones\")"
   ]
  },
  {
   "cell_type": "markdown",
   "metadata": {},
   "source": [
    "Note that these access methods are as fast as a dictionary lookup (compared to a lookup in a list)."
   ]
  },
  {
   "cell_type": "markdown",
   "metadata": {},
   "source": [
    "That works also with arrays of labels, in which case the return type is a series, not a single value."
   ]
  },
  {
   "cell_type": "code",
   "execution_count": 45,
   "metadata": {},
   "outputs": [
    {
     "data": {
      "text/plain": [
       "Stones     1962\n",
       "Beatles    1960\n",
       "Name: Bands founded, dtype: int64"
      ]
     },
     "execution_count": 45,
     "metadata": {},
     "output_type": "execute_result"
    }
   ],
   "source": [
    "bands_founded.get([\"Stones\", \"Beatles\"])"
   ]
  },
  {
   "cell_type": "markdown",
   "metadata": {},
   "source": [
    "Notice that when we access data with multiple indices, we don't get a simple data type, as in the above cases, but instead get another series back:"
   ]
  },
  {
   "cell_type": "code",
   "execution_count": 46,
   "metadata": {},
   "outputs": [
    {
     "data": {
      "text/plain": [
       "Pink Floyd    1965\n",
       "Pink Floyd    2012\n",
       "Name: Bands founded, dtype: int64"
      ]
     },
     "metadata": {},
     "output_type": "display_data"
    },
    {
     "data": {
      "text/plain": [
       "pandas.core.series.Series"
      ]
     },
     "execution_count": 46,
     "metadata": {},
     "output_type": "execute_result"
    }
   ],
   "source": [
    "display(bands_founded[\"Pink Floyd\"])\n",
    "type(bands_founded[\"Pink Floyd\"])"
   ]
  },
  {
   "cell_type": "markdown",
   "metadata": {},
   "source": [
    "Series also have indexers for label-based access: [`loc`](http://pandas.pydata.org/pandas-docs/stable/generated/pandas.DataFrame.loc.html)"
   ]
  },
  {
   "cell_type": "code",
   "execution_count": 47,
   "metadata": {},
   "outputs": [
    {
     "data": {
      "text/plain": [
       "1962"
      ]
     },
     "execution_count": 47,
     "metadata": {},
     "output_type": "execute_result"
    }
   ],
   "source": [
    "# And one more way for looking up a value:\n",
    "bands_founded.loc[\"Stones\"]\n",
    "# this is equivalent to \n",
    "# bands_founded[\"Stones\"]"
   ]
  },
  {
   "cell_type": "markdown",
   "metadata": {},
   "source": [
    "Related to the `loc` indexer is the [`iloc`](http://pandas.pydata.org/pandas-docs/version/0.17.0/generated/pandas.DataFrame.iloc.html) indexer. However, instead of an index, `iloc` operates purely on position, not on index labels: "
   ]
  },
  {
   "cell_type": "code",
   "execution_count": 48,
   "metadata": {},
   "outputs": [
    {
     "data": {
      "text/plain": [
       "1962"
      ]
     },
     "execution_count": 48,
     "metadata": {},
     "output_type": "execute_result"
    }
   ],
   "source": [
    "bands_founded[0]"
   ]
  },
  {
   "cell_type": "code",
   "execution_count": 49,
   "metadata": {},
   "outputs": [
    {
     "data": {
      "text/plain": [
       "1962"
      ]
     },
     "execution_count": 49,
     "metadata": {},
     "output_type": "execute_result"
    }
   ],
   "source": [
    "bands_founded.iloc[0]"
   ]
  },
  {
   "cell_type": "code",
   "execution_count": 50,
   "metadata": {},
   "outputs": [
    {
     "name": "stdout",
     "output_type": "stream",
     "text": [
      "0 1962\n",
      "1 1960\n",
      "2 1968\n",
      "3 1965\n",
      "4 2012\n"
     ]
    }
   ],
   "source": [
    "for i in range(len(bands_founded)):\n",
    "    print(i, bands_founded.iloc[i])"
   ]
  },
  {
   "cell_type": "markdown",
   "metadata": {},
   "source": [
    "Notice that there is also an `ix` indexer, which, however, is deprecated and should not be used.\n",
    "\n",
    "These ways of accessing slices of a dataset (`loc`, `iloc`), will make more sense when we use dataframes instead of series - in dataframes, `loc` and `iloc` operate on the rows, whereas square brackets operate on the columns."
   ]
  },
  {
   "cell_type": "markdown",
   "metadata": {},
   "source": [
    "### Iterating\n",
    "\n",
    "Iteration works as you would expect: "
   ]
  },
  {
   "cell_type": "code",
   "execution_count": 51,
   "metadata": {},
   "outputs": [
    {
     "name": "stdout",
     "output_type": "stream",
     "text": [
      "Stones\n",
      "Beatles\n",
      "Zeppelin\n",
      "Pink Floyd\n"
     ]
    }
   ],
   "source": [
    "for band in bands:\n",
    "    print(band)"
   ]
  },
  {
   "cell_type": "code",
   "execution_count": 52,
   "metadata": {},
   "outputs": [
    {
     "name": "stdout",
     "output_type": "stream",
     "text": [
      "Stones, 1962\n",
      "Beatles, 1960\n",
      "Zeppelin, 1968\n",
      "Pink Floyd, 1965\n",
      "Pink Floyd, 2012\n"
     ]
    }
   ],
   "source": [
    "for band, founded in bands_founded.items():\n",
    "    print(band + \", \" + str(founded))"
   ]
  },
  {
   "cell_type": "markdown",
   "metadata": {},
   "source": [
    "### Updating\n",
    "Updating works largely as expected, however, you have to be careful when updating series with duplicate indices:"
   ]
  },
  {
   "cell_type": "code",
   "execution_count": 53,
   "metadata": {},
   "outputs": [
    {
     "data": {
      "text/plain": [
       "0        Stones\n",
       "1       Beatles\n",
       "2     The Doors\n",
       "3    Pink Floyd\n",
       "dtype: object"
      ]
     },
     "execution_count": 53,
     "metadata": {},
     "output_type": "execute_result"
    }
   ],
   "source": [
    "bands[2] = \"The Doors\"\n",
    "bands"
   ]
  },
  {
   "cell_type": "markdown",
   "metadata": {},
   "source": [
    "We can add a new item by direclty assigning it to a new index."
   ]
  },
  {
   "cell_type": "code",
   "execution_count": 54,
   "metadata": {},
   "outputs": [
    {
     "data": {
      "text/plain": [
       "0        Stones\n",
       "1       Beatles\n",
       "2     The Doors\n",
       "3    Pink Floyd\n",
       "4      Zeppelin\n",
       "dtype: object"
      ]
     },
     "execution_count": 54,
     "metadata": {},
     "output_type": "execute_result"
    }
   ],
   "source": [
    "bands[4] = \"Zeppelin\"\n",
    "bands"
   ]
  },
  {
   "cell_type": "markdown",
   "metadata": {},
   "source": [
    "Note that the indices don't have to be sequential."
   ]
  },
  {
   "cell_type": "code",
   "execution_count": 55,
   "metadata": {},
   "outputs": [
    {
     "data": {
      "text/plain": [
       "0         Stones\n",
       "1        Beatles\n",
       "2      The Doors\n",
       "3     Pink Floyd\n",
       "4       Zeppelin\n",
       "17       The Who\n",
       "dtype: object"
      ]
     },
     "execution_count": 55,
     "metadata": {},
     "output_type": "execute_result"
    }
   ],
   "source": [
    "bands[17] = \"The Who\"\n",
    "bands"
   ]
  },
  {
   "cell_type": "markdown",
   "metadata": {},
   "source": [
    "We can also use a function to set the value:"
   ]
  },
  {
   "cell_type": "code",
   "execution_count": 56,
   "metadata": {},
   "outputs": [
    {
     "data": {
      "text/plain": [
       "0         Stones\n",
       "1        Beatles\n",
       "2      The Doors\n",
       "3     Pink Floyd\n",
       "4       Zeppelin\n",
       "17       The Who\n",
       "9        Hendrix\n",
       "dtype: object"
      ]
     },
     "execution_count": 56,
     "metadata": {},
     "output_type": "execute_result"
    }
   ],
   "source": [
    "bands.at[9] = \"Hendrix\"\n",
    "bands"
   ]
  },
  {
   "cell_type": "markdown",
   "metadata": {},
   "source": [
    "When we update based on an index that occurs more than once, all instances are updated:"
   ]
  },
  {
   "cell_type": "code",
   "execution_count": 57,
   "metadata": {},
   "outputs": [
    {
     "data": {
      "text/plain": [
       "Stones        1962\n",
       "Beatles       1960\n",
       "Zeppelin      1968\n",
       "Pink Floyd    2015\n",
       "Pink Floyd    2015\n",
       "Name: Bands founded, dtype: int64"
      ]
     },
     "execution_count": 57,
     "metadata": {},
     "output_type": "execute_result"
    }
   ],
   "source": [
    "bands_founded[\"Pink Floyd\"] = 2015\n",
    "bands_founded"
   ]
  },
  {
   "cell_type": "markdown",
   "metadata": {},
   "source": [
    "A way to update a specific entry when an index is used multiple time is to use the `iloc` indexer. We can use the `iloc` array to set values based purely on position. However, all of this is rather ugly."
   ]
  },
  {
   "cell_type": "code",
   "execution_count": 58,
   "metadata": {},
   "outputs": [
    {
     "data": {
      "text/plain": [
       "Stones        1962\n",
       "Beatles       1960\n",
       "Zeppelin      1968\n",
       "Pink Floyd    1965\n",
       "Pink Floyd    2015\n",
       "Name: Bands founded, dtype: int64"
      ]
     },
     "execution_count": 58,
     "metadata": {},
     "output_type": "execute_result"
    }
   ],
   "source": [
    "bands_founded.iloc[3] = 1965\n",
    "bands_founded"
   ]
  },
  {
   "cell_type": "markdown",
   "metadata": {},
   "source": [
    "### Deleting \n",
    "\n",
    "Deleting is rarely done with pandas data structures, instead filters and masks are used. It's possible based on indices:"
   ]
  },
  {
   "cell_type": "code",
   "execution_count": 59,
   "metadata": {},
   "outputs": [
    {
     "data": {
      "text/plain": [
       "Beatles       1960\n",
       "Zeppelin      1968\n",
       "Pink Floyd    1965\n",
       "Pink Floyd    2015\n",
       "Name: Bands founded, dtype: int64"
      ]
     },
     "execution_count": 59,
     "metadata": {},
     "output_type": "execute_result"
    }
   ],
   "source": [
    "del bands_founded[\"Stones\"]\n",
    "bands_founded"
   ]
  },
  {
   "cell_type": "markdown",
   "metadata": {},
   "source": [
    "### Indexing and slicing\n",
    "\n",
    "Indexing and slicing works largely like in normal python, but instead of just directly using the bracket notations, it is recommended to use `iloc` for indexing by position and `loc` for indexing by index. "
   ]
  },
  {
   "cell_type": "code",
   "execution_count": 60,
   "metadata": {},
   "outputs": [
    {
     "data": {
      "text/plain": [
       "Zeppelin      1968\n",
       "Pink Floyd    1965\n",
       "Name: Bands founded, dtype: int64"
      ]
     },
     "execution_count": 60,
     "metadata": {},
     "output_type": "execute_result"
    }
   ],
   "source": [
    "# slicing by position\n",
    "bands_founded.iloc[1:3]"
   ]
  },
  {
   "cell_type": "markdown",
   "metadata": {},
   "source": [
    "When slicing by index, the last value specified is *included*, which differs from regular Python slicing behavior:"
   ]
  },
  {
   "cell_type": "code",
   "execution_count": 61,
   "metadata": {},
   "outputs": [
    {
     "data": {
      "text/plain": [
       "Zeppelin      1968\n",
       "Pink Floyd    1965\n",
       "Pink Floyd    2015\n",
       "Name: Bands founded, dtype: int64"
      ]
     },
     "execution_count": 61,
     "metadata": {},
     "output_type": "execute_result"
    }
   ],
   "source": [
    "# slicing by index\n",
    "bands_founded.loc[\"Zeppelin\" : \"Pink Floyd\"]"
   ]
  },
  {
   "cell_type": "code",
   "execution_count": 62,
   "metadata": {},
   "outputs": [
    {
     "data": {
      "text/plain": [
       "1        Beatles\n",
       "2      The Doors\n",
       "3     Pink Floyd\n",
       "4       Zeppelin\n",
       "17       The Who\n",
       "dtype: object"
      ]
     },
     "execution_count": 62,
     "metadata": {},
     "output_type": "execute_result"
    }
   ],
   "source": [
    "# Note that index 17 is included\n",
    "bands.loc[1:17]"
   ]
  },
  {
   "cell_type": "markdown",
   "metadata": {},
   "source": [
    "Both, `iloc` and `loc` can be used with arrays, which isn't possible in vanilla Python:"
   ]
  },
  {
   "cell_type": "code",
   "execution_count": 63,
   "metadata": {},
   "outputs": [
    {
     "data": {
      "text/plain": [
       "Beatles       1960\n",
       "Pink Floyd    2015\n",
       "Name: Bands founded, dtype: int64"
      ]
     },
     "execution_count": 63,
     "metadata": {},
     "output_type": "execute_result"
    }
   ],
   "source": [
    "bands_founded.iloc[[0,3]]"
   ]
  },
  {
   "cell_type": "code",
   "execution_count": 64,
   "metadata": {},
   "outputs": [
    {
     "data": {
      "text/plain": [
       "Beatles       1960\n",
       "Pink Floyd    1965\n",
       "Pink Floyd    2015\n",
       "Name: Bands founded, dtype: int64"
      ]
     },
     "execution_count": 64,
     "metadata": {},
     "output_type": "execute_result"
    }
   ],
   "source": [
    "bands_founded.loc[[\"Beatles\", \"Pink Floyd\"]]"
   ]
  },
  {
   "cell_type": "markdown",
   "metadata": {},
   "source": [
    "And, all these variants can also be used with boolean arrays, which we will soon find out to be very helpful:"
   ]
  },
  {
   "cell_type": "code",
   "execution_count": 65,
   "metadata": {},
   "outputs": [
    {
     "data": {
      "text/plain": [
       "Beatles       1960\n",
       "Zeppelin      1968\n",
       "Pink Floyd    1965\n",
       "Pink Floyd    2015\n",
       "Name: Bands founded, dtype: int64"
      ]
     },
     "execution_count": 65,
     "metadata": {},
     "output_type": "execute_result"
    }
   ],
   "source": [
    "bands_founded"
   ]
  },
  {
   "cell_type": "code",
   "execution_count": 66,
   "metadata": {},
   "outputs": [
    {
     "data": {
      "text/plain": [
       "Beatles       1960\n",
       "Pink Floyd    2015\n",
       "Name: Bands founded, dtype: int64"
      ]
     },
     "execution_count": 66,
     "metadata": {},
     "output_type": "execute_result"
    }
   ],
   "source": [
    "bands_founded.loc[[True, False, False, True]]"
   ]
  },
  {
   "cell_type": "markdown",
   "metadata": {},
   "source": [
    "### Masking and Filtering\n",
    "\n",
    "With pandas we can create boolean arrays that we can use to mask and filter a dataset. In the following expression, we'll create a new array that has \"True\" for every band formed after 1964:"
   ]
  },
  {
   "cell_type": "code",
   "execution_count": 67,
   "metadata": {},
   "outputs": [
    {
     "data": {
      "text/plain": [
       "Beatles       False\n",
       "Zeppelin       True\n",
       "Pink Floyd     True\n",
       "Pink Floyd     True\n",
       "Name: Bands founded, dtype: bool"
      ]
     },
     "execution_count": 67,
     "metadata": {},
     "output_type": "execute_result"
    }
   ],
   "source": [
    "mask = bands_founded > 1964\n",
    "mask"
   ]
  },
  {
   "cell_type": "markdown",
   "metadata": {},
   "source": [
    "This uses a technique called **broadcasting**. We can use broadcasting with various operations:"
   ]
  },
  {
   "cell_type": "code",
   "execution_count": 68,
   "metadata": {},
   "outputs": [
    {
     "data": {
      "text/plain": [
       "Beatles       23520\n",
       "Zeppelin      23616\n",
       "Pink Floyd    23580\n",
       "Pink Floyd    24180\n",
       "Name: Bands founded, dtype: int64"
      ]
     },
     "execution_count": 68,
     "metadata": {},
     "output_type": "execute_result"
    }
   ],
   "source": [
    "# Not particularly useful for this dataset..\n",
    "founding_months = bands_founded * 12\n",
    "founding_months"
   ]
  },
  {
   "cell_type": "markdown",
   "metadata": {},
   "source": [
    "We can use a boolean mask to filter a series, as we've seen before:"
   ]
  },
  {
   "cell_type": "code",
   "execution_count": 69,
   "metadata": {},
   "outputs": [
    {
     "data": {
      "text/plain": [
       "Zeppelin      1968\n",
       "Pink Floyd    1965\n",
       "Pink Floyd    2015\n",
       "Name: Bands founded, dtype: int64"
      ]
     },
     "execution_count": 69,
     "metadata": {},
     "output_type": "execute_result"
    }
   ],
   "source": [
    "# applying the mask to the original array\n",
    "# note that almost all of those operations return a new copy and don't modify in place\n",
    "bands_founded[mask]"
   ]
  },
  {
   "cell_type": "markdown",
   "metadata": {},
   "source": [
    "The short form here would be:"
   ]
  },
  {
   "cell_type": "markdown",
   "metadata": {},
   "source": [
    "# THIS IS SUPER USEFUL AND IMPORTANT!!!"
   ]
  },
  {
   "cell_type": "code",
   "execution_count": 70,
   "metadata": {
    "scrolled": true
   },
   "outputs": [
    {
     "data": {
      "text/plain": [
       "Zeppelin      1968\n",
       "Pink Floyd    2015\n",
       "Name: Bands founded, dtype: int64"
      ]
     },
     "execution_count": 70,
     "metadata": {},
     "output_type": "execute_result"
    }
   ],
   "source": [
    "bands_founded[bands_founded > 1967]"
   ]
  },
  {
   "cell_type": "markdown",
   "metadata": {},
   "source": [
    "**This is a super useful thing.  We'll use it to select rows from tables a lot!**"
   ]
  },
  {
   "cell_type": "markdown",
   "metadata": {},
   "source": [
    "## Exploring a Series\n",
    "\n",
    "There are various way we can explore a series. We can count the number of non-null values: "
   ]
  },
  {
   "cell_type": "code",
   "execution_count": 91,
   "metadata": {},
   "outputs": [
    {
     "name": "stdout",
     "output_type": "stream",
     "text": [
      "6\n",
      "7\n"
     ]
    }
   ],
   "source": [
    "numbers = pd.Series([1962, 1960, 1968, 1965, 2012, None, 2016])\n",
    "print(numbers.count())\n",
    "print(len(numbers))"
   ]
  },
  {
   "cell_type": "code",
   "execution_count": 72,
   "metadata": {},
   "outputs": [
    {
     "data": {
      "text/plain": [
       "0    1962.0\n",
       "1    1960.0\n",
       "2    1968.0\n",
       "3    1965.0\n",
       "4    2012.0\n",
       "5       NaN\n",
       "6    2016.0\n",
       "dtype: float64"
      ]
     },
     "metadata": {},
     "output_type": "display_data"
    },
    {
     "data": {
      "text/plain": [
       "3"
      ]
     },
     "execution_count": 72,
     "metadata": {},
     "output_type": "execute_result"
    }
   ],
   "source": [
    "display(numbers)\n",
    "3"
   ]
  },
  {
   "cell_type": "markdown",
   "metadata": {},
   "source": [
    "We can get the sum, mean, median of a series:"
   ]
  },
  {
   "cell_type": "code",
   "execution_count": 73,
   "metadata": {},
   "outputs": [
    {
     "data": {
      "text/plain": [
       "11883.0"
      ]
     },
     "execution_count": 73,
     "metadata": {},
     "output_type": "execute_result"
    }
   ],
   "source": [
    "numbers.sum()"
   ]
  },
  {
   "cell_type": "code",
   "execution_count": 74,
   "metadata": {},
   "outputs": [
    {
     "data": {
      "text/plain": [
       "1980.5"
      ]
     },
     "execution_count": 74,
     "metadata": {},
     "output_type": "execute_result"
    }
   ],
   "source": [
    "numbers.mean()"
   ]
  },
  {
   "cell_type": "code",
   "execution_count": 75,
   "metadata": {},
   "outputs": [
    {
     "data": {
      "text/plain": [
       "1966.5"
      ]
     },
     "execution_count": 75,
     "metadata": {},
     "output_type": "execute_result"
    }
   ],
   "source": [
    "numbers.median()"
   ]
  },
  {
   "cell_type": "markdown",
   "metadata": {},
   "source": [
    "We can also get an overview of the statistical properties of a series: "
   ]
  },
  {
   "cell_type": "code",
   "execution_count": 76,
   "metadata": {},
   "outputs": [
    {
     "data": {
      "text/plain": [
       "count       6.000000\n",
       "mean     1980.500000\n",
       "std        26.120873\n",
       "min      1960.000000\n",
       "25%      1962.750000\n",
       "50%      1966.500000\n",
       "75%      2001.000000\n",
       "max      2016.000000\n",
       "dtype: float64"
      ]
     },
     "execution_count": 76,
     "metadata": {},
     "output_type": "execute_result"
    }
   ],
   "source": [
    "numbers.describe()"
   ]
  },
  {
   "cell_type": "markdown",
   "metadata": {},
   "source": [
    "Note that None/NaN values are ignored here. We can drop all NaN values if we desire:"
   ]
  },
  {
   "cell_type": "code",
   "execution_count": 77,
   "metadata": {
    "scrolled": true
   },
   "outputs": [
    {
     "data": {
      "text/plain": [
       "0    1962.0\n",
       "1    1960.0\n",
       "2    1968.0\n",
       "3    1965.0\n",
       "4    2012.0\n",
       "6    2016.0\n",
       "dtype: float64"
      ]
     },
     "execution_count": 77,
     "metadata": {},
     "output_type": "execute_result"
    }
   ],
   "source": [
    "numbers = numbers.dropna()\n",
    "numbers"
   ]
  },
  {
   "cell_type": "code",
   "execution_count": 78,
   "metadata": {},
   "outputs": [
    {
     "name": "stdout",
     "output_type": "stream",
     "text": [
      "this is the f function\n"
     ]
    }
   ],
   "source": [
    "def f(x):\n",
    "    'this is the f function'\n",
    "    return 3\n",
    "print(f.__doc__)"
   ]
  },
  {
   "cell_type": "markdown",
   "metadata": {},
   "source": [
    "This works also for non-numerical data. Of course, we get different measures:"
   ]
  },
  {
   "cell_type": "code",
   "execution_count": 79,
   "metadata": {},
   "outputs": [
    {
     "data": {
      "text/plain": [
       "count           7\n",
       "unique          7\n",
       "top       Hendrix\n",
       "freq            1\n",
       "dtype: object"
      ]
     },
     "execution_count": 79,
     "metadata": {},
     "output_type": "execute_result"
    }
   ],
   "source": [
    "bands.describe()"
   ]
  },
  {
   "cell_type": "markdown",
   "metadata": {},
   "source": [
    "Other useful methods are asking for a specific quantile, the minimum, the maximum, etc. "
   ]
  },
  {
   "cell_type": "code",
   "execution_count": 80,
   "metadata": {},
   "outputs": [
    {
     "data": {
      "text/plain": [
       "1962.75"
      ]
     },
     "execution_count": 80,
     "metadata": {},
     "output_type": "execute_result"
    }
   ],
   "source": [
    "numbers.quantile(0.25)"
   ]
  },
  {
   "cell_type": "code",
   "execution_count": 81,
   "metadata": {},
   "outputs": [
    {
     "data": {
      "text/plain": [
       "2016.0"
      ]
     },
     "execution_count": 81,
     "metadata": {},
     "output_type": "execute_result"
    }
   ],
   "source": [
    "numbers.max()"
   ]
  },
  {
   "cell_type": "code",
   "execution_count": 82,
   "metadata": {},
   "outputs": [
    {
     "data": {
      "text/plain": [
       "1960.0"
      ]
     },
     "execution_count": 82,
     "metadata": {},
     "output_type": "execute_result"
    }
   ],
   "source": [
    "numbers.min()"
   ]
  },
  {
   "cell_type": "markdown",
   "metadata": {
    "collapsed": true
   },
   "source": [
    "## Sorting \n",
    "\n",
    "We can sort a series:"
   ]
  },
  {
   "cell_type": "code",
   "execution_count": 83,
   "metadata": {
    "scrolled": true
   },
   "outputs": [
    {
     "data": {
      "text/plain": [
       "1    1960.0\n",
       "0    1962.0\n",
       "3    1965.0\n",
       "2    1968.0\n",
       "4    2012.0\n",
       "6    2016.0\n",
       "dtype: float64"
      ]
     },
     "execution_count": 83,
     "metadata": {},
     "output_type": "execute_result"
    }
   ],
   "source": [
    "numbers.sort_values()"
   ]
  },
  {
   "cell_type": "code",
   "execution_count": 84,
   "metadata": {},
   "outputs": [
    {
     "name": "stdout",
     "output_type": "stream",
     "text": [
      "1962.0\n",
      "1960.0\n"
     ]
    }
   ],
   "source": [
    "sorted_nums = numbers.sort_values()\n",
    "print(sorted_nums[0])\n",
    "print(sorted_nums.iloc[0])\n"
   ]
  },
  {
   "cell_type": "code",
   "execution_count": 85,
   "metadata": {},
   "outputs": [
    {
     "data": {
      "text/plain": [
       "6    2016.0\n",
       "4    2012.0\n",
       "2    1968.0\n",
       "3    1965.0\n",
       "0    1962.0\n",
       "1    1960.0\n",
       "dtype: float64"
      ]
     },
     "execution_count": 85,
     "metadata": {},
     "output_type": "execute_result"
    }
   ],
   "source": [
    "sorted_numbers = numbers.sort_values(ascending=False)\n",
    "sorted_numbers"
   ]
  },
  {
   "cell_type": "markdown",
   "metadata": {},
   "source": [
    "Note that the indices remain constant. We can **reset the indices**:"
   ]
  },
  {
   "cell_type": "code",
   "execution_count": 86,
   "metadata": {},
   "outputs": [
    {
     "data": {
      "text/plain": [
       "0    2016.0\n",
       "1    2012.0\n",
       "2    1968.0\n",
       "3    1965.0\n",
       "4    1962.0\n",
       "5    1960.0\n",
       "dtype: float64"
      ]
     },
     "execution_count": 86,
     "metadata": {},
     "output_type": "execute_result"
    }
   ],
   "source": [
    "# If we don't specify drop to be true, the previous indices are preserved in a separte column\n",
    "sorted_numbers = sorted_numbers.reset_index(drop=True)\n",
    "sorted_numbers"
   ]
  },
  {
   "cell_type": "markdown",
   "metadata": {},
   "source": [
    "We can also sort by the index:"
   ]
  },
  {
   "cell_type": "code",
   "execution_count": 87,
   "metadata": {},
   "outputs": [
    {
     "name": "stdout",
     "output_type": "stream",
     "text": [
      "1    1960.0\n",
      "0    1962.0\n",
      "3    1965.0\n",
      "2    1968.0\n",
      "4    2012.0\n",
      "6    2016.0\n",
      "dtype: float64\n"
     ]
    },
    {
     "data": {
      "text/plain": [
       "0    1962.0\n",
       "1    1960.0\n",
       "2    1968.0\n",
       "3    1965.0\n",
       "4    2012.0\n",
       "6    2016.0\n",
       "dtype: float64"
      ]
     },
     "execution_count": 87,
     "metadata": {},
     "output_type": "execute_result"
    }
   ],
   "source": [
    "# mix up the indices first\n",
    "new_sorted_numbers = numbers.sort_values()\n",
    "print(new_sorted_numbers)\n",
    "new_sorted_numbers.sort_index()"
   ]
  },
  {
   "cell_type": "markdown",
   "metadata": {},
   "source": [
    "## Applying a Function\n",
    "\n",
    "Often, we will want to apply a function to all values of a Series. We can do that with the map function:"
   ]
  },
  {
   "cell_type": "code",
   "execution_count": 88,
   "metadata": {},
   "outputs": [
    {
     "data": {
      "text/plain": [
       "1    1960-01-01\n",
       "0    1962-01-01\n",
       "3    1965-01-01\n",
       "2    1968-01-01\n",
       "4    2012-01-01\n",
       "6    2016-01-01\n",
       "dtype: object"
      ]
     },
     "execution_count": 88,
     "metadata": {},
     "output_type": "execute_result"
    }
   ],
   "source": [
    "import datetime\n",
    "\n",
    "# Convert an integer year into a date, assuming Jan 1 as day and month.\n",
    "def to_date(year):\n",
    "    return datetime.date(int(year), 1, 1)\n",
    "    \n",
    "new_sorted_numbers.map(to_date)"
   ]
  },
  {
   "cell_type": "markdown",
   "metadata": {},
   "source": [
    "This is an incredibly powerful concept that you can use to modify series in sophisticated ways.\n",
    "\n",
    "Another way to use the map function is to pass in a dictionary that is then applied to matching objects: "
   ]
  },
  {
   "cell_type": "code",
   "execution_count": 89,
   "metadata": {},
   "outputs": [
    {
     "data": {
      "text/plain": [
       "1     NaN\n",
       "0     NaN\n",
       "3    1945\n",
       "2    What\n",
       "4    1999\n",
       "6     NaN\n",
       "dtype: object"
      ]
     },
     "execution_count": 89,
     "metadata": {},
     "output_type": "execute_result"
    }
   ],
   "source": [
    "new_sorted_numbers.map({1965:1945, 2012:1999, 1968:\"What\"})"
   ]
  },
  {
   "cell_type": "markdown",
   "metadata": {},
   "source": [
    "## Conclusion\n",
    "\n",
    "Series (and data frames, which we will tackle in the next lab) are incredibly powerful. We've only covered a small part of the features here. Make sure to also check out resources such as the [10 minutes to pandas guide](http://pandas.pydata.org/pandas-docs/stable/10min.html)."
   ]
  },
  {
   "cell_type": "markdown",
   "metadata": {},
   "source": [
    "### Exercise 4: Pandas Series\n",
    "\n",
    "Create a new pandas series with the lists given below that contain NFL team names and the number of Super Bowl titles they won. Use the names as indices, the wins as the data.\n",
    "\n",
    " * Once the list is created, sort the series alphabetically by index. \n",
    " * Print an overview of the statistical properties of the series. What's the mean number of wins?\n",
    " * Filter out all teams that have won less than four Super Bowl titles\n",
    " * A football team has 45 players. Update the series so that instead of the number of titles, it reflects the number of Super Bowl rings given to the players. \n",
    " * Assume that each ring costs \\$ 30,000. Update the series so that it contains a string of the dollar amount including the \\$ sign. For the Steelers, for example, this would correspond to: \n",
    " ```\n",
    " Pittsburgh Steelers             $ 8100000\n",
    " ```\n"
   ]
  },
  {
   "cell_type": "code",
   "execution_count": 90,
   "metadata": {},
   "outputs": [],
   "source": [
    "teams = [\"Pittsburgh Steelers\",\n",
    "\"New England Patriots\",\n",
    "\"Dallas Cowboys\",\n",
    "\"San Francisco 49ers\",\n",
    "\"Green Bay Packers\",\n",
    "\"New York Giants\",\n",
    "\"Denver Broncos\",\n",
    "\"Oakland/Los Angeles Raiders\",\n",
    "\"Washington Redskins\",\n",
    "\"Miami Dolphins\",\n",
    "\"Baltimore/Indianapolis Colts\",\n",
    "\"Baltimore Ravens\"]\n",
    "wins = [6,6,5,5,4,4,3,3,3,2,2,2]"
   ]
  },
  {
   "cell_type": "code",
   "execution_count": 90,
   "metadata": {},
   "outputs": [],
   "source": [
    "\n",
    "    "
   ]
  },
  {
   "cell_type": "code",
   "execution_count": null,
   "metadata": {},
   "outputs": [],
   "source": []
  }
 ],
 "metadata": {
  "anaconda-cloud": {},
  "kernelspec": {
   "display_name": "Python 3 (ipykernel)",
   "language": "python",
   "name": "python3"
  },
  "language_info": {
   "codemirror_mode": {
    "name": "ipython",
    "version": 3
   },
   "file_extension": ".py",
   "mimetype": "text/x-python",
   "name": "python",
   "nbconvert_exporter": "python",
   "pygments_lexer": "ipython3",
   "version": "3.11.3"
  },
  "nbpresent": {
   "slides": {
    "19a6495f-8346-4b23-a98a-c7115941e8f0": {
     "id": "19a6495f-8346-4b23-a98a-c7115941e8f0",
     "prev": null,
     "regions": {
      "d6523b36-7204-4001-8a6c-37c431b18d26": {
       "attrs": {
        "height": 1,
        "width": 1,
        "x": 0,
        "y": 0
       },
       "id": "d6523b36-7204-4001-8a6c-37c431b18d26"
      }
     }
    }
   },
   "themes": {}
  }
 },
 "nbformat": 4,
 "nbformat_minor": 1
}
