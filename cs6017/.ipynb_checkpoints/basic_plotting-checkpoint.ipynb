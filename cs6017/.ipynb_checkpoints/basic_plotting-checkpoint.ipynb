{
 "cells": [
  {
   "cell_type": "markdown",
   "metadata": {},
   "source": [
    "# Basic Plotting\n",
    "Adapted from *COMP 5369 / MATH 4100, University of Utah, http://datasciencecourse.net/*\n",
    "\n",
    "To be frank: the Python data visualization environment is a MESS. It remindes me of this: \n",
    "\n",
    "\n",
    "![](standards.png)\n",
    "\n",
    "### Matplotlib & Extensions\n",
    "\n",
    " * [Matplotlib](https://matplotlib.org/) - the elephant in the room\n",
    " * [Pandas Visualization](https://pandas.pydata.org/pandas-docs/stable/visualization.html) - based on Matplotlib\n",
    " * [Seaborn](https://seaborn.pydata.org/) - based on Matplotlib, higher-level\n",
    " * [ggplot](http://ggplot.yhathq.com/) - based on the popular R plotting library, some similarites, uses Matplotlib.\n",
    " \n",
    "These tools generally can be used to create figures independent of Jupyter. \n",
    " \n",
    "### Web-based Vis tools\n",
    "\n",
    " * [Bokeh](https://bokeh.pydata.org/en/latest/)\n",
    " * [Plotly](https://plot.ly/python/)\n",
    " * [Altair](https://github.com/altair-viz/altair), based on [Vega](https://vega.github.io/vega/) \n",
    " * [PdVega](https://jakevdp.github.io/pdvega/), based on Vega, integrated with pandas dataframes.\n",
    " \n",
    "These tools mostly rely on Jupyter running in your browser and use a JavaScript based language in the backend. \n",
    "\n",
    "There are also some domain specific libraries, e.g., for maps and for networks, that we will cover at a later point. \n",
    " \n",
    " \n",
    "There are also [many](https://www.dataquest.io/blog/python-data-visualization-libraries/) [blog](https://codeburst.io/overview-of-python-data-visualization-tools-e32e1f716d10) [posts](https://lisacharlotterost.github.io/2016/05/17/one-chart-code/) [comparing](https://blog.modeanalytics.com/python-data-visualization-libraries/) various data visualization libraries.\n",
    "\n",
    "Generally speaking, there are plotting libraries that have pre-made charts, and drawing libraries that allow you to freely express anything you can imagine. We will mainly cover the former, but as visualization reseaerchers we typically rely on tools that enable arbitrary expressivity, such as [D3](https://d3js.org/) or [WebGL](https://developer.mozilla.org/en-US/docs/Web/API/WebGL_API).\n",
    "\n",
    "We will start of with basic Matplotlib, explore the build-in pandas library, and then look at some more advanced tools."
   ]
  },
  {
   "cell_type": "markdown",
   "metadata": {},
   "source": [
    "## Matplotlib\n",
    "\n",
    "Matplotlib is a project started in 2002 and is inspired by MATLAB plotting. Matlab is a programming language/environment for doing numerical manipulation/analysis.  It's very powerful, but expensive, and a lot of the functionality is availble in open source software (numpy/scipy/matplotlib, the R language, etc)"
   ]
  },
  {
   "cell_type": "code",
   "execution_count": null,
   "metadata": {},
   "outputs": [],
   "source": [
    "import pandas as pd\n",
    "import numpy as np\n",
    "# import matplotlib\n",
    "import matplotlib.pyplot as plt\n",
    "\n",
    "# remember, code after a % is ipython specific instructions\n",
    "# this command tells Jupyter/ipython that we want to create the visualizations\n",
    "# inline in this notebook instead of as files to save.\n",
    "# %matplotlib inline\n",
    "# it might not actually be necessary...\n",
    "\n",
    "# Some \"styling\"\n",
    "_ = plt.figure(figsize=(4, 3))\n",
    "plt.style.use('ggplot')\n",
    "\n",
    "# Here we run a simple plot command to create a line chart\n",
    "# Note, if only 1D data, they become the Y values, and the index becomes the X value.\n",
    "plt.plot([1, 3, 2], \"bo-\")"
   ]
  },
  {
   "cell_type": "markdown",
   "metadata": {},
   "source": [
    "The `.plot` command uses a figure to plot in. If no figure has been defined, it will automatically create one. If there is already a figure, it will plot to the latest figure. \n",
    "\n",
    "Here we create a figure manually: "
   ]
  },
  {
   "cell_type": "code",
   "execution_count": null,
   "metadata": {},
   "outputs": [],
   "source": [
    "# we create a figure with size 10 by 10 inches\n",
    "fig = plt.figure( figsize=(10, 10) )"
   ]
  },
  {
   "cell_type": "markdown",
   "metadata": {},
   "source": [
    "The figure by itself doesn't plot anyhing. We have to add a subplot to it. "
   ]
  },
  {
   "cell_type": "code",
   "execution_count": null,
   "metadata": {},
   "outputs": [],
   "source": [
    "# figsize defines the size of the plot in inches - 10 wide by 8 high here. \n",
    "fig = plt.figure(figsize=(5, 3))\n",
    "# add a suplot to an grid 1x1, return the 1st figure\n",
    "my_plot = fig.add_subplot( 1, 1, 1 )\n",
    "my_plot.plot( [1, 3, 2] )"
   ]
  },
  {
   "cell_type": "markdown",
   "metadata": {},
   "source": [
    "Here we add a title and axis labels: "
   ]
  },
  {
   "cell_type": "code",
   "execution_count": null,
   "metadata": {},
   "outputs": [],
   "source": [
    "fig = plt.figure( figsize=(4, 3) )\n",
    "my_plot = fig.add_subplot( 1, 1, 1 )\n",
    "my_plot.plot( [ 1, 3, 2 ] )\n",
    "fig.suptitle( 'My Line Chart', fontsize=12, fontweight='bold' )\n",
    "\n",
    "my_plot.set_xlabel( \"My sequence\" )\n",
    "my_plot.set_ylabel( \"My values\" )\n",
    "my_plot.plot( [1, 3, 2] )"
   ]
  },
  {
   "cell_type": "markdown",
   "metadata": {},
   "source": [
    "Now let's create a figure with multiple subplots:"
   ]
  },
  {
   "cell_type": "code",
   "execution_count": null,
   "metadata": {},
   "outputs": [],
   "source": [
    "fig = plt.figure(figsize=(7, 5))\n",
    "# create a subplot in a 2 by 2 grid, return the subplot at position 1\n",
    "# these subplots are often called \"axes\"\n",
    "sub_fig_1 = fig.add_subplot( 2,2,1 ) # 1-based counting\n",
    "sub_fig_2 = fig.add_subplot( 2,2,2 )\n",
    "sub_fig_3 = fig.add_subplot( 2,2,3 )\n",
    "\n",
    "# This will plot to the last figure used, k-- is a style option for black dashed\n",
    "# You shouldn't do this - rather use explicit subplot references if you have them\n",
    "plt.plot( [3, 4, 6, 2], \"k--\" )\n",
    "\n",
    "# Here I can plot explicitly to a figure:\n",
    "sub_fig_1.plot( range(0,10) )\n",
    "\n",
    "sub_fig_2.plot( np.random.randn(50).cumsum() )"
   ]
  },
  {
   "cell_type": "markdown",
   "metadata": {},
   "source": [
    "We can use the `subplots` shorthand to create multiple subplots that we can access form an array. \n",
    "\n",
    "We're also trying out a couple of different visualziation techniques: "
   ]
  },
  {
   "cell_type": "markdown",
   "metadata": {},
   "source": [
    " * [Scatterplot](https://matplotlib.org/api/_as_gen/matplotlib.pyplot.scatter.html#matplotlib.pyplot.scatter)  \n",
    " * [Vertical Bar Chart](https://matplotlib.org/api/_as_gen/matplotlib.pyplot.bar.html#matplotlib.pyplot.bar)\n",
    " * [Horizontal Bar Chart](https://matplotlib.org/api/_as_gen/matplotlib.pyplot.barh.html#matplotlib.pyplot.barh)\n",
    " * [Boxplot](https://matplotlib.org/api/_as_gen/matplotlib.pyplot.boxplot.html#matplotlib.pyplot.boxplot)\n",
    " * [Pie Chart](https://matplotlib.org/api/_as_gen/matplotlib.pyplot.pie.html#matplotlib.pyplot.pie)"
   ]
  },
  {
   "cell_type": "markdown",
   "metadata": {},
   "source": [
    "# Bookmark this one"
   ]
  },
  {
   "cell_type": "code",
   "execution_count": null,
   "metadata": {
    "scrolled": true
   },
   "outputs": [],
   "source": [
    "def sample_figures():\n",
    "    fig, subfigs = plt.subplots(2, 3, figsize=(9, 6))\n",
    "\n",
    "    # pass two arrays in the same order\n",
    "    subfigs[0,0].scatter(range(0,10),range(10,0,-1))\n",
    "    # first array is index, second is data\n",
    "    subfigs[0,1].bar([\"what\", \"2\", \"3\"], [1, 2, 3])\n",
    "    subfigs[0,2].barh([0, 2, 3], [1, 2, 3])\n",
    "    # we create two box plots\n",
    "    subfigs[1,0].boxplot([np.random.randn(200), np.random.randn(200)] )\n",
    "    # histogram takes one array\n",
    "    subfigs[1,1].hist(np.random.randn(100))\n",
    "    \n",
    "    subfigs[1,2].pie([1, 5, 10], labels=[\"blackberry\", \"ios\", \"android\"], autopct='%1.1f%%')\n",
    "\n",
    "fig = plt.figure(figsize=(10, 10))\n",
    "sample_figures()"
   ]
  },
  {
   "cell_type": "markdown",
   "metadata": {},
   "source": [
    "### Heat Maps\n",
    "\n",
    "Heat maps encoded matrix/tabular data using color. There are two ways to implement heatmaps in Matplotlib:\n",
    "\n",
    " * [pcolor](https://matplotlib.org/devdocs/api/_as_gen/matplotlib.pyplot.pcolor.html)\n",
    " * [imshow](https://matplotlib.org/api/_as_gen/matplotlib.pyplot.imshow.html)\n",
    "\n",
    "imshow is used to display images (which are just matrices). In practice, imshow and pcolor differ mainly in their coordinate system: the origin of imshow is at the top left (as is common for images), the origin of pcolor is at the bottom left.\n",
    "\n",
    "For heatmaps, we need a [color map](https://matplotlib.org/tutorials/colors/colormaps.html). Matplotlib has many color maps baked in, also those from http://colorbrewer.org."
   ]
  },
  {
   "cell_type": "code",
   "execution_count": null,
   "metadata": {},
   "outputs": [],
   "source": [
    "def gkern( l=5, sig=1. ):\n",
    "    \"\"\"\n",
    "    creates gaussian kernel with side length l and a sigma of sig\n",
    "    \"\"\"\n",
    "    ax = np.arange( -l // 2 + 1., l // 2 + 1. )\n",
    "    xx, yy = np.meshgrid( ax, ax )\n",
    "    kernel = np.exp( -(xx**2 + yy**2) / (2. * sig**2) )\n",
    "    return kernel / np.sum( kernel )\n",
    "\n",
    "kernel = gkern( 20, 5 )\n",
    "\n",
    "print( kernel.shape )\n"
   ]
  },
  {
   "cell_type": "code",
   "execution_count": null,
   "metadata": {},
   "outputs": [],
   "source": [
    "plt.style.use( 'default' )\n",
    "# select a blue color map\n",
    "heatmap = plt.pcolor( kernel )#, cmap=plt.cm.Blues )\n",
    "# plot the legend on the side\n",
    "plt.colorbar( heatmap )\n"
   ]
  },
  {
   "cell_type": "code",
   "execution_count": null,
   "metadata": {},
   "outputs": [],
   "source": [
    "hm = plt.imshow( kernel, cmap='hot' )\n",
    "plt.colorbar( hm )"
   ]
  },
  {
   "cell_type": "code",
   "execution_count": null,
   "metadata": {},
   "outputs": [],
   "source": [
    "# a diverging color map from Color Brewer\n",
    "heatmap = plt.pcolor( kernel, cmap=plt.cm.PuBuGn )\n",
    "plt.colorbar( heatmap )"
   ]
  },
  {
   "cell_type": "markdown",
   "metadata": {},
   "source": [
    "### Styling\n",
    "\n",
    "Matplotlib has [different styles](https://matplotlib.org/devdocs/gallery/style_sheets/style_sheets_reference.html) that we can apply globally.\n",
    "\n",
    "Here are a couple of examples:"
   ]
  },
  {
   "cell_type": "code",
   "execution_count": null,
   "metadata": {},
   "outputs": [],
   "source": [
    "plt.style.use( 'default' )\n",
    "sample_figures()"
   ]
  },
  {
   "cell_type": "code",
   "execution_count": null,
   "metadata": {},
   "outputs": [],
   "source": [
    "plt.style.use( 'ggplot' )\n",
    "sample_figures()"
   ]
  },
  {
   "cell_type": "code",
   "execution_count": null,
   "metadata": {},
   "outputs": [],
   "source": [
    "plt.style.use('seaborn')\n",
    "sample_figures()"
   ]
  },
  {
   "cell_type": "code",
   "execution_count": null,
   "metadata": {},
   "outputs": [],
   "source": [
    "plt.style.use('grayscale')\n",
    "sample_figures()"
   ]
  },
  {
   "cell_type": "markdown",
   "metadata": {},
   "source": [
    "## Plotting with Pandas\n",
    "\n",
    "Pandas has good [built-in plotting capabilities](http://pandas.pydata.org/pandas-docs/version/0.15.0/visualization.html). We've seen some already in previous lectures. "
   ]
  },
  {
   "cell_type": "code",
   "execution_count": null,
   "metadata": {},
   "outputs": [],
   "source": [
    "plt.style.use( 'ggplot' )\n",
    "pd_movies = pd.read_csv( 'movies.csv' )\n",
    "# pd_movies[ \"Drama\" ] = pd_movies[\"Drama\"].astype( 'bool' )\n",
    "pd_movies.head()\n",
    "# pd_movies.describe()\n",
    "# pd_movies.columns"
   ]
  },
  {
   "cell_type": "markdown",
   "metadata": {},
   "source": [
    "### Line Chart"
   ]
  },
  {
   "cell_type": "code",
   "execution_count": null,
   "metadata": {},
   "outputs": [],
   "source": [
    "major_movies = pd_movies[ pd_movies[ 'votes' ] >= 500 ]\n",
    "\n",
    "print( \"Number of movies:\", pd_movies.shape[0] )\n",
    "\n",
    "# display( major_movies[ \"year\" ].sort_values() )\n",
    "\n",
    "yearly_movies = major_movies[ \"year\" ].value_counts().sort_index()\n",
    "#yearly_movies"
   ]
  },
  {
   "cell_type": "code",
   "execution_count": null,
   "metadata": {},
   "outputs": [],
   "source": [
    "yearly_movies.plot()"
   ]
  },
  {
   "cell_type": "markdown",
   "metadata": {},
   "source": [
    "### Histogram"
   ]
  },
  {
   "cell_type": "code",
   "execution_count": null,
   "metadata": {},
   "outputs": [],
   "source": [
    "_ = major_movies.hist( \"rating\", alpha=0.7 ) # bins=79\n",
    "# major_movies[\"rating\"].describe()"
   ]
  },
  {
   "cell_type": "code",
   "execution_count": null,
   "metadata": {},
   "outputs": [],
   "source": [
    "#you can also pass a series to matplotlib functions, but if you can use pandas stuff,\n",
    "#do so, since it can keep more context info and can make some stuff easier\n",
    "plt.hist( major_movies[\"rating\"] )"
   ]
  },
  {
   "cell_type": "markdown",
   "metadata": {},
   "source": [
    "### Bar Chart\n",
    "\n",
    "We'll show a bar chart for the first 10 movies"
   ]
  },
  {
   "cell_type": "code",
   "execution_count": null,
   "metadata": {},
   "outputs": [],
   "source": [
    "subset = major_movies.set_index( \"title\" )\n",
    "subset = subset.iloc[ 0:10 ]\n",
    "subset"
   ]
  },
  {
   "cell_type": "code",
   "execution_count": null,
   "metadata": {},
   "outputs": [],
   "source": [
    "_ = subset[ \"rating\" ].plot( kind=\"bar\" )"
   ]
  },
  {
   "cell_type": "code",
   "execution_count": null,
   "metadata": {},
   "outputs": [],
   "source": [
    "subset[[\"r1\", \"r2\", \"r3\"]].plot( kind=\"barh\" )"
   ]
  },
  {
   "cell_type": "code",
   "execution_count": null,
   "metadata": {},
   "outputs": [],
   "source": [
    "subset[[\"r1\", \"r2\", \"r3\"]].plot(kind=\"barh\", stacked=True)"
   ]
  },
  {
   "cell_type": "markdown",
   "metadata": {},
   "source": [
    "### Scatterplot\n",
    "\n",
    "We can plot a scatterplot, comparing ratings of movies over time:"
   ]
  },
  {
   "cell_type": "code",
   "execution_count": null,
   "metadata": {},
   "outputs": [],
   "source": [
    "# plt.figure( figsize=(2, 2) )\n",
    "_ = major_movies.plot.scatter( \"year\", \"rating\", figsize=(12, 6) )"
   ]
  },
  {
   "cell_type": "markdown",
   "metadata": {},
   "source": [
    "However, here we might overplot some points in more recent years. We can fix that with an alpha value:"
   ]
  },
  {
   "cell_type": "code",
   "execution_count": null,
   "metadata": {},
   "outputs": [],
   "source": [
    "major_movies.plot.scatter(\"year\", \"rating\", figsize=(15, 10), alpha=0.4)"
   ]
  },
  {
   "cell_type": "markdown",
   "metadata": {},
   "source": [
    "### Box Plot\n",
    "\n",
    "Let's plot a box plot of the ratings"
   ]
  },
  {
   "cell_type": "code",
   "execution_count": null,
   "metadata": {},
   "outputs": [],
   "source": [
    "plt.style.use('ggplot')\n",
    "major_movies[[\"length\"]].plot(kind=\"box\") # , showfliers=False)"
   ]
  },
  {
   "cell_type": "markdown",
   "metadata": {},
   "source": [
    "Obviously, these outliers are dominating the scale. If we want to remove these extreme outliers, we can do that:"
   ]
  },
  {
   "cell_type": "code",
   "execution_count": null,
   "metadata": {},
   "outputs": [],
   "source": [
    "#mask = major_movies[[\"r1\", \"r2\", \"r3\", \"r4\"]]>10\n",
    "length = major_movies[[\"length\"]]\n",
    "length = length.where(length < 150, None)"
   ]
  },
  {
   "cell_type": "code",
   "execution_count": null,
   "metadata": {},
   "outputs": [],
   "source": [
    "length.plot(kind=\"box\")"
   ]
  },
  {
   "cell_type": "markdown",
   "metadata": {},
   "source": [
    "## Set Visualization\n",
    "\n",
    "\n",
    "We van draw an area-proportional Venn Diagram using [Matplotlib-Venn](https://pypi.python.org/pypi/matplotlib-venn) \n",
    "\n",
    "This is a custom package, so we have to install it: \n",
    "\n",
    "```\n",
    "$/usr/local/bin/pip3 install matplotlib-venn\n",
    "```"
   ]
  },
  {
   "cell_type": "code",
   "execution_count": null,
   "metadata": {},
   "outputs": [],
   "source": [
    "from matplotlib_venn import venn3\n",
    "venn3(subsets = (4, 1, 1, 2, 1, 2, 2), set_labels = ('Set1', 'Set2', 'Set3'))"
   ]
  },
  {
   "cell_type": "markdown",
   "metadata": {},
   "source": [
    "Let's create a venn diagram with the genres from our movie dataset. "
   ]
  },
  {
   "cell_type": "code",
   "execution_count": null,
   "metadata": {},
   "outputs": [],
   "source": [
    "# Here we extract the sets\n",
    "def extract_sets(data_frame, set_labels):\n",
    "    data_dict = {};\n",
    "    for set_label in set_labels:\n",
    "        subset = data_frame[data_frame[set_label] == 1]\n",
    "        data_dict[set_label] = subset[\"title\"];\n",
    "    return data_dict\n",
    "\n",
    "data_dict = extract_sets(major_movies,[\"Action\", \"Drama\", \"Comedy\", \"Documentary\", \"Romance\"])"
   ]
  },
  {
   "cell_type": "code",
   "execution_count": null,
   "metadata": {},
   "outputs": [],
   "source": [
    "action = set(data_dict[\"Action\"].tolist())\n",
    "drama = set(data_dict[\"Drama\"].tolist())\n",
    "comedy = set(data_dict[\"Comedy\"].tolist())\n",
    "venn3([action, drama, comedy], (\"Action\", \"Drama\", \"Comedy\"))"
   ]
  },
  {
   "cell_type": "code",
   "execution_count": null,
   "metadata": {},
   "outputs": [],
   "source": []
  }
 ],
 "metadata": {
  "anaconda-cloud": {},
  "interpreter": {
   "hash": "8fcd46d531329f49b73a0948faa8aed429eb8dafd35203d9948e8358a307ba0e"
  },
  "kernelspec": {
   "display_name": "Python 3 (ipykernel)",
   "language": "python",
   "name": "python3"
  },
  "language_info": {
   "codemirror_mode": {
    "name": "ipython",
    "version": 3
   },
   "file_extension": ".py",
   "mimetype": "text/x-python",
   "name": "python",
   "nbconvert_exporter": "python",
   "pygments_lexer": "ipython3",
   "version": "3.11.3"
  }
 },
 "nbformat": 4,
 "nbformat_minor": 1
}
